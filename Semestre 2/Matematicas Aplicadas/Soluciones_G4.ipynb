{
  "nbformat": 4,
  "nbformat_minor": 0,
  "metadata": {
    "colab": {
      "provenance": [],
      "collapsed_sections": [
        "1aePaNW1gn_d",
        "sWs2ydPTptRX",
        "3nDltNEf2uKw",
        "Ks8Z7Fo19Cbw",
        "nf6-VOvJcGrE",
        "IOMVpqd_QkS6",
        "IaZbNe-EDI6O",
        "5KrKBXWgmcoc",
        "7f6GdkoBrcv9",
        "acxt0uR-x3oL",
        "9xDgyEJbF6fW",
        "L28tTEt6N2Jk",
        "pWAifOvbaBPa",
        "ULxKrS7s8UpB"
      ],
      "toc_visible": true
    },
    "kernelspec": {
      "name": "python3",
      "display_name": "Python 3"
    },
    "language_info": {
      "name": "python"
    }
  },
  "cells": [
    {
      "cell_type": "markdown",
      "source": [
        "# Problema 1"
      ],
      "metadata": {
        "id": "Jsg7AmugfdN3"
      }
    },
    {
      "cell_type": "markdown",
      "source": [
        "Considere la sucesión $a_{n} = 3n^{2} + 7$. Por medio de un código en *Python* despliega en pantalla:\n",
        "\n",
        "1. Los primeros $5$ términos.\n",
        "2. Los $5$ términos que vienen inmediatamente después del decimoquinto término."
      ],
      "metadata": {
        "id": "_IzpNklvfgKe"
      }
    },
    {
      "cell_type": "markdown",
      "source": [
        "## Solución"
      ],
      "metadata": {
        "id": "1aePaNW1gn_d"
      }
    },
    {
      "cell_type": "code",
      "source": [
        "a = []\n",
        "for i in range(20):\n",
        "  n = i + 1\n",
        "  a.append(3 * n**2 + 7)\n",
        "  if n == 1:\n",
        "    print('1) Los 5 primeros términos de la sucesión son:\\n')\n",
        "  elif n == 16:\n",
        "    print(' ')\n",
        "    print('2) Los 5 términos que vienen inmediatamente después del decimoquinto término son:\\n')\n",
        "\n",
        "  if n < 6 or n > 15:\n",
        "    print(f'a_{n} = {a[i]}')"
      ],
      "metadata": {
        "colab": {
          "base_uri": "https://localhost:8080/"
        },
        "id": "070-OM_EgBMN",
        "outputId": "61abefa7-d99a-4da3-9dc4-a06e339e79c4"
      },
      "execution_count": null,
      "outputs": [
        {
          "output_type": "stream",
          "name": "stdout",
          "text": [
            "1) Los 5 primeros términos de la sucesión son:\n",
            "\n",
            "a_1 = 10\n",
            "a_2 = 19\n",
            "a_3 = 34\n",
            "a_4 = 55\n",
            "a_5 = 82\n",
            " \n",
            "2) Los 5 términos que vienen inmediatamente después del décimoquinto término son:\n",
            "\n",
            "a_16 = 775\n",
            "a_17 = 874\n",
            "a_18 = 979\n",
            "a_19 = 1090\n",
            "a_20 = 1207\n"
          ]
        }
      ]
    },
    {
      "cell_type": "markdown",
      "source": [
        "# Problema 2"
      ],
      "metadata": {
        "id": "MpHLoYWfk97E"
      }
    },
    {
      "cell_type": "markdown",
      "source": [
        "Considere la sucesión $g_{n} = 5n^{3}$. Implemente un código en *Python* que muestre en pantalla:\n",
        "\n",
        "1. Los primeros $4$ términos de la sucesión.\n",
        "2. Los $4$ términos que vienen inmediatamente después del octavo término.\n",
        "3. Determinar si el término $40.000$ pertenece a la sucesión. Si es así, indicar en qué posición se encuentra."
      ],
      "metadata": {
        "id": "TdrPqS7Mk_l0"
      }
    },
    {
      "cell_type": "markdown",
      "source": [
        "## Solución"
      ],
      "metadata": {
        "id": "sWs2ydPTptRX"
      }
    },
    {
      "cell_type": "code",
      "source": [
        "g = []\n",
        "for i in range(12):\n",
        "  n = i + 1\n",
        "  g.append(5 * n**3)\n",
        "  if n == 1:\n",
        "    print('1) Los 4 primeros términos de la sucesión son:\\n')\n",
        "  elif n == 9:\n",
        "    print(' ')\n",
        "    print('2) Los 4 términos que vienen inmediatamente después del octavo término son:\\n')\n",
        "\n",
        "  if n < 5 or n > 8:\n",
        "    print(f'g_{n} = {g[i]}')"
      ],
      "metadata": {
        "colab": {
          "base_uri": "https://localhost:8080/"
        },
        "outputId": "1ebc8baa-fd70-461f-ba90-875edb08478e",
        "id": "HowPfi6AptRX"
      },
      "execution_count": null,
      "outputs": [
        {
          "output_type": "stream",
          "name": "stdout",
          "text": [
            "1) Los 4 primeros términos de la sucesión son:\n",
            "\n",
            "g_1 = 5\n",
            "g_2 = 40\n",
            "g_3 = 135\n",
            "g_4 = 320\n",
            " \n",
            "2) Los 4 términos que vienen inmediatamente después del octavo término son:\n",
            "\n",
            "g_9 = 3645\n",
            "g_10 = 5000\n",
            "g_11 = 6655\n",
            "g_12 = 8640\n"
          ]
        }
      ]
    },
    {
      "cell_type": "code",
      "source": [
        "final = 40000\n",
        "termino = 0\n",
        "n = 0\n",
        "dif = final - termino\n",
        "while dif > 0:\n",
        "    n += 1\n",
        "    termino = 5 * n**3\n",
        "    dif = final - termino\n",
        "if dif == 0:\n",
        "  print(f'3) El término {final} pertenece a la sucesión, se encuentra en la posición {n}.')\n",
        "else:\n",
        "  print(f'3) El término {final} no pertenece a la sucesión.')"
      ],
      "metadata": {
        "colab": {
          "base_uri": "https://localhost:8080/"
        },
        "id": "O5gb-Dvprj1C",
        "outputId": "ae561209-1c0c-46d9-ce18-ebc9e23456f0"
      },
      "execution_count": null,
      "outputs": [
        {
          "output_type": "stream",
          "name": "stdout",
          "text": [
            "3) El término 40000 pertenece a la sucesión, se encuentra en la posición 20.\n"
          ]
        }
      ]
    },
    {
      "cell_type": "markdown",
      "source": [
        "# Problema 3"
      ],
      "metadata": {
        "id": "7GDU-KDLuR7i"
      }
    },
    {
      "cell_type": "markdown",
      "source": [
        "La sucesión de Fibonacci es una serie de números en la que cada número, desde el tercero en adelante, es la suma de los dos anteriores. Comienza con el $0$ y $1$, tal como se observa a continuación:\n",
        "\n",
        "$$0, 1, 1, 2, 3, 5, 8, 13, ...$$\n",
        "\n",
        "Formalmente, la sucesión se define de la siguiente manera:\n",
        "\n",
        "\\begin{split}\n",
        "F(0) &= 0\\\\\n",
        "F(1) &= 1\\\\\n",
        "F(n) &= F(n - 1) + F(n - 2), \\ \\text{ para $n \\geq 2$}\n",
        "\\end{split}\n",
        "\n",
        "Esta sucesión se utiliza en una variedad de contextos en informática y algoritmos debido a sus propiedades matemáticas y patrones.\n",
        "\n",
        "1. Implementa un código en *Python* que muestre en pantalla los primeros $20$ términos de la sucesión.\n",
        "2. Calcula, utilizando un ciclo *for*, la suma de los primeros $30$ términos de la sucesión de Fibonacci."
      ],
      "metadata": {
        "id": "GG1duXd1uU6Z"
      }
    },
    {
      "cell_type": "markdown",
      "source": [
        "## Solución"
      ],
      "metadata": {
        "id": "3nDltNEf2uKw"
      }
    },
    {
      "cell_type": "code",
      "source": [
        "#Parte 1)\n",
        "n = 0\n",
        "F = []\n",
        "for i in range(30):\n",
        "  n = i + 1\n",
        "  if i == 0:\n",
        "    F.append(0)\n",
        "    print('1) Los 20 primeros términos de la sucesión son:\\n')\n",
        "  elif n <= 2:\n",
        "    F.append(1)\n",
        "  else:\n",
        "    F.append(F[i - 1] + F[i-2])\n",
        "\n",
        "  if n < 21:\n",
        "    print(f'F_{n} = {F[i]}')\n",
        "\n",
        "#Parte 2)\n",
        "\n",
        "suma = sum(F)\n",
        "print(' ')\n",
        "print(f'2) La suma de los 30 primeros términos de la sucesión de Fibonacci es {suma}.')"
      ],
      "metadata": {
        "colab": {
          "base_uri": "https://localhost:8080/"
        },
        "id": "9_Wbu36V2sYp",
        "outputId": "4d1249b0-7454-4d5c-bb26-0e6147b8b843"
      },
      "execution_count": null,
      "outputs": [
        {
          "output_type": "stream",
          "name": "stdout",
          "text": [
            "1) Los 20 primeros términos de la sucesión son:\n",
            "\n",
            "F_1 = 0\n",
            "F_2 = 1\n",
            "F_3 = 1\n",
            "F_4 = 2\n",
            "F_5 = 3\n",
            "F_6 = 5\n",
            "F_7 = 8\n",
            "F_8 = 13\n",
            "F_9 = 21\n",
            "F_10 = 34\n",
            "F_11 = 55\n",
            "F_12 = 89\n",
            "F_13 = 144\n",
            "F_14 = 233\n",
            "F_15 = 377\n",
            "F_16 = 610\n",
            "F_17 = 987\n",
            "F_18 = 1597\n",
            "F_19 = 2584\n",
            "F_20 = 4181\n",
            " \n",
            "2) La suma de los 30 primeros términos de la sucesión de Fibonacci es 1346268.\n"
          ]
        }
      ]
    },
    {
      "cell_type": "markdown",
      "source": [
        "# Problema 4"
      ],
      "metadata": {
        "id": "OFL3b7nt8Rq_"
      }
    },
    {
      "cell_type": "markdown",
      "source": [
        "Implementa un código que permita guardar en una lista la sucesión de los primeros $n$ números pares, con $n \\geq 1$. Luego, determina:\n",
        "\n",
        "1. ¿Cuál es el valor del décimo término?\n",
        "2. Calcula, utilizando un ciclo *for*, la suma de los primeros $100$ números pares.\n",
        "3. ¿En qué posición se encuentra el número $58$ dentro de la sucesión?"
      ],
      "metadata": {
        "id": "WeDmOfd-8fwQ"
      }
    },
    {
      "cell_type": "markdown",
      "source": [
        "## Solución"
      ],
      "metadata": {
        "id": "Ks8Z7Fo19Cbw"
      }
    },
    {
      "cell_type": "code",
      "source": [
        "# Parte 1)\n",
        "pares = []\n",
        "for i in range(100):\n",
        "  n = i + 1\n",
        "  pares.append(2 * n)\n",
        "  if n == 10:\n",
        "    print(f'1) El décimo término de la sucesión es {pares[i]}.\\n')\n",
        "\n",
        "#Parte 2)\n",
        "suma = sum(pares)\n",
        "print(f'2) La suma de los primeros 100 términos de la sucesión es {suma}.\\n')\n",
        "\n",
        "#Parte 3)\n",
        "posicion = pares.index(58)\n",
        "print(f'3) El término 58 se encuentra en la posición {posicion + 1} de la sucesión.')"
      ],
      "metadata": {
        "colab": {
          "base_uri": "https://localhost:8080/"
        },
        "id": "EhTrFjh89E6f",
        "outputId": "bc1da835-3f03-433f-cf6c-33a1dd9539c2"
      },
      "execution_count": null,
      "outputs": [
        {
          "output_type": "stream",
          "name": "stdout",
          "text": [
            "1) El décimo término de la sucesión es 20.\n",
            "\n",
            "2) La suma de los primeros 100 términos de la sucesión es 10100.\n",
            "\n",
            "3) El término 58 se encuentra en la posición 29 de la sucesión.\n"
          ]
        }
      ]
    },
    {
      "cell_type": "markdown",
      "source": [
        "# Problema 5"
      ],
      "metadata": {
        "id": "gBcDYpK2Z3GT"
      }
    },
    {
      "cell_type": "markdown",
      "source": [
        "Un nuevo software tiene $500$ usuarios y se espera que el número de usuarios crezca un $15\\%$ respecto al mes anterior. Considere que $b_{n}$ es el número de usuarios transcurridos $n$ meses.\n",
        "\n",
        "1. Calcula cuántos usuarios tendrá el software al cabo de tres meses. ¿Y al cabo de seis meses?\n",
        "2. Mediante un código en *Pyhton* muestra la cantidad de usuarios que tendrá el software cada mes durante el primer año.\n",
        "2. ¿Cuántos usuarios tendrá en total el software luego de un año? Utilice ciclos *for* para calcular."
      ],
      "metadata": {
        "id": "eS3i68R4Z6YQ"
      }
    },
    {
      "cell_type": "markdown",
      "source": [
        "## Solución"
      ],
      "metadata": {
        "id": "nf6-VOvJcGrE"
      }
    },
    {
      "cell_type": "markdown",
      "source": [
        "**1)**"
      ],
      "metadata": {
        "id": "VQWgj922cj0s"
      }
    },
    {
      "cell_type": "code",
      "source": [
        "#Parte 1)\n",
        "b_0 = 500\n",
        "r = 1.15\n",
        "b_1 = b_0 * r\n",
        "b_3 = b_1 * r**(3 - 1)\n",
        "b_6 = b_1 * r**(6 - 1)\n",
        "print(f'Al cabo de tres meses, el software tendrá {b_3:.0f} usuarios.')\n",
        "print(f'Al cabo de seis meses, el software tendrá {b_6:.0f} usuarios.')\n"
      ],
      "metadata": {
        "colab": {
          "base_uri": "https://localhost:8080/"
        },
        "id": "LwG6i_V-cIgb",
        "outputId": "ce43d290-cabb-48f1-d982-bc7c23aafe3d"
      },
      "execution_count": null,
      "outputs": [
        {
          "output_type": "stream",
          "name": "stdout",
          "text": [
            "Al cabo de tres meses, el software tendrá 760 usuarios.\n",
            "Al cabo de seis meses, el software tendrá 1157 usuarios.\n"
          ]
        }
      ]
    },
    {
      "cell_type": "markdown",
      "source": [
        "**2)**"
      ],
      "metadata": {
        "id": "4zsLg2n-dKN5"
      }
    },
    {
      "cell_type": "code",
      "source": [
        "#Parte 2)\n",
        "print('2) La cantidad de usuarios que el software tendrá cada mes es:\\n')\n",
        "\n",
        "b_0 = 500\n",
        "r = 1.15\n",
        "b_1 = b_0 * r\n",
        "usuarios = []\n",
        "n = 0\n",
        "for i in range(12):\n",
        "  n = n + 1\n",
        "  usuarios.append(b_1 * r ** (n - 1))\n",
        "  print(f'Mes {n} = {usuarios[i]:.0f} usuarios')\n",
        "print(' ')\n",
        "\n",
        "#Parte 3)\n",
        "total = sum(usuarios)\n",
        "print(f'3) Luego de un año el software tendrá {total:.0f} usuarios.')"
      ],
      "metadata": {
        "colab": {
          "base_uri": "https://localhost:8080/"
        },
        "outputId": "84d5ad3d-6c11-40ad-bd01-28b74fefcd5b",
        "id": "3Kdk-AkbdSV5"
      },
      "execution_count": null,
      "outputs": [
        {
          "output_type": "stream",
          "name": "stdout",
          "text": [
            "2) La cantidad de usuarios que el software tendrá cada mes es:\n",
            "\n",
            "Mes 1 = 575 usuarios\n",
            "Mes 2 = 661 usuarios\n",
            "Mes 3 = 760 usuarios\n",
            "Mes 4 = 875 usuarios\n",
            "Mes 5 = 1006 usuarios\n",
            "Mes 6 = 1157 usuarios\n",
            "Mes 7 = 1330 usuarios\n",
            "Mes 8 = 1530 usuarios\n",
            "Mes 9 = 1759 usuarios\n",
            "Mes 10 = 2023 usuarios\n",
            "Mes 11 = 2326 usuarios\n",
            "Mes 12 = 2675 usuarios\n",
            " \n",
            "3) Luego de un año el software tendrá 16676 usuarios.\n"
          ]
        }
      ]
    },
    {
      "cell_type": "markdown",
      "source": [
        "# Problema 6"
      ],
      "metadata": {
        "id": "s2hruXWnJDbS"
      }
    },
    {
      "cell_type": "markdown",
      "source": [
        "Un estudiante de ingeniería informática planea ahorrar para un proyecto personal. Para esto, el primer mes deposita $\\$12.000$ y cada mes aumenta el depósito en $\\$2.000$. Considere que $a_{i}$ corresponde al depósito mensual del estudiante. Determine:\n",
        "\n",
        "1. Implementa un código que permita mostrar en pantalla lo que depositó mensualmente durante el primer año.\n",
        "2. ¿Cuánto depositó el estudiante en febrero del segundo año?\n",
        "3. ¿Cuál será el total ahorrado al finalizar dos años?"
      ],
      "metadata": {
        "id": "hH_VNmA_Og0U"
      }
    },
    {
      "cell_type": "markdown",
      "source": [
        "## Solución"
      ],
      "metadata": {
        "id": "IOMVpqd_QkS6"
      }
    },
    {
      "cell_type": "code",
      "source": [
        "#Parte 1)\n",
        "a_1 = 12000\n",
        "d = 2000\n",
        "\n",
        "print('1) Los depósitos del primer año son:\\n')\n",
        "ahorro = []\n",
        "for i in range(12):\n",
        "  n = i + 1\n",
        "  ahorro.append(a_1 + (n-1) * d)\n",
        "  print(f'Mes {n} = ${ahorro[i]}')\n",
        "print(' ')\n",
        "\n",
        "#Parte 2)\n",
        "\n",
        "n = 14\n",
        "print(f'2) En febrero del segundo año el estudiante deposita {a_1 + (n-1) * d} pesos. \\n')\n",
        "\n",
        "#Parte 3)\n",
        "\n",
        "print('Los ahorros de los dos primeros años son:\\n')\n",
        "ahorro_total = []\n",
        "for i in range(24):\n",
        "  n = i + 1\n",
        "  ahorro_total.append(a_1 + (n-1) * d)\n",
        "  print(f'Mes {n} = ${ahorro_total[i]}')\n",
        "print(' ')\n",
        "\n",
        "total = sum(ahorro_total)\n",
        "print(f'3) El dinero total ahorrado en dos años es ${total}.')"
      ],
      "metadata": {
        "colab": {
          "base_uri": "https://localhost:8080/"
        },
        "id": "6XGlE3xEVT-Q",
        "outputId": "df639b18-0f94-46f4-d2bd-e3c5570f0a26"
      },
      "execution_count": null,
      "outputs": [
        {
          "output_type": "stream",
          "name": "stdout",
          "text": [
            "1) Los depósitos del primer año son:\n",
            "\n",
            "Mes 1 = $12000\n",
            "Mes 2 = $14000\n",
            "Mes 3 = $16000\n",
            "Mes 4 = $18000\n",
            "Mes 5 = $20000\n",
            "Mes 6 = $22000\n",
            "Mes 7 = $24000\n",
            "Mes 8 = $26000\n",
            "Mes 9 = $28000\n",
            "Mes 10 = $30000\n",
            "Mes 11 = $32000\n",
            "Mes 12 = $34000\n",
            " \n",
            "2) En febrero del segundo año el estudiante deposita 38000 pesos. \n",
            "\n",
            "Los ahorros de los dos primeros años son:\n",
            "\n",
            "Mes 1 = $12000\n",
            "Mes 2 = $14000\n",
            "Mes 3 = $16000\n",
            "Mes 4 = $18000\n",
            "Mes 5 = $20000\n",
            "Mes 6 = $22000\n",
            "Mes 7 = $24000\n",
            "Mes 8 = $26000\n",
            "Mes 9 = $28000\n",
            "Mes 10 = $30000\n",
            "Mes 11 = $32000\n",
            "Mes 12 = $34000\n",
            "Mes 13 = $36000\n",
            "Mes 14 = $38000\n",
            "Mes 15 = $40000\n",
            "Mes 16 = $42000\n",
            "Mes 17 = $44000\n",
            "Mes 18 = $46000\n",
            "Mes 19 = $48000\n",
            "Mes 20 = $50000\n",
            "Mes 21 = $52000\n",
            "Mes 22 = $54000\n",
            "Mes 23 = $56000\n",
            "Mes 24 = $58000\n",
            " \n",
            "3) El dinero total ahorrado en dos años es $840000.\n"
          ]
        }
      ]
    },
    {
      "cell_type": "markdown",
      "source": [
        "# Problema 7"
      ],
      "metadata": {
        "id": "G9sEfl4rB3e8"
      }
    },
    {
      "cell_type": "markdown",
      "source": [
        "Por lo general, los proyectos son organizados en varias etapas que deben completarse secuencialmente.\n",
        "\n",
        "La fase inicial de un proyecto de software tiene una duración de $3$ meses y cada fase subsecuente reduce su duración en un $10 \\%$ debido a la experiencia ganada. Determine:\n",
        "\n",
        "1. ¿Cuánto dura la quinta fase?\n",
        "2. Calcula la duración total del proyecto después de $10$ fases."
      ],
      "metadata": {
        "id": "KZUNnG20CT4F"
      }
    },
    {
      "cell_type": "markdown",
      "source": [
        "## Solución"
      ],
      "metadata": {
        "id": "IaZbNe-EDI6O"
      }
    },
    {
      "cell_type": "code",
      "source": [
        "#Parte 1)\n",
        "a_1 = 3\n",
        "r = 0.9\n",
        "n = 10\n",
        "duracion = [a_1 * r**(i - 1) for i in range(1, n + 1)]\n",
        "print(f'1) La quinta fase tiene una duración de {duracion[4]:.1f} meses.\\n')\n",
        "\n",
        "#Parte 2)\n",
        "total = sum(duracion)\n",
        "print(f'2) La duración total del proyecto fue de {total:.1f} meses.')"
      ],
      "metadata": {
        "colab": {
          "base_uri": "https://localhost:8080/"
        },
        "id": "--6Bmky-DL0l",
        "outputId": "7138be0a-5248-49b4-ad3e-7a42daccac56"
      },
      "execution_count": null,
      "outputs": [
        {
          "output_type": "stream",
          "name": "stdout",
          "text": [
            "1) La quinta fase tiene una duración de 2.0 meses.\n",
            "\n",
            "2) La duración total del proyecto fue de 19.5 meses.\n"
          ]
        }
      ]
    },
    {
      "cell_type": "markdown",
      "source": [
        "# Problema 8"
      ],
      "metadata": {
        "id": "keVOy_xIlU1E"
      }
    },
    {
      "cell_type": "markdown",
      "source": [
        "En una sucesión aritmética, la diferencia entre un término y el anterior es $4$ y el décimo término es $-20$. Determine:\n",
        "\n",
        "1. El primer término de la sucesión.\n",
        "2. La expresión del término de lugar $n$.\n",
        "3. Utilice un código en *Python* para calcular el término que ocupa el lugar $100$.\n",
        "4. Determinar la posición del número $1.680$ en la secuencia. Calcule utilizando un ciclo *while*."
      ],
      "metadata": {
        "id": "QXrNG-zulXil"
      }
    },
    {
      "cell_type": "markdown",
      "source": [
        "## Solución"
      ],
      "metadata": {
        "id": "5KrKBXWgmcoc"
      }
    },
    {
      "cell_type": "markdown",
      "source": [
        "**1)**\n",
        "\n",
        "Sabemos que:\n",
        "\n",
        "\\begin{split}\n",
        "d &= 4\\\\\n",
        "a_{10} &= -20\n",
        "\\end{split}\n",
        "\n",
        "Entonces:\n",
        "\n",
        "\\begin{split}\n",
        "a_{10} &= a_{1} + (10 - 1)d\\\\\n",
        "a_{10} - 9d &= a_{1}\n",
        "\\end{split}"
      ],
      "metadata": {
        "id": "mXXCo8Ntmfq-"
      }
    },
    {
      "cell_type": "code",
      "source": [
        "d = 4\n",
        "a_10 = -20\n",
        "a_1 = a_10 - 9 * d\n",
        "print(f'El primer término de la sucesión es {a_1}.')"
      ],
      "metadata": {
        "colab": {
          "base_uri": "https://localhost:8080/"
        },
        "id": "y9rBCN-xmcRA",
        "outputId": "7f5d2bda-3166-4b8d-94c6-3f852bd70a98"
      },
      "execution_count": null,
      "outputs": [
        {
          "output_type": "stream",
          "name": "stdout",
          "text": [
            "El primer término de la sucesión es -56.\n"
          ]
        }
      ]
    },
    {
      "cell_type": "markdown",
      "source": [
        "**2)**\n",
        "\n",
        "La expresión del término de lugar $n$ es:\n",
        "\n",
        "$$a_{n} = -56 + (n - 1)\\cdot d$$"
      ],
      "metadata": {
        "id": "R1ck8d5eoDvE"
      }
    },
    {
      "cell_type": "markdown",
      "source": [
        "**3)**\n",
        "\n",
        "El término en la posición $100$:"
      ],
      "metadata": {
        "id": "NqRLj8ZRoj7O"
      }
    },
    {
      "cell_type": "code",
      "source": [
        "n = 100\n",
        "a_1 = -56\n",
        "d = 4\n",
        "a_100 = a_1 + (n - 1) * d\n",
        "print(f'El término en el lugar 100  de la sucesión es {a_100}.')"
      ],
      "metadata": {
        "colab": {
          "base_uri": "https://localhost:8080/"
        },
        "id": "lMhjZwtpotmH",
        "outputId": "830cbbfc-ef31-440d-a7df-1db3da4e2f08"
      },
      "execution_count": null,
      "outputs": [
        {
          "output_type": "stream",
          "name": "stdout",
          "text": [
            "El término en el lugar 100  de la sucesión es 340.\n"
          ]
        }
      ]
    },
    {
      "cell_type": "markdown",
      "source": [
        "**4)**\n",
        "\n",
        "$a_{n} = 1.680$, calculando la posición con ciclo *while*:\n",
        "\n"
      ],
      "metadata": {
        "id": "FWaEUbGupCwr"
      }
    },
    {
      "cell_type": "code",
      "source": [
        "final = 1680\n",
        "termino = 0\n",
        "dif = final - termino\n",
        "n = 0\n",
        "a_1 = -56\n",
        "d = 4\n",
        "while dif > 0:\n",
        "  n += 1\n",
        "  termino = a_1 + (n - 1) * d\n",
        "  dif = final - termino\n",
        "print(f'El término 1680 se ubica en la posición {n} de la sucesión.')"
      ],
      "metadata": {
        "colab": {
          "base_uri": "https://localhost:8080/"
        },
        "id": "2SpbVlRfpoz-",
        "outputId": "1f7efbf3-38b9-43c5-b817-647413f087e4"
      },
      "execution_count": null,
      "outputs": [
        {
          "output_type": "stream",
          "name": "stdout",
          "text": [
            "El término 1680 se ubica en la posición 435 de la sucesión.\n"
          ]
        }
      ]
    },
    {
      "cell_type": "markdown",
      "source": [
        "# Problema 9"
      ],
      "metadata": {
        "id": "gFYqGSbdqoqT"
      }
    },
    {
      "cell_type": "markdown",
      "source": [
        "El tercer término de una sucesión geométrica es $5$ y el sexto término es $40$. Determine:\n",
        "\n",
        "1. La razón geométrica de la sucesión.\n",
        "2. El primer término de la sucesión.\n",
        "3. La expresión del término de lugar $n$.\n",
        "4. Utilice un código en *Python* para calcular el término que ocupa el lugar $8$.\n",
        "4. ¿Qué lugar ocupa en esta sucesión el término $20.480$? Calcule utilizando un ciclo *while*."
      ],
      "metadata": {
        "id": "UtblbNCYqxOM"
      }
    },
    {
      "cell_type": "markdown",
      "source": [
        "## Solución"
      ],
      "metadata": {
        "id": "7f6GdkoBrcv9"
      }
    },
    {
      "cell_type": "markdown",
      "source": [
        "**1)**\n",
        "\n",
        "Sabemos que:\n",
        "\n",
        "\\begin{split}\n",
        "b_{3} &= 5\\\\\n",
        "b_{6} &= 40\n",
        "\\end{split}\n",
        "\n",
        "Entonces:\n",
        "\n",
        "\\begin{split}\n",
        "b_{6} &= b_{3}\\cdot r^{3}\\\\\n",
        "\\frac{b_{6}}{b_{3}} &= r\\\\\n",
        "\\sqrt[3]{\\frac{b_{6}}{b_{3}}} &= r\n",
        "\\end{split}"
      ],
      "metadata": {
        "id": "GSF2GR_4rcv-"
      }
    },
    {
      "cell_type": "code",
      "source": [
        "b_3 = 5\n",
        "b_6 = 40\n",
        "r = (b_6 / b_3)**(1/3)\n",
        "print(f'La razón constante de la sucesión geométrica es {r}.')"
      ],
      "metadata": {
        "colab": {
          "base_uri": "https://localhost:8080/"
        },
        "outputId": "10f0380d-494e-46a6-fe7e-09539c5fac30",
        "id": "VHIEMg8Arcv-"
      },
      "execution_count": null,
      "outputs": [
        {
          "output_type": "stream",
          "name": "stdout",
          "text": [
            "La razón constante de la sucesión geométrica es 2.0.\n"
          ]
        }
      ]
    },
    {
      "cell_type": "markdown",
      "source": [
        "**2)**\n",
        "\n",
        "Para escribir la expresión general se debe calcular el primer término de la sucesión:\n",
        "\n",
        "\\begin{split}\n",
        "b_{3} &= b_{1}\\cdot r^{2}\\\\\n",
        "\\frac{b_{3}}{ r^{2}} &= b_{1}\n",
        "\\end{split}"
      ],
      "metadata": {
        "id": "Te28Zbsat_ty"
      }
    },
    {
      "cell_type": "code",
      "source": [
        "b_3 = 5\n",
        "r = 2\n",
        "b_1 = b_3 / r**2\n",
        "print(f'El primer término de la sucesión geométrica es {b_1}.')"
      ],
      "metadata": {
        "colab": {
          "base_uri": "https://localhost:8080/"
        },
        "id": "xY2TjDuZuevr",
        "outputId": "20b27b8c-6d04-4355-e780-57b4843ca137"
      },
      "execution_count": null,
      "outputs": [
        {
          "output_type": "stream",
          "name": "stdout",
          "text": [
            "El primer término de la sucesión geométrica es 1.25.\n"
          ]
        }
      ]
    },
    {
      "cell_type": "markdown",
      "source": [
        "**3)**\n",
        "\n",
        "Entonces, la expresión del término de lugar $n$ es:\n",
        "\n",
        "$$b_{n} = 1,25\\cdot 2^{n - 1}$$"
      ],
      "metadata": {
        "id": "6mXYm62Grcv_"
      }
    },
    {
      "cell_type": "markdown",
      "source": [
        "**4)**\n",
        "\n",
        "El término en la posición $8$:"
      ],
      "metadata": {
        "id": "TdGktYdxrcv_"
      }
    },
    {
      "cell_type": "code",
      "source": [
        "n = 8\n",
        "b_1 = 1.25\n",
        "r = 2\n",
        "b_8 = b_1 * r**(n - 1)\n",
        "print(f'El término en el lugar 8 de la sucesión es {b_8}.')"
      ],
      "metadata": {
        "colab": {
          "base_uri": "https://localhost:8080/"
        },
        "outputId": "3b9fa4c2-e4ea-4db2-d324-e50b0ae1d148",
        "id": "ueV-5tl5rcv_"
      },
      "execution_count": null,
      "outputs": [
        {
          "output_type": "stream",
          "name": "stdout",
          "text": [
            "El término en el lugar 8 de la sucesión es 160.0.\n"
          ]
        }
      ]
    },
    {
      "cell_type": "markdown",
      "source": [
        "**5)**\n",
        "\n",
        "$b_{n} = 20.480$, calculando la posición con ciclo *while*:\n",
        "\n"
      ],
      "metadata": {
        "id": "zr_eskvBrcwA"
      }
    },
    {
      "cell_type": "code",
      "source": [
        "final = 20480\n",
        "termino = 0\n",
        "dif = final - termino\n",
        "n = 0\n",
        "b_1 = 1.25\n",
        "r = 2\n",
        "while dif > 0:\n",
        "  n += 1\n",
        "  termino = b_1 * r**(n - 1)\n",
        "  dif = final - termino\n",
        "print(f'El término 20480 se ubica en la posición {n} de la sucesión.')"
      ],
      "metadata": {
        "colab": {
          "base_uri": "https://localhost:8080/"
        },
        "outputId": "26a92b34-1227-4253-901a-b0774e74297e",
        "id": "fML33eJ0rcwA"
      },
      "execution_count": null,
      "outputs": [
        {
          "output_type": "stream",
          "name": "stdout",
          "text": [
            "El término 20480 se ubica en la posición 15 de la sucesión.\n"
          ]
        }
      ]
    },
    {
      "cell_type": "markdown",
      "source": [
        "# Problema 10"
      ],
      "metadata": {
        "id": "Ju4J8uWfxQKk"
      }
    },
    {
      "cell_type": "markdown",
      "source": [
        "Una empresa de tecnología está optimizando sus servidores. Para ello, mide cada mes las transacciones por segundo (TPS) de sus servidores. Se ha obtenido que el segundo mes, el rendimiento del servidor es $1,2$ miles de TPS y el quinto mes, el rendimiento es de $2,7$ miles de TPS. Determina utilizando un código en *Python*:\n",
        "\n",
        "1. ¿Cuál es el rendimiento el noveno mes?\n",
        "2. ¿En qué mes el rendimiento es de $23,4$ miles de TPS?\n",
        "\n",
        "Utilice dos decimales para el cálculo."
      ],
      "metadata": {
        "id": "F6FPVCXQxTMj"
      }
    },
    {
      "cell_type": "markdown",
      "source": [
        "## Solución"
      ],
      "metadata": {
        "id": "acxt0uR-x3oL"
      }
    },
    {
      "cell_type": "markdown",
      "source": [
        "**1)**\n",
        "\n",
        "Sabemos que:\n",
        "\n",
        "\\begin{split}\n",
        "b_{2} &= 1,2\\\\\n",
        "b_{5} &= 2,7\n",
        "\\end{split}\n",
        "\n",
        "Entonces:\n",
        "\n",
        "\\begin{split}\n",
        "b_{5} &= b_{2} \\cdot r^{3}\n",
        "\\end{split}\n",
        "\n",
        "<br>\n",
        "\n",
        "Reemplazando las expresiones y despejando $r$ se obtiene:\n",
        "\n",
        "\\begin{split}\n",
        "2,7 &= 1,2 \\cdot r^{3} \\\\\n",
        "\\frac{2,7}{1,2} &= r^{3}\\\\\n",
        "\\sqrt[3]{\\frac{2,7}{1,2}} &= r\n",
        "\\end{split}"
      ],
      "metadata": {
        "id": "W67B4TNVyBGn"
      }
    },
    {
      "cell_type": "code",
      "source": [
        "r = (2.7 / 1.2)**(1/3)\n",
        "print(f'La razón constante de la sucesión geométrica es {r:.2f}.')"
      ],
      "metadata": {
        "colab": {
          "base_uri": "https://localhost:8080/"
        },
        "outputId": "7c557c13-7f4d-4534-ce42-0fd0d3340f59",
        "id": "kV9zHVdHyBGo"
      },
      "execution_count": null,
      "outputs": [
        {
          "output_type": "stream",
          "name": "stdout",
          "text": [
            "La razón constante de la sucesión geométrica es 1.31.\n"
          ]
        }
      ]
    },
    {
      "cell_type": "markdown",
      "source": [
        "Calculando el valor del primer término de la sucesión:\n",
        "\n",
        "\\begin{split}\n",
        "b_{2} &= b_{1}\\cdot r\\\\\n",
        "\\frac{b_{2}}{r} &= b_{1}\n",
        "\\end{split}"
      ],
      "metadata": {
        "id": "YmsG3k5Bx3FX"
      }
    },
    {
      "cell_type": "code",
      "source": [
        "#Cálculo del primer término\n",
        "b_2 = 1.2\n",
        "r = 1.31\n",
        "b_1 = 1.2 / r\n",
        "print(f'El valor del primer término de la sucesión es {b_1:.2f} miles de TPS.\\n')\n",
        "\n",
        "#Cálculo del noveno término\n",
        "n = 9\n",
        "b_9 = b_1 * r**(n - 1)\n",
        "print(f'1) El noveno mes el rendimiento del servidor es {b_9:.2f} miles de TPS.')"
      ],
      "metadata": {
        "colab": {
          "base_uri": "https://localhost:8080/"
        },
        "id": "Qjns2cGpx2B9",
        "outputId": "4d643427-b1f6-4eba-ebe9-26874ff4dfe0"
      },
      "execution_count": null,
      "outputs": [
        {
          "output_type": "stream",
          "name": "stdout",
          "text": [
            "El valor del primer término de la sucesión es 0.92 miles de TPS.\n",
            "\n",
            "1) El noveno mes el rendimiento del servidor es 7.94 miles de TPS.\n"
          ]
        }
      ]
    },
    {
      "cell_type": "markdown",
      "source": [
        "**2)**\n",
        "\n",
        "Calculando con ciclo *while*:"
      ],
      "metadata": {
        "id": "8K2w9QCPCKuH"
      }
    },
    {
      "cell_type": "code",
      "source": [
        "final = 23.4\n",
        "termino = 0\n",
        "dif = final - termino\n",
        "n = 0\n",
        "b_1 = 0.92\n",
        "r = 1.31\n",
        "while dif > 0:\n",
        "  n += 1\n",
        "  termino = b_1 * r**(n - 1)\n",
        "  dif = final - termino\n",
        "print(f'2) En el mes {n} el rendimiento del servidor será de 23,4 miles de TPS.')"
      ],
      "metadata": {
        "colab": {
          "base_uri": "https://localhost:8080/"
        },
        "outputId": "91124fa2-224f-4810-fd4e-888964e42e1b",
        "id": "vU1pX2c7A4nM"
      },
      "execution_count": null,
      "outputs": [
        {
          "output_type": "stream",
          "name": "stdout",
          "text": [
            "2) En el mes 13 el rendimiento del servidor será de 23,4 miles de TPS.\n"
          ]
        }
      ]
    },
    {
      "cell_type": "markdown",
      "source": [
        "# Problema 11"
      ],
      "metadata": {
        "id": "jxQyaJXUCW7m"
      }
    },
    {
      "cell_type": "markdown",
      "source": [
        "Una aplicación de redes sociales inició el $1$ de enero y comenzó a ganar usuarios rápidamente. El $3$ de enero tenía $500$ usuarios y el $10$ de enero tenía $1.501$ usuarios. Si el número de usuarios sigue creciendo de manera constante, determine:\n",
        "\n",
        "1. ¿Con cuántos usuarios comenzó a funcionar la aplicación?\n",
        "2. ¿Cuántos usuarios tendrá la aplicación el $31$ de enero?\n",
        "3. Si la aplicación tiene $5.505$ usuarios, ¿cuántos meses lleva funcionando?\n",
        "\n"
      ],
      "metadata": {
        "id": "8LdxsBUwDfbf"
      }
    },
    {
      "cell_type": "markdown",
      "source": [
        "## Solución"
      ],
      "metadata": {
        "id": "9xDgyEJbF6fW"
      }
    },
    {
      "cell_type": "markdown",
      "source": [
        "**1)**\n",
        "\n",
        "Sabemos que:\n",
        "\n",
        "\\begin{split}\n",
        "a_{3} &= 500\\\\\n",
        "a_{10} &= 1.501\n",
        "\\end{split}\n",
        "\n",
        "Entonces:\n",
        "\n",
        "\\begin{split}\n",
        "a_{10} &= a_{3} + 7d\\\\\n",
        "\\frac{a_{10} - a_{3}}{7} &= d\n",
        "\\end{split}"
      ],
      "metadata": {
        "id": "eZifQrFVF6fd"
      }
    },
    {
      "cell_type": "code",
      "source": [
        "a_3 = 500\n",
        "a_10 = 1501\n",
        "d = (a_10 - a_3) / 7\n",
        "print(f'Los usuarios aumentan cada día en {d} personas.')"
      ],
      "metadata": {
        "colab": {
          "base_uri": "https://localhost:8080/"
        },
        "outputId": "b20546d7-4645-4c56-e91c-a55bbaa5a145",
        "id": "PP8EGlTiF6fd"
      },
      "execution_count": null,
      "outputs": [
        {
          "output_type": "stream",
          "name": "stdout",
          "text": [
            "Los usuarios aumentan cada día en 143.0 personas.\n"
          ]
        }
      ]
    },
    {
      "cell_type": "markdown",
      "source": [
        "Para encontrar el primer término:\n",
        "\n",
        "\\begin{split}\n",
        "a_{3} &= a_{1} + (3 - 1)\\cdot d\\\\\n",
        "a_{3} &= a_{1} + 2 d\\\\\n",
        "a_{3} - 2d &= a_{1}\n",
        "\\end{split}"
      ],
      "metadata": {
        "id": "lqqXKiD5HluD"
      }
    },
    {
      "cell_type": "code",
      "source": [
        "a_3 = 500\n",
        "d = 143\n",
        "a_1 = a_3 - 2 * d\n",
        "print(f'1) La aplicación comenzó con {a_1} usuarios.')"
      ],
      "metadata": {
        "colab": {
          "base_uri": "https://localhost:8080/"
        },
        "id": "nXr7DfoGIM4O",
        "outputId": "08a65332-713f-4b32-f127-1815bc399bea"
      },
      "execution_count": null,
      "outputs": [
        {
          "output_type": "stream",
          "name": "stdout",
          "text": [
            "1) La aplicación comenzó con 214 usuarios.\n"
          ]
        }
      ]
    },
    {
      "cell_type": "markdown",
      "source": [
        "**2)**\n",
        "\n",
        "Utilizando la expresión general de la progresión aritmética:"
      ],
      "metadata": {
        "id": "K2gW0GwQJH5l"
      }
    },
    {
      "cell_type": "code",
      "source": [
        "a_1 = 214\n",
        "d = 143\n",
        "n = 31\n",
        "a_31 = a_1 + (n - 1) * d\n",
        "print(f'La aplicación tendrá {a_31} usuarios el 31 de enero.')"
      ],
      "metadata": {
        "colab": {
          "base_uri": "https://localhost:8080/"
        },
        "id": "fe4-QHr6IfDt",
        "outputId": "553ce530-cf04-4fbb-b765-2013fdf9709d"
      },
      "execution_count": null,
      "outputs": [
        {
          "output_type": "stream",
          "name": "stdout",
          "text": [
            "La aplicación tendrá 4504 usuarios el 31 de enero.\n"
          ]
        }
      ]
    },
    {
      "cell_type": "markdown",
      "source": [
        "**3)**\n",
        "\n",
        "Calculando con ciclo *while*:"
      ],
      "metadata": {
        "id": "I_kk1lJzKRak"
      }
    },
    {
      "cell_type": "code",
      "source": [
        "final = 5505\n",
        "termino = 0\n",
        "dif = final - termino\n",
        "n = 0\n",
        "a_1 = 214\n",
        "d = 143\n",
        "while dif > 0:\n",
        "  n += 1\n",
        "  termino = a_1 + (n - 1) * d\n",
        "  dif = final - termino\n",
        "print(f'3) Si la aplicación tiene 5.505 usuarios es porque lleva funcionando {n} días.')"
      ],
      "metadata": {
        "colab": {
          "base_uri": "https://localhost:8080/"
        },
        "outputId": "8edd6a2b-f74c-4d94-ceca-86bd2cadf363",
        "id": "lu7JaOI8KRak"
      },
      "execution_count": null,
      "outputs": [
        {
          "output_type": "stream",
          "name": "stdout",
          "text": [
            "3) Si la aplicación tiene 5.505 usuarios es porque lleva funcionando 38 días.\n"
          ]
        }
      ]
    },
    {
      "cell_type": "markdown",
      "source": [
        "# Problema 12"
      ],
      "metadata": {
        "id": "zBN3BhYVLLSe"
      }
    },
    {
      "cell_type": "markdown",
      "source": [
        "Una empresa de publicidad ofrece para un puesto de trabajo un salario inicial y un aumento mensual en una razón constante. Javier se presenta a la entrevista, y el encargado del departamento de recursos humanos le explica que en el segundo mes de trabajo su sueldo será de $\\$402.000$, y que en el tercer mes de trabajo será de $\\$404.010$. Determine:\n",
        "\n",
        "1. El salario aproximado que Javier recibiría en el décimo mes de trabajo en la empresa.\n",
        "2. ¿Cuál sería el ingreso total recibido por los sueldos de Javier durante el tercer año de trabajo?"
      ],
      "metadata": {
        "id": "kszkhh_GLQN1"
      }
    },
    {
      "cell_type": "markdown",
      "source": [
        "## Solución"
      ],
      "metadata": {
        "id": "L28tTEt6N2Jk"
      }
    },
    {
      "cell_type": "markdown",
      "source": [
        "**1)**\n",
        "\n",
        "Sabemos que:\n",
        "\n",
        "\\begin{split}\n",
        "s_{2} &= 402.000\\\\\n",
        "s_{3} &= 404.010\n",
        "\\end{split}\n",
        "\n",
        "Entonces:\n",
        "\n",
        "\\begin{split}\n",
        "s_{3} &= s_{2}\\cdot r\\\\\n",
        "\\frac{s_{3}}{s_{2}} &= r\n",
        "\\end{split}"
      ],
      "metadata": {
        "id": "sH6nnl5IN-ap"
      }
    },
    {
      "cell_type": "code",
      "source": [
        "#Razón geométrica\n",
        "s_2 = 402000\n",
        "s_3 = 404010\n",
        "r = s_3 / s_2\n",
        "print(f'El sueldo aumenta cada mes a razón de {r}.')\n"
      ],
      "metadata": {
        "colab": {
          "base_uri": "https://localhost:8080/"
        },
        "outputId": "092d49f7-3d4f-458b-cd21-35122506471e",
        "id": "X6haW3U9N-aq"
      },
      "execution_count": null,
      "outputs": [
        {
          "output_type": "stream",
          "name": "stdout",
          "text": [
            "El sueldo aumenta cada mes a razón de 1.005.\n"
          ]
        }
      ]
    },
    {
      "cell_type": "markdown",
      "source": [
        "Para encontrar el primer término:\n",
        "\n",
        "\\begin{split}\n",
        "s_{2} &= s_{1}\\cdot r\\\\\n",
        "\\frac{s_{2}}{r} &= s_{1}\n",
        "\\end{split}"
      ],
      "metadata": {
        "id": "9arxjqLHPPnF"
      }
    },
    {
      "cell_type": "code",
      "source": [
        "#Sueldo el primer mes\n",
        "s_2 = 402000\n",
        "r = 1.005\n",
        "s_1 = s_2 / r\n",
        "print(f'El sueldo el primer mes es ${s_1:.0f}.\\n')\n",
        "\n",
        "#Sueldo el décimo mes\n",
        "n = 10\n",
        "s_10 = s_1 * r**(n - 1)\n",
        "print(f'1) El sueldo el décimo mes es ${s_10:.0f}.')"
      ],
      "metadata": {
        "colab": {
          "base_uri": "https://localhost:8080/"
        },
        "outputId": "239cd22d-ac49-427b-aaf6-a512d4344951",
        "id": "C1491mUDPPnF"
      },
      "execution_count": null,
      "outputs": [
        {
          "output_type": "stream",
          "name": "stdout",
          "text": [
            "El sueldo el primer mes es $400000.\n",
            "\n",
            "1) El sueldo el décimo mes es $418364.\n"
          ]
        }
      ]
    },
    {
      "cell_type": "markdown",
      "source": [
        "**2)**\n",
        "\n",
        "Para calcular el ingreso total percibido por Javier durante el tercer año, calcularemos los sueldos recibidos solo en el año indicado:"
      ],
      "metadata": {
        "id": "wRZuT1TcSdiL"
      }
    },
    {
      "cell_type": "code",
      "source": [
        "sueldo = []\n",
        "s_1 = 400000\n",
        "r = 1.005\n",
        "for i in range(25, 37):\n",
        "  n = i + 1\n",
        "  sueldo.append(s_1 * r**(n - 1))\n",
        "total = sum(sueldo)\n",
        "print(f'2) El ingreso total percibido por Javier, por concepto de sueldo, durante el tercer año es ${total:.0f}.')"
      ],
      "metadata": {
        "colab": {
          "base_uri": "https://localhost:8080/"
        },
        "id": "l9PL8LbuNq-8",
        "outputId": "1528818c-c94b-4a99-c787-5eb97b4948d7"
      },
      "execution_count": null,
      "outputs": [
        {
          "output_type": "stream",
          "name": "stdout",
          "text": [
            "2) El ingreso total percibido por Javier, por concepto de sueldo, durante el tercer año es $5589468.\n"
          ]
        }
      ]
    },
    {
      "cell_type": "markdown",
      "source": [
        "# Problema 13"
      ],
      "metadata": {
        "id": "-lx5k4b9Y8sD"
      }
    },
    {
      "cell_type": "markdown",
      "source": [
        "Una empresa de ciberseguridad capacita trabajadores cada trimestre. En el primer trimestre capacitaron a $30$ trabajadores, en el segundo trimestre a $60$ trabajadores, y en el tercer trimestre a $120$ trabajadores. Si en los siguientes trimestres la empresa mantiene el mismo patrón de crecimiento, determine utilizando *Python*:\n",
        "\n",
        "1. ¿A cuántos trabajadores capacitarán en el octavo trimestre?\n",
        "2. Si la empresa lleva en el mercado $3$ años, ¿a cuántos trabajadores han capacitado en total?"
      ],
      "metadata": {
        "id": "OVuWQuXsY_pp"
      }
    },
    {
      "cell_type": "markdown",
      "source": [
        "## Solución"
      ],
      "metadata": {
        "id": "pWAifOvbaBPa"
      }
    },
    {
      "cell_type": "markdown",
      "source": [
        "**1)**"
      ],
      "metadata": {
        "id": "_VXo3PJhdGs9"
      }
    },
    {
      "cell_type": "code",
      "source": [
        "#Razón constante\n",
        "t_1 = 30\n",
        "t_2 = 60\n",
        "t_3 = 120\n",
        "r_1 = t_2 / t_1\n",
        "r_2 = t_3 / t_2\n",
        "\n",
        "if r_2 == r_1:\n",
        "  print(f'La sucesión es geométrica de razón constante {r_1}.')\n",
        "else:\n",
        "  print(f'La sucesión no es geométrica.')"
      ],
      "metadata": {
        "colab": {
          "base_uri": "https://localhost:8080/"
        },
        "id": "3U1FiA9_aNm8",
        "outputId": "b508e732-36bd-4b3f-aeef-914fc5ae9283"
      },
      "execution_count": null,
      "outputs": [
        {
          "output_type": "stream",
          "name": "stdout",
          "text": [
            "La sucesión es geométrica de razón constante 2.0.\n"
          ]
        }
      ]
    },
    {
      "cell_type": "markdown",
      "source": [
        "Reemplazando en el término general para encontrar la cantidad de trabajadores capacitados el octavo trimestre:"
      ],
      "metadata": {
        "id": "0k4fqgAiGlsl"
      }
    },
    {
      "cell_type": "code",
      "source": [
        "r = 2\n",
        "t_1 = 30\n",
        "n = 8\n",
        "t_8 = t_1 * r**(n - 1)\n",
        "print(f'1) El octavo trimestre la empresa capacitará a {t_8} trabajadores.')"
      ],
      "metadata": {
        "colab": {
          "base_uri": "https://localhost:8080/"
        },
        "id": "TvkCvUrubABZ",
        "outputId": "4639115d-154d-43ca-a6e1-19ff9fae6e94"
      },
      "execution_count": null,
      "outputs": [
        {
          "output_type": "stream",
          "name": "stdout",
          "text": [
            "1) El octavo trimestre la empresa capacitará a 3840 trabajadores.\n"
          ]
        }
      ]
    },
    {
      "cell_type": "markdown",
      "source": [
        "**2)**\n",
        "\n",
        "En $3$ años hay $12$ trimestres, ya que:\n",
        "\n",
        "\\begin{split}\n",
        "3 \\cdot 12 &= 36\\\\\n",
        "\\frac{36}{3} &= 12\n",
        "\\end{split}\n"
      ],
      "metadata": {
        "id": "rxqATCbRcUwy"
      }
    },
    {
      "cell_type": "code",
      "source": [
        "trabajadores = []\n",
        "t_1 = 30\n",
        "r = 2\n",
        "for i in range(13):\n",
        "  n = i + 1\n",
        "  trabajadores.append(t_1 * r**(n - 1))\n",
        "suma = sum(trabajadores)\n",
        "print(f'Si la empresa lleva 3 años en el mercado, ha capacitado a {suma} trabajadores en total.')\n"
      ],
      "metadata": {
        "colab": {
          "base_uri": "https://localhost:8080/"
        },
        "id": "cJE8k2v5aEB1",
        "outputId": "d7472123-5b35-4af9-e2c7-3fe2c6cb8eda"
      },
      "execution_count": null,
      "outputs": [
        {
          "output_type": "stream",
          "name": "stdout",
          "text": [
            "Si la empresa lleva 3 años en el mercado, ha capacitado a 245730 trabajadores en total.\n"
          ]
        }
      ]
    },
    {
      "cell_type": "markdown",
      "source": [
        "# Problema 14"
      ],
      "metadata": {
        "id": "IM7Xf51G6AXs"
      }
    },
    {
      "cell_type": "markdown",
      "source": [
        "Al llenar un tambor con agua, se registra que durante el minuto $4$ el tambor recibe $128$ litros, y durante el minuto $9$ recibe $88$ litros. Sabiendo que en cada minuto recibe una cantidad $d$ de litros de agua menos que en el minuto anterior, determine:\n",
        "\n",
        "1. ¿En qué instante el tambor deja de recibir agua?\n",
        "2. ¿Cuántos litros recibe en total el tambor?\n",
        "\n",
        "Realice los cálculos anteriores utilizando *Python*."
      ],
      "metadata": {
        "id": "Ni_4WMQl6OeV"
      }
    },
    {
      "cell_type": "markdown",
      "source": [
        "## Solución"
      ],
      "metadata": {
        "id": "ULxKrS7s8UpB"
      }
    },
    {
      "cell_type": "markdown",
      "source": [
        "**1)**\n",
        "\n",
        "Sabemos que:\n",
        "\n",
        "\\begin{split}\n",
        "a_{4} &= 128\\\\\n",
        "a_{9} &= 88\n",
        "\\end{split}\n",
        "\n",
        "Entonces:\n",
        "\n",
        "\\begin{split}\n",
        "a_{9} &= a_{4} + 5d\\\\\n",
        "\\frac{a_{9} - a_{4}}{5} &= d\n",
        "\\end{split}"
      ],
      "metadata": {
        "id": "jZxuW39A8gkZ"
      }
    },
    {
      "cell_type": "code",
      "source": [
        "a_4 = 128\n",
        "a_9 = 88\n",
        "d = (a_9 - a_4) / 5\n",
        "print(f'La diferencia constante de la sucesión es {d}.')\n",
        "print(f'Cada minuto recibe {-d} litros menos que el minuto anterior.')"
      ],
      "metadata": {
        "colab": {
          "base_uri": "https://localhost:8080/"
        },
        "outputId": "de5ecfd9-8ee0-4b74-ccf9-b254699c61f1",
        "id": "d3ll7jUZ8gka"
      },
      "execution_count": null,
      "outputs": [
        {
          "output_type": "stream",
          "name": "stdout",
          "text": [
            "La diferencia constante de la sucesión es -8.0.\n",
            "Cada minuto recibe 8.0 litros menos que el minuto anterior.\n"
          ]
        }
      ]
    },
    {
      "cell_type": "markdown",
      "source": [
        "Para encontrar el primer término:\n",
        "\n",
        "\\begin{split}\n",
        "a_{4} &= a_{1} + (4 - 1)\\cdot d\\\\\n",
        "a_{4} &= a_{1} + 3 d\\\\\n",
        "a_{4} - 3d &= a_{1}\n",
        "\\end{split}"
      ],
      "metadata": {
        "id": "H49xDBst8gkb"
      }
    },
    {
      "cell_type": "code",
      "source": [
        "a_4 = 128\n",
        "d = -8\n",
        "a_1 = a_4 - 3 * d\n",
        "print(f'En el primer minuto el tambor recibe {a_1} itros de agua.')"
      ],
      "metadata": {
        "colab": {
          "base_uri": "https://localhost:8080/"
        },
        "outputId": "54361d86-825a-4db1-9962-d87828d8e5bd",
        "id": "I0zo6mYU8gkc"
      },
      "execution_count": null,
      "outputs": [
        {
          "output_type": "stream",
          "name": "stdout",
          "text": [
            "En el primer minuto el tambor recibe 152 itros de agua.\n"
          ]
        }
      ]
    },
    {
      "cell_type": "markdown",
      "source": [
        "El tambor dejará de recibir agua cuando $a_{n} = 0$. Esto es:\n",
        "\n",
        "\\begin{split}\n",
        "a_{n} &= a_{1} + (n - 1)\\cdot d\\\\\n",
        "0 &= 152 + (n - 1)\\cdot (-8)\\\\\n",
        "\\end{split}\n",
        "\n",
        "Resolviendo mediante un ciclo *while*."
      ],
      "metadata": {
        "id": "6FCNkRpv-LGX"
      }
    },
    {
      "cell_type": "code",
      "source": [
        "final = 0\n",
        "termino = 1\n",
        "dif = final - termino\n",
        "n = 0\n",
        "a_1 = 152\n",
        "d = -8\n",
        "while dif < 0:\n",
        "  n += 1\n",
        "  termino = a_1 + (n - 1) * d\n",
        "  dif = final - termino\n",
        "print(f'1) El tambor deja de recibir agua al transcurrir {n} minutos.')"
      ],
      "metadata": {
        "colab": {
          "base_uri": "https://localhost:8080/"
        },
        "outputId": "68730156-5a55-4727-e8d3-262b4315b7ee",
        "id": "OSubvtOK-8Yq"
      },
      "execution_count": null,
      "outputs": [
        {
          "output_type": "stream",
          "name": "stdout",
          "text": [
            "1) El tambor deja de recibir agua al transcurrir 20 minutos.\n"
          ]
        }
      ]
    },
    {
      "cell_type": "markdown",
      "source": [
        "**2)**"
      ],
      "metadata": {
        "id": "SbMtvBytBdij"
      }
    },
    {
      "cell_type": "code",
      "source": [
        "a_1 = 152\n",
        "d = -8\n",
        "agua = []\n",
        "for i in range(20):\n",
        "  n = i + 1\n",
        "  agua.append(a_1 + (n - 1) * d)\n",
        "total = sum(agua)\n",
        "print(f'El tambor recibe en total {total} litros.')"
      ],
      "metadata": {
        "colab": {
          "base_uri": "https://localhost:8080/"
        },
        "id": "CiOtnCMfBfxw",
        "outputId": "6d013cf7-035c-4d97-ebc7-235972a57f9e"
      },
      "execution_count": null,
      "outputs": [
        {
          "output_type": "stream",
          "name": "stdout",
          "text": [
            "El tambor recibe en total 1520 litros.\n"
          ]
        }
      ]
    }
  ]
}