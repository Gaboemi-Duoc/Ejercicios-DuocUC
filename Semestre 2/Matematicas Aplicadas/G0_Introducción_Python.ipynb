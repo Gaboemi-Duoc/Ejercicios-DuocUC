{
  "cells": [
    {
      "cell_type": "markdown",
      "metadata": {
        "id": "t48ZzDLtux0T"
      },
      "source": [
        "# Problema 1"
      ]
    },
    {
      "cell_type": "markdown",
      "metadata": {
        "id": "cWCfLm-fvNTx"
      },
      "source": [
        "Escribe un código que pida al usuario ingresar un número real y determine si el número ingresado es positivo, negativo o cero."
      ]
    },
    {
      "cell_type": "code",
      "execution_count": 1,
      "metadata": {},
      "outputs": [
        {
          "name": "stdout",
          "output_type": "stream",
          "text": [
            "El Numero Ingresado es Positivo!\n"
          ]
        }
      ],
      "source": [
        "n = float(input(\"Ingrese un Numero Real: \"))\n",
        "\n",
        "if n > 0:\n",
        "\tprint(\"El Numero Ingresado es Positivo!\")\n",
        "elif n < 0:\n",
        "\tprint(\"El Numero Ingresado es Negativo!\")\n",
        "else:\n",
        "\tprint(\"El Numero Ingresado es Cero!\")"
      ]
    },
    {
      "cell_type": "markdown",
      "metadata": {
        "id": "6civkm_Pwf1B"
      },
      "source": [
        "# Problema 2"
      ]
    },
    {
      "cell_type": "markdown",
      "metadata": {
        "id": "rjeAxtJ4x9h6"
      },
      "source": [
        "Escribe un código que pida al usuario ingresar un número entero y que determine si el número ingresado es par o impar.\n"
      ]
    },
    {
      "cell_type": "code",
      "execution_count": 11,
      "metadata": {},
      "outputs": [
        {
          "name": "stdout",
          "output_type": "stream",
          "text": [
            "El Numero Ingresado es Impar!\n"
          ]
        }
      ],
      "source": [
        "n = int(input(\"Ingrese un Numero Entero: \"))\n",
        "\n",
        "if n % 2 == 0:\n",
        "\tprint(\"El Numero Ingresado es Par!\")\n",
        "else:\n",
        "    print(\"El Numero Ingresado es Impar!\")\n",
        "    "
      ]
    },
    {
      "cell_type": "markdown",
      "metadata": {
        "id": "rLA34mTgxuSf"
      },
      "source": [
        "# Problema 3"
      ]
    },
    {
      "cell_type": "markdown",
      "metadata": {
        "id": "6E3zFuZSwigv"
      },
      "source": [
        "Escribe un código que, mediante un ciclo *while*, sume los primeros $100$ números naturales."
      ]
    },
    {
      "cell_type": "code",
      "execution_count": 7,
      "metadata": {},
      "outputs": [
        {
          "name": "stdout",
          "output_type": "stream",
          "text": [
            "5050\n"
          ]
        }
      ],
      "source": [
        "n = 1\n",
        "suma = 0\n",
        "while n <= 100:\n",
        "    suma += n\n",
        "    n += 1\n",
        "    \n",
        "print(suma)"
      ]
    },
    {
      "cell_type": "markdown",
      "metadata": {
        "id": "pZpuARSKz4zw"
      },
      "source": [
        "# Problema 4"
      ]
    },
    {
      "cell_type": "markdown",
      "metadata": {
        "id": "SxGOLjlnz6y_"
      },
      "source": [
        "Escribe un código que almacene en una variable el *string* \"Contraseña\". Luego, el programa debe solicitar al usuario \"Introducir contraseña\", hasta que la palabra ingresada sea correcta. <sup><a href=\"#footnote1\" id=\"ref1\">1</a></sup>\n",
        "\n",
        "\n",
        "<p id=\"footnote1\"><sup>1</sup> String: Tipo de dato que almacena texto."
      ]
    },
    {
      "cell_type": "code",
      "execution_count": 10,
      "metadata": {},
      "outputs": [
        {
          "name": "stdout",
          "output_type": "stream",
          "text": [
            "Contraseña Incorrecta!\n",
            "Bienvenido!\n"
          ]
        }
      ],
      "source": [
        "password = \"pass123\"\n",
        "while input(\"Introducir Contraseña \") != password:\n",
        "    print(\"Contraseña Incorrecta!\")\n",
        "print(\"Bienvenido!\")"
      ]
    },
    {
      "cell_type": "markdown",
      "metadata": {
        "id": "bXAO6t1V1psK"
      },
      "source": [
        "# Problema 5"
      ]
    },
    {
      "cell_type": "markdown",
      "metadata": {
        "id": "nXwlwVHI11wC"
      },
      "source": [
        "Escribe un código que, utilizando un ciclo *for*, pida al usuario ingresar un número entero y muestre la tabla de multiplicar desde el 1 al 12 de dicho número."
      ]
    },
    {
      "cell_type": "code",
      "execution_count": 13,
      "metadata": {},
      "outputs": [
        {
          "name": "stdout",
          "output_type": "stream",
          "text": [
            "1 * 5 = 5\n",
            "2 * 5 = 10\n",
            "3 * 5 = 15\n",
            "4 * 5 = 20\n",
            "5 * 5 = 25\n",
            "6 * 5 = 30\n",
            "7 * 5 = 35\n",
            "8 * 5 = 40\n",
            "9 * 5 = 45\n",
            "10 * 5 = 50\n",
            "11 * 5 = 55\n",
            "12 * 5 = 60\n"
          ]
        }
      ],
      "source": [
        "n = int(input(\"Ingrese un Numero Entero: \"))\n",
        "\n",
        "for imcEstudiante in range(1,13):\n",
        "    print(f'{imcEstudiante} x {n} = {imcEstudiante * n}')"
      ]
    },
    {
      "cell_type": "markdown",
      "metadata": {
        "id": "UroIuMyFCKax"
      },
      "source": [
        "# Problema 6"
      ]
    },
    {
      "cell_type": "markdown",
      "metadata": {
        "id": "VoiJyh0zCMzX"
      },
      "source": [
        "1. Escribe una función que reciba dos números y retorne el producto de los números recibidos.\n",
        "1. Escribe una nueva función que tome el producto calculado en el ítem anterior y redondee el valor al entero.\n",
        "1. Pide al usuario que ingrese dos números, y utiliza ambas funciones para imprimir el valor de la multiplicación redondeado al entero."
      ]
    },
    {
      "cell_type": "code",
      "execution_count": 15,
      "metadata": {},
      "outputs": [
        {
          "name": "stdout",
          "output_type": "stream",
          "text": [
            "12\n"
          ]
        }
      ],
      "source": [
        "def funcion2Numeros(a,b):\n",
        "    return float(a)*float(b)\n",
        "def funcionRound(c):\n",
        "    return int(round(c))\n",
        "\n",
        "result = funcionRound( funcion2Numeros(input(\"Ingrese un Numero: \"),input(\"Ingrese otro Numero: \")) )\n",
        "print(result)"
      ]
    },
    {
      "cell_type": "markdown",
      "metadata": {
        "id": "GHMOEBgQDvUw"
      },
      "source": [
        "# Problema 7"
      ]
    },
    {
      "cell_type": "markdown",
      "metadata": {
        "id": "I77oq5plD50H"
      },
      "source": [
        "La fórmula que permite convertir los grados Celsius a Fahrenheit es la siguiente:\n",
        "\n",
        "$$ F = \\frac{9}{5} C + 32$$\n",
        "\n",
        "1. Crea una función que permita realizar esta conversión.\n",
        "1. Luego, pide al usuario que ingrese la temperatura en grados Celsius y utiliza la función para calcular su equivalente en grados Fahrenheit.\n",
        "1. Imprime el resultado redondeado a la centésima."
      ]
    },
    {
      "cell_type": "code",
      "execution_count": 5,
      "metadata": {},
      "outputs": [
        {
          "name": "stdout",
          "output_type": "stream",
          "text": [
            "23.5° Celsius equivalen a 74.3° Fahrenheit\n"
          ]
        }
      ],
      "source": [
        "def celsiusConvertirFahrenheit(celsius):\n",
        "    fahrenheit = (9/5*celsius) + 32\n",
        "    return fahrenheit\n",
        "\n",
        "degreesC = float(input(\"Ingrese la Temperatura en °Celsius para Conversion: \"))\n",
        "degreesF = round(celsiusConvertirFahrenheit(degreesC),2)\n",
        "print(f\"{degreesC}° Celsius equivalen a {degreesF}° Fahrenheit\")"
      ]
    },
    {
      "cell_type": "markdown",
      "metadata": {
        "id": "yC4Sju1KGQFn"
      },
      "source": [
        "# Problema 8"
      ]
    },
    {
      "cell_type": "markdown",
      "metadata": {
        "id": "Qw6j4zbSG0NH"
      },
      "source": [
        "1. Escribe un código que importe el módulo *random* y utiliza la función *randint()* para generar diez números aleatorios entre $1$ y $100$, y almacénalos en una lista.\n",
        "1. Imprime en pantalla la lista con los diez números generados.\n",
        "1. Utiliza la indexación en *Python* para acceder al segundo y sexto elemento de la lista. Ten en cuenta que en *Python* los índices comienzan en $0$. ¿Cómo imprimirías estos elementos?"
      ]
    },
    {
      "cell_type": "code",
      "execution_count": 13,
      "metadata": {},
      "outputs": [
        {
          "name": "stdout",
          "output_type": "stream",
          "text": [
            "[4, 44, 41, 24, 11, 51, 56, 21, 37, 100]\n",
            "El Segundo elemento es 44 y el Tercer elemento es 51\n"
          ]
        }
      ],
      "source": [
        "import random\n",
        "\n",
        "numRandom = []\n",
        "for imcEstudiante in range(10):\n",
        "    numRandom.append(random.randint(1,100))\n",
        "\n",
        "print(numRandom)\n",
        "\n",
        "print(f\"El Segundo elemento es {numRandom[1]} y el Tercer elemento es {numRandom[5]}\")"
      ]
    },
    {
      "cell_type": "markdown",
      "metadata": {
        "id": "qlwdqEfzHrL_"
      },
      "source": [
        "# Problema 9"
      ]
    },
    {
      "cell_type": "markdown",
      "metadata": {
        "id": "iqH0iITmJH-P"
      },
      "source": [
        "El Índice de Masa Corporal (IMC) es una medida que se utiliza para evaluar si una persona se encuentra en un peso saludable con respecto a su estatura. La fórmula para calcular esta medida es:\n",
        "\n",
        "<br>\n",
        "\n",
        "$$ \\textrm{IMC} = \\frac{\\textrm{peso} \\ \\ (\\textrm{kg})}{(\\textrm{altura} \\ \\ (\\textrm{m}))^{2}}$$\n",
        "\n",
        "<br>\n",
        "\n",
        "El valor obtenido con el IMC, de acuerdo con la Organización Mundial de la Salud (OMS) indica si la persona tiene un peso bajo, normal, sobrepeso u obesidad. La clasificación es la siguiente:\n",
        "\n",
        "<br>\n",
        "\n",
        "* Bajo peso: IMC menor a $18,5 \\ \\  \\textrm{kg/m}^{2}$\n",
        "* Peso normal: IMC entre $18,5 \\ \\ \\textrm{kg/m}^{2}$ y $24,9 \\ \\ \\textrm{kg/m}^{2}$\n",
        "* Sobrepeso: IMC entre $25 \\ \\ \\textrm{kg/m}^{2}$ y $29,9 \\ \\ \\textrm{kg/m}^{2}$\n",
        "* Obesidad: IMC de $30 \\ \\ \\textrm{kg/m}^{2}$ o mayor\n",
        "\n",
        "<br>\n",
        "\n",
        "Aunque el IMC es una forma eficaz de evaluar el peso, no tiene en cuenta factores como la distribución de grasa, la masa muscular y otros rasgos de la salud física.\n",
        "\n",
        "<br>\n",
        "\n",
        "1. Considerando la información entregada, implementa un código que permita calcular mediante una función, el valor del IMC de una persona. Luego, solicita al usuario valores de masa y altura e indica, mediante el uso de condicionales, la categoría de la persona según el IMC calculado.\n",
        "1. Considera la siguiente tabla de valores, que muestra el peso y el IMC de once estudiantes. Guarda los valores del IMC en una lista e imprime en pantalla los estudiantes que, según el criterio de la OMS, están en **bajo peso**. Además, para cada IMC que esté en bajo peso, índica también el índice en la lista donde se encuentra.\n",
        "\n",
        "<p><center>\n",
        "\n",
        "| N°      | Peso $(\\textrm{kg})$ | IMC $(\\textrm{kg/m}^{2})$|\n",
        "|---------|----------------------|--------------------------|\n",
        "|$$ 1 $$  | $$29,5 $$            | $$16,43$$                |\n",
        "|$$ 2 $$  | $$37,3 $$            | $$19,31$$                |\n",
        "|$$ 3 $$  | $$38   $$            | $$10,25$$                |\n",
        "|$$ 4 $$  | $$31   $$            | $$18,63$$                |\n",
        "|$$ 5 $$  | $$36   $$            | $$17,85$$                |\n",
        "|$$ 6 $$  | $$40,4 $$            | $$19,76$$                |\n",
        "|$$ 7 $$  | $$47   $$            | $$23,64$$                |\n",
        "|$$ 8 $$  | $$43   $$            | $$21,94$$                |\n",
        "|$$ 9 $$  | $$36   $$            | $$21,3 $$                |\n",
        "|$$ 10$$  | $$40,1 $$            | $$22,67$$                |\n",
        "|$$ 11$$  | $$27   $$            | $$16,48$$                |\n",
        "\n",
        "</center></p>\n",
        "\n"
      ]
    },
    {
      "cell_type": "code",
      "execution_count": 14,
      "metadata": {},
      "outputs": [
        {
          "name": "stdout",
          "output_type": "stream",
          "text": [
            "Su Categoria es de Bajo Peso\n",
            "El Estudiante N°1 esta Bajo peso con un IMC de 16.43\n",
            "El Estudiante N°3 esta Bajo peso con un IMC de 10.25\n",
            "El Estudiante N°5 esta Bajo peso con un IMC de 17.85\n",
            "El Estudiante N°11 esta Bajo peso con un IMC de 16.48\n"
          ]
        }
      ],
      "source": [
        "def obtenerIMC(peso,altura):\n",
        "    imc = peso / (altura**2)\n",
        "    return imc\n",
        "\n",
        "def categoriaIMC(imc):\n",
        "    if imc < 18.5:\n",
        "        print(\"Su Categoria es de Bajo Peso\")\n",
        "    elif imc < 25:\n",
        "        print(\"Su Categoria es de Peso Normal\")\n",
        "    elif imc < 30:\n",
        "        print(\"Su Categoria es de Sobrepeso\")\n",
        "    else:\n",
        "        print(\"Su Categoria es de Obesidad\")\n",
        "\n",
        "pesoUser = float(input(\"Ingrese su Peso en Kg: \"))\n",
        "alturaUser = float(input(\"Ingrese su Altura en Metros: \"))\n",
        "imcUser = obtenerIMC(pesoUser,alturaUser)\n",
        "categoriaIMC(imcUser)\n",
        "\n",
        "listaEstudiantesIMC = [16.43, 19.31, 10.25, 18.63, 17.85, 19.76, 23.64, 21.94, 21.3, 22.67, 16.48]\n",
        "\n",
        "nEstudiante = 1\n",
        "for imcEstudiante in listaEstudiantesIMC:\n",
        "    if imcEstudiante < 18.5:\n",
        "        print(f\"El Estudiante N°{nEstudiante} esta Bajo peso con un IMC de {imcEstudiante}\")\n",
        "    nEstudiante += 1\n",
        "\n"
      ]
    }
  ],
  "metadata": {
    "colab": {
      "provenance": [],
      "toc_visible": true
    },
    "kernelspec": {
      "display_name": "Python 3",
      "name": "python3"
    },
    "language_info": {
      "codemirror_mode": {
        "name": "ipython",
        "version": 3
      },
      "file_extension": ".py",
      "mimetype": "text/x-python",
      "name": "python",
      "nbconvert_exporter": "python",
      "pygments_lexer": "ipython3",
      "version": "3.12.4"
    }
  },
  "nbformat": 4,
  "nbformat_minor": 0
}
