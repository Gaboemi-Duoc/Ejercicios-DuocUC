{
  "nbformat": 4,
  "nbformat_minor": 0,
  "metadata": {
    "colab": {
      "provenance": [],
      "collapsed_sections": [
        "T0G4e-JSvXHJ",
        "e7hL9hC0yuVA",
        "ehst1O3_xC7x",
        "GCRLLHlLri_v",
        "7LzJ-k40BWeI",
        "veoLCkN_CmBH",
        "2FU9za-uFZqP",
        "4Z-0tXfAHtwQ",
        "5DsVJd44N8hn"
      ]
    },
    "kernelspec": {
      "name": "python3",
      "display_name": "Python 3"
    },
    "language_info": {
      "name": "python"
    }
  },
  "cells": [
    {
      "cell_type": "markdown",
      "source": [
        "# Problema 1"
      ],
      "metadata": {
        "id": "t48ZzDLtux0T"
      }
    },
    {
      "cell_type": "markdown",
      "source": [
        "Escribe un código que pida al usuario ingresar un número real y determine si el número ingresado es positivo, negativo o cero."
      ],
      "metadata": {
        "id": "cWCfLm-fvNTx"
      }
    },
    {
      "cell_type": "markdown",
      "source": [
        "## Solución"
      ],
      "metadata": {
        "id": "T0G4e-JSvXHJ"
      }
    },
    {
      "cell_type": "code",
      "source": [
        "numero = float(input('Ingrese un número: '))\n",
        "if numero > 0:\n",
        "  print('El número es positivo')\n",
        "elif numero < 0:\n",
        "  print('El número es negativo')\n",
        "else:\n",
        "  print('El número es cero')"
      ],
      "metadata": {
        "id": "1htKozkfvZUY"
      },
      "execution_count": null,
      "outputs": []
    },
    {
      "cell_type": "markdown",
      "source": [
        "# Problema 2"
      ],
      "metadata": {
        "id": "6civkm_Pwf1B"
      }
    },
    {
      "cell_type": "markdown",
      "source": [
        "Escribe un código que pida al usuario ingresar un número entero y que determine si el número ingresado es par o impar.\n"
      ],
      "metadata": {
        "id": "rjeAxtJ4x9h6"
      }
    },
    {
      "cell_type": "markdown",
      "source": [
        "## Solución"
      ],
      "metadata": {
        "id": "e7hL9hC0yuVA"
      }
    },
    {
      "cell_type": "code",
      "source": [
        "numero = int(input('Ingrese un número entero: '))\n",
        "if numero % 2 == 0:\n",
        "  print(f'El número {numero} es par.')\n",
        "else:\n",
        "  print(f'El número {numero} es impar.')"
      ],
      "metadata": {
        "id": "GBXY-fviywQp"
      },
      "execution_count": null,
      "outputs": []
    },
    {
      "cell_type": "markdown",
      "source": [
        "# Problema 3"
      ],
      "metadata": {
        "id": "rLA34mTgxuSf"
      }
    },
    {
      "cell_type": "markdown",
      "source": [
        "Escribe un código que, mediante un ciclo *while*, sume los primeros $100$ números naturales."
      ],
      "metadata": {
        "id": "6E3zFuZSwigv"
      }
    },
    {
      "cell_type": "markdown",
      "source": [
        "## Solución"
      ],
      "metadata": {
        "id": "ehst1O3_xC7x"
      }
    },
    {
      "cell_type": "code",
      "execution_count": null,
      "metadata": {
        "colab": {
          "base_uri": "https://localhost:8080/"
        },
        "id": "3rx6Ntdal_oq",
        "outputId": "8473337f-93df-47c9-fca6-e063c0327e1a"
      },
      "outputs": [
        {
          "output_type": "stream",
          "name": "stdout",
          "text": [
            "La suma de los primeros 100 números naturales es 5050\n"
          ]
        }
      ],
      "source": [
        "inicio = 1\n",
        "suma = 0\n",
        "while inicio <= 100:\n",
        "  suma = suma + inicio\n",
        "  inicio += 1\n",
        "print(f'La suma de los primeros 100 números naturales es {suma}')"
      ]
    },
    {
      "cell_type": "markdown",
      "source": [
        "# Problema 4"
      ],
      "metadata": {
        "id": "pZpuARSKz4zw"
      }
    },
    {
      "cell_type": "markdown",
      "source": [
        "Escribe un código que almacene en una variable el *string* \"Contraseña\". Luego, el programa debe solicitar al usuario \"Introducir contraseña\", hasta que la palabra ingresada sea correcta. <sup><a href=\"#footnote1\" id=\"ref1\">1</a></sup>\n",
        "\n",
        "\n",
        "<p id=\"footnote1\"><sup>1</sup> String: Tipo de dato que almacena texto."
      ],
      "metadata": {
        "id": "SxGOLjlnz6y_"
      }
    },
    {
      "cell_type": "markdown",
      "source": [
        "## Solución"
      ],
      "metadata": {
        "id": "GCRLLHlLri_v"
      }
    },
    {
      "cell_type": "code",
      "source": [
        "contra = 'Contraseña'\n",
        "ingreso = input('Introducir contraseña: ')\n",
        "while ingreso != contra:\n",
        "  ingreso = input('Intruducir contraseña: ')\n",
        "print('Contraseña correcta')"
      ],
      "metadata": {
        "id": "43HD4FIQ0uZx"
      },
      "execution_count": null,
      "outputs": []
    },
    {
      "cell_type": "markdown",
      "source": [
        "# Problema 5"
      ],
      "metadata": {
        "id": "bXAO6t1V1psK"
      }
    },
    {
      "cell_type": "markdown",
      "source": [
        "Escribe un código que, utilizando un ciclo *for*, pida al usuario ingresar un número entero y muestre la tabla de multiplicar desde el 1 al 12 de dicho número."
      ],
      "metadata": {
        "id": "nXwlwVHI11wC"
      }
    },
    {
      "cell_type": "markdown",
      "source": [
        "## Solución"
      ],
      "metadata": {
        "id": "7LzJ-k40BWeI"
      }
    },
    {
      "cell_type": "code",
      "source": [
        "numero = int(input('Ingrese el número para generar la tabla de multiplicar: '))\n",
        "for i in range(1, 13):\n",
        "  tabla = numero * i\n",
        "  print(f'{numero} x {i} = {tabla}')"
      ],
      "metadata": {
        "id": "znEM_VCMBYmI",
        "outputId": "f6c2e366-5af6-4315-e20b-dc46d9170e7c",
        "colab": {
          "base_uri": "https://localhost:8080/"
        }
      },
      "execution_count": null,
      "outputs": [
        {
          "output_type": "stream",
          "name": "stdout",
          "text": [
            "Ingrese el número para generar la tabla de multiplicar: 6\n",
            "6 x 1 = 6\n",
            "6 x 2 = 12\n",
            "6 x 3 = 18\n",
            "6 x 4 = 24\n",
            "6 x 5 = 30\n",
            "6 x 6 = 36\n",
            "6 x 7 = 42\n",
            "6 x 8 = 48\n",
            "6 x 9 = 54\n",
            "6 x 10 = 60\n",
            "6 x 11 = 66\n",
            "6 x 12 = 72\n"
          ]
        }
      ]
    },
    {
      "cell_type": "markdown",
      "source": [
        "# Problema 6"
      ],
      "metadata": {
        "id": "UroIuMyFCKax"
      }
    },
    {
      "cell_type": "markdown",
      "source": [
        "1. Escribe una función que reciba dos números y retorne el producto de los números recibidos.\n",
        "1. Escribe una nueva función que tome el producto calculado en el ítem anterior y redondee el valor al entero.\n",
        "1. Pide al usuario que ingrese dos números, y utiliza ambas funciones para imprimir el valor de la multiplicación redondeado al entero."
      ],
      "metadata": {
        "id": "VoiJyh0zCMzX"
      }
    },
    {
      "cell_type": "markdown",
      "source": [
        "## Solución"
      ],
      "metadata": {
        "id": "veoLCkN_CmBH"
      }
    },
    {
      "cell_type": "code",
      "source": [
        "#Ítem 1\n",
        "def producto(a, b):\n",
        "  x = a * b\n",
        "  return x\n",
        "\n",
        "#Ítem 2\n",
        "def redondeo(x):\n",
        "  return round(x)\n",
        "\n",
        "#Ítem 3\n",
        "a = float(input('Ingrese el primer factor: '))\n",
        "b = float(input('Ingrese el segundo factor: '))\n",
        "entero = redondeo(producto(a, b))\n",
        "\n",
        "print(f'El producto de {a} y {b} redondeado al entero es {entero}.')"
      ],
      "metadata": {
        "id": "mqo-TUFvCnxw"
      },
      "execution_count": null,
      "outputs": []
    },
    {
      "cell_type": "markdown",
      "source": [
        "# Problema 7"
      ],
      "metadata": {
        "id": "GHMOEBgQDvUw"
      }
    },
    {
      "cell_type": "markdown",
      "source": [
        "La fórmula que permite convertir los grados Celsius a Fahrenheit es la siguiente:\n",
        "\n",
        "$$ F = \\frac{9}{5} C + 32$$\n",
        "\n",
        "1. Crea una función que permita realizar esta conversión.\n",
        "1. Luego, pide al usuario que ingrese la temperatura en grados Celsius y utiliza la función para calcular su equivalente en grados Fahrenheit.\n",
        "1. Imprime el resultado redondeado a la centésima."
      ],
      "metadata": {
        "id": "I77oq5plD50H"
      }
    },
    {
      "cell_type": "markdown",
      "source": [
        "## Solución"
      ],
      "metadata": {
        "id": "2FU9za-uFZqP"
      }
    },
    {
      "cell_type": "code",
      "source": [
        "#Ítem 1\n",
        "def F(c):\n",
        "  return (9/5) * c + 32\n",
        "\n",
        "#Ítem 2\n",
        "c = float(input('Ingrese la temperatura en grados Celsius: '))\n",
        "\n",
        "#Ítem 3\n",
        "print(f'{c:.2f} grados Celsius equivalen a {F(c):.2f} grados Fahrenheit.')"
      ],
      "metadata": {
        "id": "jXjJYerMFb-m"
      },
      "execution_count": null,
      "outputs": []
    },
    {
      "cell_type": "markdown",
      "source": [
        "# Problema 8"
      ],
      "metadata": {
        "id": "yC4Sju1KGQFn"
      }
    },
    {
      "cell_type": "markdown",
      "source": [
        "1. Escribe un código que importe el módulo *random* y utiliza la función *randint()* para generar diez números aleatorios entre $1$ y $100$, y almacénalos en una lista.\n",
        "1. Imprime en pantalla la lista con los diez números generados.\n",
        "1. Utiliza la indexación en *Python* para acceder al segundo y sexto elemento de la lista. Ten en cuenta que en *Python* los índices comienzan en $0$ ¿Cómo imprimirías estos elementos?"
      ],
      "metadata": {
        "id": "Qw6j4zbSG0NH"
      }
    },
    {
      "cell_type": "markdown",
      "source": [
        "## Solución"
      ],
      "metadata": {
        "id": "4Z-0tXfAHtwQ"
      }
    },
    {
      "cell_type": "code",
      "source": [
        "#Ítem 1\n",
        "import random as rd\n",
        "\n",
        "a = []\n",
        "for i in range(10):\n",
        "  a.append(rd.randint(1,100))\n",
        "\n",
        "#Ítem 2\n",
        "print(f'2) La lista generada es: {a}\\n')\n",
        "\n",
        "#Ítem 3\n",
        "print(f'3) El número aleatorio de ubicado en la segunda posición de la lista es {a[1]} y el ubicado en la sexta posición es {a[5]}.')"
      ],
      "metadata": {
        "id": "gaFPPPTMGxBP"
      },
      "execution_count": null,
      "outputs": []
    },
    {
      "cell_type": "markdown",
      "source": [
        "# Problema 9"
      ],
      "metadata": {
        "id": "qlwdqEfzHrL_"
      }
    },
    {
      "cell_type": "markdown",
      "source": [
        "El Índice de Masa Corporal (IMC) es una medida que se utiliza para evaluar si una persona se encuentra en un peso saludable con respecto a su estatura. La fórmula para calcular esta medida es:\n",
        "\n",
        "<br>\n",
        "\n",
        "$$ \\textrm{IMC} = \\frac{\\textrm{peso} \\ \\ (\\textrm{kg})}{(\\textrm{altura} \\ \\ (\\textrm{m}))^{2}}$$\n",
        "\n",
        "<br>\n",
        "\n",
        "El valor obtenido con el IMC, de acuerdo con la Organización Mundial de la Salud (OMS) indica si la persona tiene un peso bajo, normal, sobrepeso u obesidad. La clasificación es la siguiente:\n",
        "\n",
        "<br>\n",
        "\n",
        "* Bajo peso: IMC menor a $18,5 \\ \\  \\textrm{kg/m}^{2}$\n",
        "* Peso normal: IMC entre $18,5 \\ \\ \\textrm{kg/m}^{2}$ y $24,9 \\ \\ \\textrm{kg/m}^{2}$\n",
        "* Sobrepeso: IMC entre $25 \\ \\ \\textrm{kg/m}^{2}$ y $29,9 \\ \\ \\textrm{kg/m}^{2}$\n",
        "* Obesidad: IMC de $30 \\ \\ \\textrm{kg/m}^{2}$ o mayor\n",
        "\n",
        "<br>\n",
        "\n",
        "Aunque el IMC es una forma eficaz de evaluar el peso, no tiene en cuenta factores como la distribución de grasa, la masa muscular y otros rasgos de la salud física.\n",
        "\n",
        "<br>\n",
        "\n",
        "1. Considerando la información entregada, implementa un código que permita calcular mediante una función, el valor del IMC de una persona. Luego, solicita al usuario valores de masa y altura e indica, mediante el uso de condicionales, la categoría de la persona según el IMC calculado.\n",
        "1. Considera la siguiente tabla de valores, que muestra el peso y el IMC de once estudiantes. Guarda los valores del IMC en una lista e imprime en pantalla los estudiantes que, según el criterio de la OMS, están en **bajo peso**. Además, para cada IMC que esté en bajo peso, índica también el índice en la lista donde se encuentra.\n",
        "\n",
        "<p><center>\n",
        "\n",
        "| N°      | Peso $(\\textrm{kg})$ | IMC $(\\textrm{kg/m}^{2})$|\n",
        "|---------|----------------------|--------------------------|\n",
        "|$$ 1 $$  | $$29,5 $$            | $$16,43$$                |\n",
        "|$$ 2 $$  | $$37,3 $$            | $$19,31$$                |\n",
        "|$$ 3 $$  | $$38   $$            | $$10,25$$                |\n",
        "|$$ 4 $$  | $$31   $$            | $$18,63$$                |\n",
        "|$$ 5 $$  | $$36   $$            | $$17,85$$                |\n",
        "|$$ 6 $$  | $$40,4 $$            | $$19,76$$                |\n",
        "|$$ 7 $$  | $$47   $$            | $$23,64$$                |\n",
        "|$$ 8 $$  | $$43   $$            | $$21,94$$                |\n",
        "|$$ 9 $$  | $$36   $$            | $$21,3 $$                |\n",
        "|$$ 10$$  | $$40,1 $$            | $$22,67$$                |\n",
        "|$$ 11$$  | $$27   $$            | $$16,48$$                |\n",
        "\n",
        "</center></p>\n",
        "\n"
      ],
      "metadata": {
        "id": "iqH0iITmJH-P"
      }
    },
    {
      "cell_type": "markdown",
      "source": [
        "## Solución"
      ],
      "metadata": {
        "id": "5DsVJd44N8hn"
      }
    },
    {
      "cell_type": "markdown",
      "source": [
        "**1)**"
      ],
      "metadata": {
        "id": "UB5yB2nf_SBB"
      }
    },
    {
      "cell_type": "code",
      "source": [
        "#Ítem 1\n",
        "def IMC(m, a):\n",
        "  return m / a**2\n",
        "\n",
        "m = float(input('Ingrese la masa de la persona en kilogramos: '))\n",
        "a = float(input('Ingrese la altura de la persona en metros: '))\n",
        "\n",
        "if IMC(m, a) < 18.5:\n",
        "  print(f'El IMC de una persona de masa {m:.1f} kg y de altura {a:.1f} m es {IMC(m, a):.1f}, por lo tanto, su categoría es: Bajo peso.')\n",
        "elif 18.5 <= IMC(m, a) <= 24.9:\n",
        "  print(f'El IMC de una persona de masa {m:.1f} kg y de altura {a:.1f} m es {IMC(m, a):.1f}, por lo tanto, su categoría es: Peso normal.')\n",
        "elif 25 <= IMC(m, a) <= 29.9:\n",
        "  print(f'El IMC de una persona de masa {m:.1f} kg y de altura {a:.1f} m es {IMC(m, a):.1f}, por lo tanto, su categoría es: Sobrepeso.')\n",
        "else:\n",
        "  print(f'El IMC de una persona de masa {m:.1f} kg y de altura {a:.1f} m es {IMC(m, a):.1f}, por lo tanto, su categoría es: Obesidad.')"
      ],
      "metadata": {
        "id": "68qGpHlhN72o"
      },
      "execution_count": null,
      "outputs": []
    },
    {
      "cell_type": "markdown",
      "source": [
        "**2)**"
      ],
      "metadata": {
        "id": "ESi1xfwy_UHo"
      }
    },
    {
      "cell_type": "code",
      "source": [
        "#Ítem 2\n",
        "IMC = [16.43, 19.31, 20.25, 18.63, 17.85, 19.76, 23.64, 21.94, 21.3, 22.67, 16.48]\n",
        "\n",
        "print(f'2) Los estudiantes que tienen un IMC menor a 18,5 son: \\n')\n",
        "for i in range(11):\n",
        "  n = i + 1\n",
        "  if IMC[i] < 18.5:\n",
        "    print(f'El estudiante {n}, con un IMC de {IMC[i]}. Este valor tiene asociado el índice {i} en la lista.')"
      ],
      "metadata": {
        "colab": {
          "base_uri": "https://localhost:8080/"
        },
        "id": "jfpzgmeM_WTy",
        "outputId": "e09c163d-1202-4d90-8031-3071ff7dcf48"
      },
      "execution_count": null,
      "outputs": [
        {
          "output_type": "stream",
          "name": "stdout",
          "text": [
            "2) Los estudiantes que tienen un IMC menor a 18,5 son: \n",
            "\n",
            "El estudiante 1, con un IMC de 16.43. Este valor tiene asociado el índice 0 en la lista.\n",
            "El estudiante 5, con un IMC de 17.85. Este valor tiene asociado el índice 4 en la lista.\n",
            "El estudiante 11, con un IMC de 16.48. Este valor tiene asociado el índice 10 en la lista.\n"
          ]
        }
      ]
    }
  ]
}