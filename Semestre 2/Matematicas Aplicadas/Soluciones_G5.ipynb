{
  "nbformat": 4,
  "nbformat_minor": 0,
  "metadata": {
    "colab": {
      "provenance": [],
      "collapsed_sections": [
        "76eg6JsYVXJq",
        "UsUSj6id8GhN",
        "e0q7pnWLA-PN",
        "T1_qsbDMMsal",
        "lOmk2-7PV3hF",
        "f0t407VWWnyP",
        "aoZYoi_fdhTH",
        "WHnS-vfztdz2"
      ]
    },
    "kernelspec": {
      "name": "python3",
      "display_name": "Python 3"
    },
    "language_info": {
      "name": "python"
    }
  },
  "cells": [
    {
      "cell_type": "markdown",
      "source": [
        "# Problema 1"
      ],
      "metadata": {
        "id": "UCCOMbmnLfHY"
      }
    },
    {
      "cell_type": "markdown",
      "source": [
        "Las matrices $A$ y $B$ representan las ventas en dos años, en millones de dólares, de los tres productos de una empresa en las cuatro regiones en que está disponible. Es decir, $a_{ij}$ y $b_{ij}$ representan el monto de las ventas del producto $i$ en la región $j$ el primer y segundo año, respectivamente:\n",
        "\n",
        "<br>\n",
        "\n",
        "\\begin{split}\n",
        "A = \\begin{pmatrix}\n",
        " 2,6 &  4,8 &  1,8 & 0,9 \\\\\n",
        " 3,2 &  4,4 &  2,5 & 2,8 \\\\\n",
        " 2,4 &  3,6 &  3,8 & 2,5 \\\\\n",
        "\\end{pmatrix} \\text{ } B= \\begin{pmatrix}\n",
        " 3,6 &  2,5 &  3,0 & 2,5 \\\\\n",
        " 4,5 &  5,0 &  3,5 & 3,8 \\\\\n",
        " 2,9 &  3,0 &  4,6 & 4,0 \\\\\n",
        "\\end{pmatrix}\n",
        "\\end{split}\n",
        "\n",
        "<br>\n",
        "\n",
        "1. Indique el orden de cada matriz.\n",
        "2. Calcule la matriz $S = A + B$.\n",
        "3. Calcule la matriz $D = B - A$.\n",
        "4. Indique el valor e interprete los elementos $s_{24}$ y $d_{24}$.\n",
        "5. Para el tercer año de funcionamiento, los tres productos ahora están disponibles en seis regiones. Durante este año, las ventas de esta empresa estarán registradas en una matriz $E$. ¿Es posible determinar la matriz $T = A + B + E$? Justifique su respuesta."
      ],
      "metadata": {
        "id": "AHPLM97ONSwR"
      }
    },
    {
      "cell_type": "markdown",
      "source": [
        "## Solución"
      ],
      "metadata": {
        "id": "76eg6JsYVXJq"
      }
    },
    {
      "cell_type": "markdown",
      "source": [
        "**1)**\n",
        "\n",
        "Ambas matrices son de orden $3 \\times 4$."
      ],
      "metadata": {
        "id": "bYQbIQ_dVaWL"
      }
    },
    {
      "cell_type": "markdown",
      "source": [
        "**2)**\n",
        "\n",
        "Calculando la matriz $S = A + B$\n",
        "\n",
        "<br>\n",
        "\n",
        "\\begin{split}\n",
        "S &= \\begin{pmatrix}\n",
        "2,6+3,6 & 4,8+2,5 & 1,8+3,0 & 0,9+2,5\\\\\n",
        "3,2+4,5 & 4,4+5,0 & 2,5+3,5 & 2,8+3,8\\\\\n",
        "2,4+2,9 & 3,6+3,0 & 3,8+4,6 & 2,5+4,0\\\\\n",
        "\\end{pmatrix}\\\\\n",
        "\\\\\n",
        "S &= \\begin{pmatrix}\n",
        "6,2 & 7,3 & 4,8 & 3,4\\\\\n",
        "7,7 & 9,4 & 6,0 & 6,6\\\\\n",
        "5,3 & 6,6 & 8,4 & 6,5\\\\\n",
        "\\end{pmatrix}\n",
        "\\end{split}"
      ],
      "metadata": {
        "id": "qKJCPKcQX_5k"
      }
    },
    {
      "cell_type": "code",
      "execution_count": null,
      "metadata": {
        "colab": {
          "base_uri": "https://localhost:8080/"
        },
        "outputId": "7038cb27-e91f-4b8c-a097-d82f35afea63",
        "id": "UyahF_i0ZkKp"
      },
      "outputs": [
        {
          "output_type": "stream",
          "name": "stdout",
          "text": [
            "La matriz S es:\n",
            "\n",
            "[[6.2 7.3 4.8 3.4]\n",
            " [7.7 9.4 6.  6.6]\n",
            " [5.3 6.6 8.4 6.5]]\n"
          ]
        }
      ],
      "source": [
        "import numpy as np\n",
        "\n",
        "A = np.array([[2.6, 4.8, 1.8, 0.9],\n",
        "             [3.2, 4.4, 2.5, 2.8],\n",
        "             [2.4, 3.6, 3.8, 2.5]])\n",
        "B = np.array([[3.6, 2.5, 3.0, 2.5],\n",
        "             [4.5, 5.0, 3.5, 3.8],\n",
        "             [2.9, 3.0, 4.6, 4.0]])\n",
        "\n",
        "S = A + B\n",
        "print(f'La matriz S es:\\n\\n{S}')"
      ]
    },
    {
      "cell_type": "markdown",
      "source": [
        "**3)**\n",
        "\n",
        "Calculando la matriz $D = B - A$\n",
        "\n",
        "<br>\n",
        "\n",
        "\\begin{split}\n",
        "D &= \\begin{pmatrix}\n",
        "3,6-2,6 & 2,5-4,8 & 3,0-1,8 & 2,5-0,9\\\\\n",
        "4,5-3,2 & 5,0-4,4 & 3,5-2,5 & 3,8-2,8\\\\\n",
        "2,9-2,4 & 3,0-3,6 & 4,6-3,8 & 4,0-2,5\\\\\n",
        "\\end{pmatrix}\\\\\n",
        "\\\\\n",
        "D &= \\begin{pmatrix}\n",
        "1 & -2,3 & 1,2 & 1,6\\\\\n",
        "1,3 & 0,6 & 1 & 1\\\\\n",
        "0,5 & -0,6 & 0,8 & 1,5\\\\\n",
        "\\end{pmatrix}\n",
        "\\end{split}"
      ],
      "metadata": {
        "id": "5SYE-S39ZM6I"
      }
    },
    {
      "cell_type": "code",
      "execution_count": null,
      "metadata": {
        "colab": {
          "base_uri": "https://localhost:8080/"
        },
        "id": "on07Pq-wLQX9",
        "outputId": "0099af71-1349-4e5a-f549-6499d8e92f17"
      },
      "outputs": [
        {
          "output_type": "stream",
          "name": "stdout",
          "text": [
            "La matriz D es:\n",
            "\n",
            "[[ 1.  -2.3  1.2  1.6]\n",
            " [ 1.3  0.6  1.   1. ]\n",
            " [ 0.5 -0.6  0.8  1.5]]\n"
          ]
        }
      ],
      "source": [
        "import numpy as np\n",
        "\n",
        "A = np.array([[2.6, 4.8, 1.8, 0.9],\n",
        "             [3.2, 4.4, 2.5, 2.8],\n",
        "             [2.4, 3.6, 3.8, 2.5]])\n",
        "B = np.array([[3.6, 2.5, 3.0, 2.5],\n",
        "             [4.5, 5.0, 3.5, 3.8],\n",
        "             [2.9, 3.0, 4.6, 4.0]])\n",
        "\n",
        "D = B - A\n",
        "print(f'La matriz D es:\\n\\n{D}')\n",
        "\n"
      ]
    },
    {
      "cell_type": "markdown",
      "source": [
        "**4)**\n",
        "\n",
        "El elemento $s_{24}$ es $6,6$. En los dos años de funcionamiento, la empresa vendió un total de $6,6$ millones de dólares del producto $2$ en la región $4$.\n",
        "\n",
        "<br>\n",
        "\n",
        "El elemento $d_{24}$ es $1.0$. El segundo año las ventas del producto $2$ en la región $4$ aumentaron en $1$ millón de dólares con respecto al primer año."
      ],
      "metadata": {
        "id": "ZE5UZ21jaPxL"
      }
    },
    {
      "cell_type": "markdown",
      "source": [
        "**5)**\n",
        "\n",
        "El orden de la matriz $E$ es $3 \\times 6$, por lo tanto, no es posible determinar la matriz $T$ ya que no tiene el mismo orden que las matrices $A$ y $B$."
      ],
      "metadata": {
        "id": "S_r4a8HQcgxt"
      }
    },
    {
      "cell_type": "markdown",
      "source": [
        "# Problema 2"
      ],
      "metadata": {
        "id": "MdVDj7xheCLm"
      }
    },
    {
      "cell_type": "markdown",
      "source": [
        "Una fábrica con sucursales en Japón y China, produce tres tipos de componentes $j$, para cinco modelos de computador $i$. Los costos de producción mensual, en miles de dólares, de ambas sucursales se representan en las matrices $J$ y $C$, respectivamente:\n",
        "\n",
        "<br>\n",
        "\n",
        "\\begin{split}\n",
        "J = \\begin{pmatrix}\n",
        " 100 &  200 &  150  \\\\\n",
        " 120 &  210 &  170  \\\\\n",
        " 112 &  200 &  131  \\\\\n",
        " 124 &  310 &  170  \\\\\n",
        " 136 &  156 &  140  \\\\\n",
        "\\end{pmatrix} \\text{ } C = \\begin{pmatrix}\n",
        " 110 &  190 &  160  \\\\\n",
        " 130 &  220 &  180  \\\\\n",
        " 146 &  190 &  141  \\\\\n",
        " 143 &  312 &  163  \\\\\n",
        " 137 &  116 &  156  \\\\\n",
        "\\end{pmatrix}\n",
        "\\end{split}\n",
        "\n",
        "<br>\n",
        "\n",
        "1. ¿Cuál es el orden de las matrices?\n",
        "2. Inteprete el elemento $j_{21}$ y $c_{12}$ en el contexto del problema.\n",
        "3. Utilizando *Python*, calcule el costo total de producción para cada modelo, considerando ambas sucursales.\n",
        "4. Un trabajador indica que, en la sucursal japonesa, el costo de producción del producto $3$, modelo $4$ de computador, es más alto que en la sucursal china. ¿Tiene razón? Justifique apropiadamente."
      ],
      "metadata": {
        "id": "CGrP79UpeM6k"
      }
    },
    {
      "cell_type": "markdown",
      "source": [
        "## Solución"
      ],
      "metadata": {
        "id": "UsUSj6id8GhN"
      }
    },
    {
      "cell_type": "markdown",
      "source": [
        "**1)**\n",
        "\n",
        "Ambas matrices son de orden $5 \\times 3$."
      ],
      "metadata": {
        "id": "mG2LZMmbkXT9"
      }
    },
    {
      "cell_type": "markdown",
      "source": [
        "**2)**\n",
        "\n",
        "El elemento $j_{21}$ es $120$. Indica que la planta japonesa, el costo de producción mensual del componente $1$ para el modelo de computador $2$, es $120$ miles de dólares.\n",
        "\n",
        "El elemento $c_{12}$ es $190$. Indica que la planta china, el costo de producción mensual del componente $2$ para el modelo de computador $1$, es $190$ miles de dólares."
      ],
      "metadata": {
        "id": "geOn1ZWikbfP"
      }
    },
    {
      "cell_type": "markdown",
      "source": [
        "**3)**"
      ],
      "metadata": {
        "id": "WR8R7KFElYeI"
      }
    },
    {
      "cell_type": "code",
      "source": [
        "import numpy as np\n",
        "\n",
        "J = np.array([[100, 200, 150],\n",
        "              [120, 210, 170],\n",
        "              [112, 200, 131],\n",
        "              [124, 310, 170],\n",
        "              [136, 156, 140]])\n",
        "\n",
        "C = np.array([[110, 190, 160],\n",
        "              [130, 220, 180],\n",
        "              [146, 190, 141],\n",
        "              [143, 312, 163],\n",
        "              [137, 116, 156]])\n",
        "\n",
        "T = J + C\n",
        "print(f'3) El costo total de producción de la fabrica es:\\n\\n{T}')"
      ],
      "metadata": {
        "colab": {
          "base_uri": "https://localhost:8080/"
        },
        "id": "SpC5pYpfaPHs",
        "outputId": "06c9d029-7ce9-49c9-8475-c30d3e1158d0"
      },
      "execution_count": null,
      "outputs": [
        {
          "output_type": "stream",
          "name": "stdout",
          "text": [
            "3) El costo total de producción de la fabrica es:\n",
            "\n",
            "[[210 390 310]\n",
            " [250 430 350]\n",
            " [258 390 272]\n",
            " [267 622 333]\n",
            " [273 272 296]]\n"
          ]
        }
      ]
    },
    {
      "cell_type": "markdown",
      "source": [
        "**4)**\n",
        "\n",
        "Es correcto lo que indica el trabajador, ya que el costo de producción mensual del componente $3$ para el modelo $4$ de computador es $170$ mil dólares en la planta japonesa, mientras que en la planta china es $163$ mil dólares. Por lo que es $7$ mil dólares más caro en la planta japonesa."
      ],
      "metadata": {
        "id": "DLusXoXfmkCI"
      }
    },
    {
      "cell_type": "markdown",
      "source": [
        "# Problema 3"
      ],
      "metadata": {
        "id": "d1kLjxmU8En9"
      }
    },
    {
      "cell_type": "markdown",
      "source": [
        "La empresa Beta tiene cinco plantas en Chile, y en cada una de ellas fabrica siete productos. El número de unidades del producto $i$ fabricadas en la planta $j$ en una semana está representado en la matriz $C$ en el elemento $c_{ij}$.\n",
        "\n",
        "<br>\n",
        "\n",
        "\\begin{split}\n",
        "C = \\begin{pmatrix}\n",
        " 120 &  200 &  155 &  125  &  230 \\\\\n",
        " 155 &  130 &  110 &  160  &  180 \\\\\n",
        " 140 &  205 &  150 &  125  &  155 \\\\\n",
        " 130 &  120 &  230 &  225  &  125 \\\\\n",
        " 135 &  70  &  190 &  175  &  95  \\\\\n",
        " 110 &  265 &  180 &  230  &  180 \\\\\n",
        " 185 &  85  &  120 &  135  &  150 \\\\\n",
        "\\end{pmatrix}\n",
        "\\end{split}\n",
        "\n",
        "<br>\n",
        "\n",
        "La empresa se expande, creando cinco plantas en Ecuador que producen los mismos siete productos. La producción semanal de esta filial estará representada por una matriz $E$.\n",
        "\n",
        "1. Si se sabe que los volúmenes de producción semanal de la filial en Ecuador son un $20\\%$ menor que en Chile, calcule la matriz $E$ utilizando *Python*.\n",
        "2. Si representamos la producción semanal total de la empresa Beta, considerando ambas filiales, por la matriz $T$, escriba la expresión que calcula cada elemento de la matriz $T$ usando notación matricial.\n",
        "3. Calcule la matriz $T$ utilizando *Python*.\n",
        "4. Interprete los elementos $c_{34}$ y $t_{72}$ en el contexto del problema."
      ],
      "metadata": {
        "id": "kpido2Zy8zg0"
      }
    },
    {
      "cell_type": "markdown",
      "source": [
        "## Solución"
      ],
      "metadata": {
        "id": "e0q7pnWLA-PN"
      }
    },
    {
      "cell_type": "markdown",
      "source": [
        "**1)**\n",
        "\n",
        "Los volúmenes de producción de Ecuador son un $20\\%$ menor que en Chile. Utilizando variaciones porcentuales:\n",
        "\n",
        "$$100\\% - 20\\% = 80\\%$$\n",
        "\n",
        "Entonces:\n",
        "\n",
        "\\begin{split}\n",
        "E &= 0,8 \\cdot C\\\\\n",
        "\\\\\n",
        "e_{ij} &= 0,8 \\cdot c_{ij}\n",
        "\\end{split}\n"
      ],
      "metadata": {
        "id": "7EcMFlCMCIvN"
      }
    },
    {
      "cell_type": "code",
      "source": [
        "import numpy as np\n",
        "\n",
        "C = np.array([[120, 200, 155, 125, 230],\n",
        "              [155, 130, 110, 160, 180],\n",
        "              [140, 205, 150, 125, 155],\n",
        "              [130, 120, 230, 225, 125],\n",
        "              [135, 70, 190, 175, 95],\n",
        "              [110, 265, 180, 230, 180],\n",
        "              [185, 85, 120, 135, 150]])\n",
        "E = 0.8 * C\n",
        "print(f'La producción de Ecuador es:\\n\\n{E}')\n"
      ],
      "metadata": {
        "colab": {
          "base_uri": "https://localhost:8080/"
        },
        "id": "tVVHleU_DDDn",
        "outputId": "c35d88f3-70ac-493a-90fa-914e01f385cd"
      },
      "execution_count": null,
      "outputs": [
        {
          "output_type": "stream",
          "name": "stdout",
          "text": [
            "La producción de Ecuador es:\n",
            "\n",
            "[[ 96. 160. 124. 100. 184.]\n",
            " [124. 104.  88. 128. 144.]\n",
            " [112. 164. 120. 100. 124.]\n",
            " [104.  96. 184. 180. 100.]\n",
            " [108.  56. 152. 140.  76.]\n",
            " [ 88. 212. 144. 184. 144.]\n",
            " [148.  68.  96. 108. 120.]]\n"
          ]
        }
      ]
    },
    {
      "cell_type": "markdown",
      "source": [
        "**2)**\n",
        "\n",
        "La expresión que permite calcular la producción total de la empresa Beta es:\n",
        "\n",
        "$$t_{ij} = c_{ij} + e_{ij}$$"
      ],
      "metadata": {
        "id": "-gQm_R7UEVxP"
      }
    },
    {
      "cell_type": "markdown",
      "source": [
        "**3)**"
      ],
      "metadata": {
        "id": "ar_PdY9BE0oO"
      }
    },
    {
      "cell_type": "code",
      "source": [
        "T = C + E\n",
        "print(f'3) La matriz que muestra la producción total de la empresa, considerando ambas filiales es:\\n\\n{T}')"
      ],
      "metadata": {
        "colab": {
          "base_uri": "https://localhost:8080/"
        },
        "id": "qomL2r4YE3WP",
        "outputId": "23decfe8-6e43-487c-d8f8-7c4d50e5ccc0"
      },
      "execution_count": null,
      "outputs": [
        {
          "output_type": "stream",
          "name": "stdout",
          "text": [
            "3) La matriz que muestra la producción total de la empresa, considerando ambas filiales es:\n",
            "\n",
            "[[216. 360. 279. 225. 414.]\n",
            " [279. 234. 198. 288. 324.]\n",
            " [252. 369. 270. 225. 279.]\n",
            " [234. 216. 414. 405. 225.]\n",
            " [243. 126. 342. 315. 171.]\n",
            " [198. 477. 324. 414. 324.]\n",
            " [333. 153. 216. 243. 270.]]\n"
          ]
        }
      ]
    },
    {
      "cell_type": "markdown",
      "source": [
        "**4)**\n",
        "\n",
        "El elemento $c_{34}$ es $125$. En una semana, la filial chilena de la empresa Beta fabrica $125$ unidades del producto $3$ en la planta $4$.\n",
        "\n",
        "El elemento $t_{72}$ es $153$. En una semana, ambas filiales fabrican $153$ unidades del producto $7$ en la planta $2$."
      ],
      "metadata": {
        "id": "jaUbVcfvFNEu"
      }
    },
    {
      "cell_type": "markdown",
      "source": [
        "# Problema 4"
      ],
      "metadata": {
        "id": "DZh7JytTJKsb"
      }
    },
    {
      "cell_type": "markdown",
      "source": [
        "Una empresa que fabrica zapatos tiene dos plantas, una en Valparaíso y la otra en Temuco. La empresa produce zapatos de color negro, blanco y café, tanto para niños, damas como caballeros. La capacidad actual de producción mensual (en miles de pares) para Valparaíso y Temuco, están dadas por las matrices $V$ y $T$, respectivamente. Para ambas matrices, según el orden en que se mencionan, las filas corresponden al color del calzado y las columnas al tipo de persona que utilizará el calzado.\n",
        "\n",
        "<br>\n",
        "\n",
        "\\begin{split}\n",
        "V = \\begin{pmatrix}\n",
        " 30 &  34 &  20  \\\\\n",
        " 45 &  20 &  16  \\\\\n",
        " 14 &  26 &  25  \\\\\n",
        "\\end{pmatrix} \\text{ } T = \\begin{pmatrix}\n",
        " 35 &  30 &  26  \\\\\n",
        " 52 &  25 &  18  \\\\\n",
        " 23 &  24 &  32  \\\\\n",
        "\\end{pmatrix}\n",
        "\\end{split}\n",
        "\n",
        "<br>\n",
        "\n",
        "1. Determine la producción mensual total de ambas plantas, representándola en una matriz $A$. Utilice *Python* para resolver.\n",
        "2. Interprete el elemento $a_{21}$ en el contexto del problema.\n",
        "3. Si para el próximo año se estima que la producción en Valparaíso aumenta en un $30\\%$, mientras que la de Temuco se reduce en un $10\\%$, represente la nueva producción total en la matriz $B$.\n",
        "4. Interprete el elemento $b_{13}$ en el contexto del problema."
      ],
      "metadata": {
        "id": "biNp7JeIJU2I"
      }
    },
    {
      "cell_type": "markdown",
      "source": [
        "## Solución"
      ],
      "metadata": {
        "id": "T1_qsbDMMsal"
      }
    },
    {
      "cell_type": "markdown",
      "source": [
        "**1)**\n",
        "\n",
        "La producción mensual total entre ambas plantas se calcula mediante la siguiente expresión:\n",
        "\n",
        "$$t_{ij} = v_{ij} + t_{ij}$$"
      ],
      "metadata": {
        "id": "tEBMetWgMvHR"
      }
    },
    {
      "cell_type": "code",
      "source": [
        "import numpy as np\n",
        "\n",
        "V = np.array([[30, 34, 20],\n",
        "              [45, 20, 16],\n",
        "              [14, 26, 25]])\n",
        "\n",
        "T = np.array([[35, 30, 26],\n",
        "              [52, 25, 18],\n",
        "              [23, 24, 32]])\n",
        "\n",
        "A = V + T\n",
        "print(f'1) La producción mensual total de ambas plantas es:\\n\\n{A}')\n"
      ],
      "metadata": {
        "colab": {
          "base_uri": "https://localhost:8080/"
        },
        "outputId": "98f7f8c2-180f-42e1-a855-5b1a6d964f05",
        "id": "azi3so8WNRkI"
      },
      "execution_count": null,
      "outputs": [
        {
          "output_type": "stream",
          "name": "stdout",
          "text": [
            "1) La producción mensual total de ambas plantas es:\n",
            "\n",
            "[[65 64 46]\n",
            " [97 45 34]\n",
            " [37 50 57]]\n"
          ]
        }
      ]
    },
    {
      "cell_type": "markdown",
      "source": [
        "**2)**\n",
        "\n",
        "El elemento $a_{21}$ es $97$. Mensualmente, se fabrican $97$ mil pares de zapatos blancos para niños, entre ambas plantas."
      ],
      "metadata": {
        "id": "zAGWyGjiN49g"
      }
    },
    {
      "cell_type": "markdown",
      "source": [
        "**3)**\n",
        "\n",
        "Se estima que el próximo año la producción en Valparaíso aumente un $30\\%$ y en Temuco se reduzca un $10\\%$. Utilizando variaciones porcentuales:\n",
        "\n",
        "Valparaíso: $$100\\% + 30\\% = 130\\%$$\n",
        "\n",
        "Temuco: $$100\\% - 10\\% = 90\\%$$\n",
        "\n",
        "Entonces:\n",
        "\n",
        "\\begin{split}\n",
        "B &= 1,3 \\cdot V + 0,9 \\cdot T\\\\\n",
        "\\\\\n",
        "b_{ij} &= 1,3\\cdot v_{ij} + 0,9 \\cdot t_{ij}\n",
        "\\end{split}"
      ],
      "metadata": {
        "id": "ywIKtEy8OliI"
      }
    },
    {
      "cell_type": "code",
      "source": [
        "import numpy as np\n",
        "\n",
        "V = np.array([[30, 34, 20],\n",
        "              [45, 20, 16],\n",
        "              [14, 26, 25]])\n",
        "\n",
        "T = np.array([[35, 30, 26],\n",
        "              [52, 25, 18],\n",
        "              [23, 24, 32]])\n",
        "\n",
        "B = 1.3 * V + 0.9 * T\n",
        "print(f'3) La producción mensual total estimada de ambas plantas para el próximo año es:\\n\\n{B}')"
      ],
      "metadata": {
        "colab": {
          "base_uri": "https://localhost:8080/"
        },
        "id": "w4p_Ro6rPUNC",
        "outputId": "d8aea796-8cd1-47d7-b8b4-a94fee854bc1"
      },
      "execution_count": null,
      "outputs": [
        {
          "output_type": "stream",
          "name": "stdout",
          "text": [
            "3) La producción mensual total estimada de ambas plantas para el próximo año es:\n",
            "\n",
            "[[ 70.5  71.2  49.4]\n",
            " [105.3  48.5  37. ]\n",
            " [ 38.9  55.4  61.3]]\n"
          ]
        }
      ]
    },
    {
      "cell_type": "markdown",
      "source": [
        "**4)**\n",
        "\n",
        "El elemento $b_{13}$ es $49,4$. Para el próximo año, se estima que mensualmente se fabriquen $49,4$ mil pares de zapatos negros para caballeros, entre ambas plantas."
      ],
      "metadata": {
        "id": "spCzi21mQDkB"
      }
    },
    {
      "cell_type": "markdown",
      "source": [
        "# Problema 5"
      ],
      "metadata": {
        "id": "eqY0UgBhQ1PL"
      }
    },
    {
      "cell_type": "markdown",
      "source": [
        "Genere una matriz $M$ de orden $8 \\times 9$ donde cada término de la matriz está definido por:\n",
        "\n",
        "$$m_{ij} = 8i + 12j$$\n",
        "\n",
        "y calcule su transpuesta."
      ],
      "metadata": {
        "id": "6W2fcVlyU2Ze"
      }
    },
    {
      "cell_type": "markdown",
      "source": [
        "## Solución"
      ],
      "metadata": {
        "id": "lOmk2-7PV3hF"
      }
    },
    {
      "cell_type": "code",
      "source": [
        "import numpy as np\n",
        "\n",
        "M = np.fromfunction(lambda i, j: 8 * (i + 1) + 12 * (j + 1), (8, 9))\n",
        "M_t = M.T\n",
        "print(f'La matriz M es:\\n\\n{M}\\n\\n')\n",
        "print(f'La matriz transpuesta de M es:\\n\\n{M_t}')"
      ],
      "metadata": {
        "colab": {
          "base_uri": "https://localhost:8080/"
        },
        "id": "G3Iwzdj7VL5t",
        "outputId": "5892ed26-856a-4a35-d466-bb80baba4c0e"
      },
      "execution_count": null,
      "outputs": [
        {
          "output_type": "stream",
          "name": "stdout",
          "text": [
            "La matriz M es:\n",
            "\n",
            "[[ 20.  32.  44.  56.  68.  80.  92. 104. 116.]\n",
            " [ 28.  40.  52.  64.  76.  88. 100. 112. 124.]\n",
            " [ 36.  48.  60.  72.  84.  96. 108. 120. 132.]\n",
            " [ 44.  56.  68.  80.  92. 104. 116. 128. 140.]\n",
            " [ 52.  64.  76.  88. 100. 112. 124. 136. 148.]\n",
            " [ 60.  72.  84.  96. 108. 120. 132. 144. 156.]\n",
            " [ 68.  80.  92. 104. 116. 128. 140. 152. 164.]\n",
            " [ 76.  88. 100. 112. 124. 136. 148. 160. 172.]]\n",
            "\n",
            "\n",
            "La matriz transpuesta de M es:\n",
            "\n",
            "[[ 20.  28.  36.  44.  52.  60.  68.  76.]\n",
            " [ 32.  40.  48.  56.  64.  72.  80.  88.]\n",
            " [ 44.  52.  60.  68.  76.  84.  92. 100.]\n",
            " [ 56.  64.  72.  80.  88.  96. 104. 112.]\n",
            " [ 68.  76.  84.  92. 100. 108. 116. 124.]\n",
            " [ 80.  88.  96. 104. 112. 120. 128. 136.]\n",
            " [ 92. 100. 108. 116. 124. 132. 140. 148.]\n",
            " [104. 112. 120. 128. 136. 144. 152. 160.]\n",
            " [116. 124. 132. 140. 148. 156. 164. 172.]]\n"
          ]
        }
      ]
    },
    {
      "cell_type": "markdown",
      "source": [
        "# Problema 6"
      ],
      "metadata": {
        "id": "GzG5888JV5Yc"
      }
    },
    {
      "cell_type": "markdown",
      "source": [
        "Genere dos matrices:\n",
        "\n",
        "*   Una matriz $A$ de orden $5 \\times 7$, con $a_{ij} = i \\cdot j.$\n",
        "*   Una matriz $B$ de orden $7 \\times 5$, con $b_{ij} = 15i - 2j.$\n",
        "\n",
        "y calcule $C = A^{T} + \\dfrac{1}{2}B$.\n",
        "\n"
      ],
      "metadata": {
        "id": "dHbVKHuLV71S"
      }
    },
    {
      "cell_type": "markdown",
      "source": [
        "## Solución"
      ],
      "metadata": {
        "id": "f0t407VWWnyP"
      }
    },
    {
      "cell_type": "code",
      "source": [
        "import numpy as np\n",
        "\n",
        "A = np.fromfunction(lambda i, j: (i + 1) * (j + 1), (5, 7))\n",
        "B = np.fromfunction(lambda i, j: 15 * (i + 1) - 2 * (j + 1), (7, 5))\n",
        "\n",
        "C = A.T + 0.5 * B\n",
        "print(f'La matriz C es:\\n\\n{C}')"
      ],
      "metadata": {
        "colab": {
          "base_uri": "https://localhost:8080/"
        },
        "id": "DMimPi3GWpv8",
        "outputId": "365c9ed0-de56-497e-869a-ea34c63e6ac4"
      },
      "execution_count": null,
      "outputs": [
        {
          "output_type": "stream",
          "name": "stdout",
          "text": [
            "La matriz C es:\n",
            "\n",
            "[[ 7.5  7.5  7.5  7.5  7.5]\n",
            " [16.  17.  18.  19.  20. ]\n",
            " [24.5 26.5 28.5 30.5 32.5]\n",
            " [33.  36.  39.  42.  45. ]\n",
            " [41.5 45.5 49.5 53.5 57.5]\n",
            " [50.  55.  60.  65.  70. ]\n",
            " [58.5 64.5 70.5 76.5 82.5]]\n"
          ]
        }
      ]
    },
    {
      "cell_type": "markdown",
      "source": [
        "# Problema 7"
      ],
      "metadata": {
        "id": "HZJfudDGXjic"
      }
    },
    {
      "cell_type": "markdown",
      "source": [
        "Una red de sensores recoge datos de temperatura ($°C$), humedad (porcentaje) y presión (hPa) en cinco días distintos (de lunes a viernes). Los datos medidos se muestran en la matriz $D$:\n",
        "\n",
        "<br>\n",
        "\n",
        "\\begin{equation*}\n",
        "\\begin{matrix}\n",
        "& \\begin{matrix}\n",
        " & Lu  \\ \\ &Ma \\ \\ &Mi \\ \\ & Ju \\ \\ &Vi\n",
        "\\end{matrix} \\\\\n",
        "&D = \\begin{pmatrix}\n",
        "20    &  28    &  22    &  26     &  24   \\\\\n",
        "52    &  57    &  56    &  54     &  58   \\\\\n",
        "1.066 &  1.068 &  1.066 &  1.064  &  1.068 \\\\\n",
        "\\end{pmatrix} & \\ \\begin{matrix}\n",
        "Cº\\\\\n",
        "\\% \\\\\n",
        "hPa\n",
        "\\end{matrix}\\\\\n",
        "\\end{matrix}\n",
        "\\end{equation*}\n",
        "\n",
        "<br>\n",
        "\n",
        "Se sabe que por un error de calibración de los sensores, las medidas registradas deberían ser un $5\\%$ menores que las registradas.\n",
        "\n",
        "1. Calcule en una matriz $S$ los valores correctos de temperatura, humedad y presión. Utilice *Python* para calcular.\n",
        "2. Obtenga la matriz $S^{T}$.\n",
        "3. Interprete los elementos $s_{24}$ y $s_{31}^{T}$.\n"
      ],
      "metadata": {
        "id": "Z-C9zGeKYQ11"
      }
    },
    {
      "cell_type": "markdown",
      "source": [
        "## Solución"
      ],
      "metadata": {
        "id": "aoZYoi_fdhTH"
      }
    },
    {
      "cell_type": "markdown",
      "source": [
        "**1)**\n",
        "\n",
        "Por error en la calibración de los sensores, las medidas deberían ser un $5\\%$ menores que las registradas. Utilizando variaciones porcentuales:\n",
        "\n",
        "$$100\\% - 5\\% = 95\\%$$\n",
        "\n",
        "Entonces:\n",
        "\n",
        "\\begin{split}\n",
        "S &= 0,95 \\cdot D\\\\\n",
        "\\\\\n",
        "s_{ij} &= 0,95 \\cdot d_{ij}\n",
        "\\end{split}"
      ],
      "metadata": {
        "id": "UhUDu2Sydr9M"
      }
    },
    {
      "cell_type": "code",
      "source": [
        "import numpy as np\n",
        "\n",
        "D = np.array([[20, 28, 22, 26, 24],\n",
        "              [52, 57, 56, 54, 58],\n",
        "              [1066, 1068, 1066, 1064, 1068]])\n",
        "#Item 1)\n",
        "S = 0.95 * D\n",
        "print(f'1) Los valores correctos de temperatura, humedad y presión son:\\n\\n{S}\\n\\n')\n",
        "\n",
        "#Item 2)\n",
        "S_t = S.T\n",
        "print(f'2) La matriz transpuesta de S es:\\n\\n{S_t}')"
      ],
      "metadata": {
        "colab": {
          "base_uri": "https://localhost:8080/"
        },
        "id": "IPMUWOIjeLvx",
        "outputId": "a2f24612-448e-4f52-b3b7-107fd7cae65d"
      },
      "execution_count": null,
      "outputs": [
        {
          "output_type": "stream",
          "name": "stdout",
          "text": [
            "1) Los valores correctos de temperatura, humedad y presión son:\n",
            "\n",
            "[[  19.     26.6    20.9    24.7    22.8 ]\n",
            " [  49.4    54.15   53.2    51.3    55.1 ]\n",
            " [1012.7  1014.6  1012.7  1010.8  1014.6 ]]\n",
            "\n",
            "\n",
            "2) La matriz transpuesta de S es:\n",
            "\n",
            "[[  19.     49.4  1012.7 ]\n",
            " [  26.6    54.15 1014.6 ]\n",
            " [  20.9    53.2  1012.7 ]\n",
            " [  24.7    51.3  1010.8 ]\n",
            " [  22.8    55.1  1014.6 ]]\n"
          ]
        }
      ]
    },
    {
      "cell_type": "markdown",
      "source": [
        "**3)**\n",
        "\n",
        "El elemento $s_{24}$ es $51,3$. El día jueves, se registro una humedad de $51,3\\%$.\n",
        "\n",
        "El elemento $s_{31}^{T}$ es $20,9$. El día miércoles, se registró una temperatura de $20,9 °C$."
      ],
      "metadata": {
        "id": "4UIOR23qkSQM"
      }
    },
    {
      "cell_type": "markdown",
      "source": [
        "# Problema 8"
      ],
      "metadata": {
        "id": "9py029xQlSq6"
      }
    },
    {
      "cell_type": "markdown",
      "source": [
        "Una empresa tecnológica vende software y hardware en tres productos: $P_{1}$, $P_{2}$ y $P_{3}$, en cuatro zonas de la capital: norte, sur, este y oeste. Las ventas del mes, en millones de pesos, están registradas en las matrices $S$ y $H$, para software y hardware respectivamente.\n",
        "\n",
        "<br>\n",
        "\n",
        "\\begin{split}\n",
        "S = \\begin{pmatrix}\n",
        " 260 &  480 &  180  &  90  \\\\\n",
        " 320 &  440 &  250  &  280 \\\\\n",
        " 240 &  360 &  380  &  250  \\\\\n",
        "\\end{pmatrix} \\text{ } H = \\begin{pmatrix}\n",
        " 360 &  250 &  300  &  250  \\\\\n",
        " 450 &  500 &  350  &  380 \\\\\n",
        " 290 &  300 &  460  &  400  \\\\\n",
        "\\end{pmatrix}\n",
        "\\end{split}\n",
        "\n",
        "<br>\n",
        "\n",
        "1. Calcule en la matriz $T$, del total de ventas de la empresa tecnológica.\n",
        "2. Un trabajador indica que este mes, la sucursal de la zona sur recaudó más por la venta hardware que software, ¿es correcta su afirmación?\n",
        "3. Debido al black friday se espera que el siguiente mes, las ventas de software aumenten un $7\\%$ y las de hardware aumenten un $3\\%$ respecto al mes actual. Encuentra en total de ventas esperadas para el siguiente mes y almacénalo en la matriz $M$. Utiliza *Python* para realizar los cálculos.\n",
        "4. Interpreta los elementos $t_{24}$ y $m_{31}$ en el contexto del problema.\n",
        "5. Calcula la matriz $M^{T}$ e interpreta el elemento $m_{41}^{T}$ en el contexto del problema.\n"
      ],
      "metadata": {
        "id": "icNvmShQmtrx"
      }
    },
    {
      "cell_type": "markdown",
      "source": [
        "## Solución"
      ],
      "metadata": {
        "id": "WHnS-vfztdz2"
      }
    },
    {
      "cell_type": "markdown",
      "source": [
        "**1)**\n",
        "\n",
        "Las ventas totales de la empresa se pueden calcular mediante: $T = S + H$\n"
      ],
      "metadata": {
        "id": "1mTMTGLGt5_O"
      }
    },
    {
      "cell_type": "code",
      "source": [
        "import numpy as np\n",
        "\n",
        "S = np.array([[260, 480, 180, 90],\n",
        "              [320, 440, 250, 280],\n",
        "              [240, 360, 380, 250]])\n",
        "\n",
        "H = np.array([[360, 250, 300, 250],\n",
        "              [450, 500, 350, 380],\n",
        "              [290, 300, 460, 400]])\n",
        "\n",
        "T = S + H\n",
        "print(f'1) El total de ventas de la empresa es:\\n\\n{T}')"
      ],
      "metadata": {
        "colab": {
          "base_uri": "https://localhost:8080/"
        },
        "id": "6LsgiKV6jfHj",
        "outputId": "6cd17487-3f0a-43f2-f560-a22318fc3f5f"
      },
      "execution_count": null,
      "outputs": [
        {
          "output_type": "stream",
          "name": "stdout",
          "text": [
            "1) El total de ventas de la empresa es:\n",
            "\n",
            "[[620 730 480 340]\n",
            " [770 940 600 660]\n",
            " [530 660 840 650]]\n"
          ]
        }
      ]
    },
    {
      "cell_type": "markdown",
      "source": [
        "**2)**\n",
        "\n",
        "La diferencia en recaudación por las ventas entre hardware y software está dada por: $D = H - S$"
      ],
      "metadata": {
        "id": "liKluQ5nvNcG"
      }
    },
    {
      "cell_type": "code",
      "source": [
        "import numpy as np\n",
        "\n",
        "S = np.array([[260, 480, 180, 90],\n",
        "              [320, 440, 250, 280],\n",
        "              [240, 360, 380, 250]])\n",
        "\n",
        "H = np.array([[360, 250, 300, 250],\n",
        "              [450, 500, 350, 380],\n",
        "              [290, 300, 460, 400]])\n",
        "\n",
        "D = H - S\n",
        "print(f'La diferencia en recaudación por las ventas de hardware y software es:\\n\\n{D}')"
      ],
      "metadata": {
        "colab": {
          "base_uri": "https://localhost:8080/"
        },
        "outputId": "31dfed06-2d6b-4cbe-972b-20e65e319496",
        "id": "k0oFCLw3vfT-"
      },
      "execution_count": null,
      "outputs": [
        {
          "output_type": "stream",
          "name": "stdout",
          "text": [
            "La diferencia en recaudación por las ventas de hardware y software es:\n",
            "\n",
            "[[ 100 -230  120  160]\n",
            " [ 130   60  100  100]\n",
            " [  50  -60   80  150]]\n"
          ]
        }
      ]
    },
    {
      "cell_type": "markdown",
      "source": [
        "La zona sur se encuentra en la segunda columna. Podemos ver que solo para el producto $P_{2}$ esta sucursal recaudó más por la venta de hardware que de software, específicamente $60$ millones de pesos más, por lo tanto, el trabajador está equivocado.  "
      ],
      "metadata": {
        "id": "ZsdH3tSLvpME"
      }
    },
    {
      "cell_type": "markdown",
      "source": [
        "**3)**\n",
        "\n",
        "Se estima que el próximo mes las ventas en software aumenten un $7\\%$ y en hardware aumente un $3\\%$. Utilizando variaciones porcentuales:\n",
        "\n",
        "Software: $$100\\% + 7\\% = 107\\%$$\n",
        "\n",
        "Hardware: $$100\\% + 3\\% = 103\\%$$\n",
        "\n",
        "Entonces:\n",
        "\n",
        "\\begin{split}\n",
        "M &= 1,07 \\cdot S + 1,03 \\cdot H\\\\\n",
        "\\\\\n",
        "m_{ij} &= 1,07 \\cdot s_{ij} + 1,03 \\cdot h_{ij}\n",
        "\\end{split}"
      ],
      "metadata": {
        "id": "VS4vFE-mxmzj"
      }
    },
    {
      "cell_type": "code",
      "source": [
        "import numpy as np\n",
        "\n",
        "S = np.array([[260, 480, 180, 90],\n",
        "              [320, 440, 250, 280],\n",
        "              [240, 360, 380, 250]])\n",
        "\n",
        "H = np.array([[360, 250, 300, 250],\n",
        "              [450, 500, 350, 380],\n",
        "              [290, 300, 460, 400]])\n",
        "\n",
        "M = 1.07 * S + 1.03 * H\n",
        "\n",
        "print(f'3) La venta total estimada para el próximo mes es:\\n\\n{M}')"
      ],
      "metadata": {
        "colab": {
          "base_uri": "https://localhost:8080/"
        },
        "outputId": "f6581f47-f261-4c61-b0c5-8d10440f4548",
        "id": "TXJI8a9GyIwe"
      },
      "execution_count": null,
      "outputs": [
        {
          "output_type": "stream",
          "name": "stdout",
          "text": [
            "3) La venta total estimada para el próximo mes es:\n",
            "\n",
            "[[649.  771.1 501.6 353.8]\n",
            " [805.9 985.8 628.  691. ]\n",
            " [555.5 694.2 880.4 679.5]]\n"
          ]
        }
      ]
    },
    {
      "cell_type": "markdown",
      "source": [
        "**4)**\n",
        "\n",
        "El elemento $t_{24}$ es $660$. Este mes, se recaudó un total de $660$ millones de pesos por la venta de software y hardware del producto $P_{2}$ en la zona oeste.\n",
        "\n",
        "El elemento $m_{31}$ es $555,5$. Se estima que el siguiente mes, se recaudará un total de $555,5$ millones de pesos por la venta de software y hardware del producto $P_{3}$ en la zona norte."
      ],
      "metadata": {
        "id": "Z3IKqm2Ly-oH"
      }
    },
    {
      "cell_type": "markdown",
      "source": [
        "**5)**"
      ],
      "metadata": {
        "id": "ewaU_59X0XFO"
      }
    },
    {
      "cell_type": "code",
      "source": [
        "M_t = M.T\n",
        "print(f'La matriz transpuesta de M es:\\n\\n{M_t}')"
      ],
      "metadata": {
        "colab": {
          "base_uri": "https://localhost:8080/"
        },
        "id": "lkc1xClo0bM4",
        "outputId": "33221657-0538-421e-cad8-733daf895405"
      },
      "execution_count": null,
      "outputs": [
        {
          "output_type": "stream",
          "name": "stdout",
          "text": [
            "La matriz transpuesta de M es:\n",
            "\n",
            "[[649.  805.9 555.5]\n",
            " [771.1 985.8 694.2]\n",
            " [501.6 628.  880.4]\n",
            " [353.8 691.  679.5]]\n"
          ]
        }
      ]
    },
    {
      "cell_type": "markdown",
      "source": [
        "El elemento $m_{41}^{T}$ es $353,8$. Se estima que el siguiente mes, se recaudará un total de $353,8$ millones de pesos por la venta de software y hardware del producto $P_{1}$ en la zona oeste."
      ],
      "metadata": {
        "id": "4QM1oP6O0nU0"
      }
    }
  ]
}