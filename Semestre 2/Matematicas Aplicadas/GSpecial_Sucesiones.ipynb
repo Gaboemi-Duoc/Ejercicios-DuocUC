{
 "cells": [
  {
   "cell_type": "markdown",
   "metadata": {},
   "source": [
    "# Sucesión Aritmética\n",
    "Nota: Esta es una guia fisica pasado a mano..."
   ]
  },
  {
   "cell_type": "markdown",
   "metadata": {},
   "source": [
    "### Problema 1"
   ]
  },
  {
   "cell_type": "markdown",
   "metadata": {},
   "source": [
    "Considere la sucesión aritmética 5 ; 11 ; 17 ; ...\n",
    "1. Calcule la suma de los primeros 200 terminos\n",
    "2. ¿Que lugar ocupa el numero 3305?"
   ]
  },
  {
   "cell_type": "code",
   "execution_count": 1,
   "metadata": {},
   "outputs": [
    {
     "name": "stdout",
     "output_type": "stream",
     "text": [
      "1.\n",
      "La suma de los primeros 200 terminos es de 120400\n",
      "2.\n",
      "El lugar que ocupa el numero 3305 es el lugar 551\n"
     ]
    }
   ],
   "source": [
    "def suc1(n): return (n-1)*6 + 5\n",
    "suma1 = 0\n",
    "for i in range(200):\n",
    "    n = i+1\n",
    "    suma1 += suc1(n)\n",
    "    \n",
    "n = 0\n",
    "while suc1(n) != 3305:\n",
    "    n += 1\n",
    "print(f'1.\\nLa suma de los primeros 200 terminos es de {suma1}')\n",
    "print(f'2.\\nEl lugar que ocupa el numero 3305 es el lugar {n}')"
   ]
  },
  {
   "cell_type": "markdown",
   "metadata": {},
   "source": [
    "### Problema 2"
   ]
  },
  {
   "cell_type": "markdown",
   "metadata": {},
   "source": [
    "Considere la sucesión aritmética 25.72 ; 26.93 ; 28.14 ; ...\n",
    "1. Calcule la suma de los primeros 100 terminos.\n",
    "2. El termino del lugar 50."
   ]
  },
  {
   "cell_type": "code",
   "execution_count": 9,
   "metadata": {},
   "outputs": [
    {
     "name": "stdout",
     "output_type": "stream",
     "text": [
      "1.\n",
      "La suma de los primeros 100 terminos es de 8561.5\n",
      "2.\n",
      "El termino del lugar 50 es 85.00999999999999\n"
     ]
    }
   ],
   "source": [
    "d = round(26.93-25.72, 2)\n",
    "#print(d)\n",
    "def suc2(n): return (n-1)*1.21 + 25.72 \n",
    "sucLista = []\n",
    "for i in range(100):\n",
    "    n = i+1\n",
    "    sucLista.append(suc2(n))\n",
    "\n",
    "print(f'1.\\nLa suma de los primeros 100 terminos es de {sum(sucLista)}')\n",
    "print(f'2.\\nEl termino del lugar 50 es {suc2(50):.0f}')\n"
   ]
  },
  {
   "cell_type": "markdown",
   "metadata": {},
   "source": [
    "### Problema 3"
   ]
  },
  {
   "cell_type": "markdown",
   "metadata": {},
   "source": [
    "En una sucesión aritmética la diferencia es 4 y el décimo término es -20. Determine:\n",
    "1. El primer término.\n",
    "2. La suma de los 50 primeros términos."
   ]
  },
  {
   "cell_type": "code",
   "execution_count": null,
   "metadata": {},
   "outputs": [],
   "source": []
  },
  {
   "cell_type": "markdown",
   "metadata": {},
   "source": [
    "### Problema 4"
   ]
  },
  {
   "cell_type": "markdown",
   "metadata": {},
   "source": [
    "En una sucesión aritmética el segundo término es 22 y el término de lugar 51 es 46.5.\n",
    "1) Determine el primer término.\n",
    "2) Determine la diferencia."
   ]
  },
  {
   "cell_type": "code",
   "execution_count": null,
   "metadata": {},
   "outputs": [],
   "source": []
  }
 ],
 "metadata": {
  "kernelspec": {
   "display_name": "Python 3",
   "language": "python",
   "name": "python3"
  },
  "language_info": {
   "codemirror_mode": {
    "name": "ipython",
    "version": 3
   },
   "file_extension": ".py",
   "mimetype": "text/x-python",
   "name": "python",
   "nbconvert_exporter": "python",
   "pygments_lexer": "ipython3",
   "version": "3.12.4"
  }
 },
 "nbformat": 4,
 "nbformat_minor": 2
}
