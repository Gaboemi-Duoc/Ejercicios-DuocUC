{
  "nbformat": 4,
  "nbformat_minor": 0,
  "metadata": {
    "colab": {
      "provenance": []
    },
    "kernelspec": {
      "name": "python3",
      "display_name": "Python 3"
    },
    "language_info": {
      "name": "python"
    }
  },
  "cells": [
    {
      "cell_type": "markdown",
      "source": [
        "# Problema 1"
      ],
      "metadata": {
        "id": "Jsg7AmugfdN3"
      }
    },
    {
      "cell_type": "markdown",
      "source": [
        "Considere la sucesión $a_{n} = 3n^{2} + 7$. Por medio de un código en *Python* despliega en pantalla:\n",
        "\n",
        "1. Los primeros $5$ términos.\n",
        "2. Los $5$ términos que vienen inmediatamente después del decimoquinto término."
      ],
      "metadata": {
        "id": "_IzpNklvfgKe"
      }
    },
    {
      "cell_type": "markdown",
      "source": [
        "# Problema 2"
      ],
      "metadata": {
        "id": "MpHLoYWfk97E"
      }
    },
    {
      "cell_type": "markdown",
      "source": [
        "Considere la sucesión $g_{n} = 5n^{3}$. Implemente un código en *Python* que muestre en pantalla:\n",
        "\n",
        "1. Los primeros $4$ términos de la sucesión.\n",
        "2. Los $4$ términos que vienen inmediatamente después del octavo término.\n",
        "3. Determinar si el término $40.000$ pertenece a la sucesión. Si es así, indicar en qué posición se encuentra."
      ],
      "metadata": {
        "id": "TdrPqS7Mk_l0"
      }
    },
    {
      "cell_type": "markdown",
      "source": [
        "# Problema 3"
      ],
      "metadata": {
        "id": "7GDU-KDLuR7i"
      }
    },
    {
      "cell_type": "markdown",
      "source": [
        "La sucesión de Fibonacci es una serie de números en la que cada número, desde el tercero en adelante, es la suma de los dos anteriores. Comienza con el $0$ y $1$, tal como se observa a continuación:\n",
        "\n",
        "$$0, 1, 1, 2, 3, 5, 8, 13, ...$$\n",
        "\n",
        "Formalmente, la sucesión se define de la siguiente manera:\n",
        "\n",
        "\\begin{split}\n",
        "F(0) &= 0\\\\\n",
        "F(1) &= 1\\\\\n",
        "F(n) &= F(n - 1) + F(n - 2), \\ \\text{ para $n \\geq 2$}\n",
        "\\end{split}\n",
        "\n",
        "Esta sucesión se utiliza en una variedad de contextos en informática y algoritmos debido a sus propiedades matemáticas y patrones.\n",
        "\n",
        "1. Implementa un código en *Python* que muestre en pantalla los primeros $20$ términos de la sucesión.\n",
        "2. Calcula, utilizando un ciclo *for*, la suma de los primeros $30$ términos de la sucesión de Fibonacci."
      ],
      "metadata": {
        "id": "GG1duXd1uU6Z"
      }
    },
    {
      "cell_type": "markdown",
      "source": [
        "# Problema 4"
      ],
      "metadata": {
        "id": "OFL3b7nt8Rq_"
      }
    },
    {
      "cell_type": "markdown",
      "source": [
        "Implementa un código que permita guardar en una lista la sucesión de los primeros $n$ números pares, con $n \\geq 1$. Luego, determina:\n",
        "\n",
        "1. ¿Cuál es el valor del décimo término?\n",
        "2. Calcula, utilizando un ciclo *for*, la suma de los primeros $100$ números pares.\n",
        "3. ¿En qué posición se encuentra el número $58$ dentro de la sucesión?"
      ],
      "metadata": {
        "id": "j5QlZQwJSDsZ"
      }
    },
    {
      "cell_type": "markdown",
      "source": [
        "# Problema 5"
      ],
      "metadata": {
        "id": "gBcDYpK2Z3GT"
      }
    },
    {
      "cell_type": "markdown",
      "source": [
        "Un nuevo software tiene $500$ usuarios y se espera que el número de usuarios crezca un $15\\%$ respecto al mes anterior. Considere que $b_{n}$ es el número de usuarios transcurridos $n$ meses.\n",
        "\n",
        "1. Calcula cuántos usuarios tendrá el software al cabo de tres meses. ¿Y al cabo de seis meses?\n",
        "2. Mediante un código en *Pyhton* muestra la cantidad de usuarios que tendrá el software cada mes durante el primer año.\n",
        "2. ¿Cuántos usuarios tendrá en total el software luego de un año? Utilice ciclos *for* para calcular."
      ],
      "metadata": {
        "id": "eS3i68R4Z6YQ"
      }
    },
    {
      "cell_type": "markdown",
      "source": [
        "# Problema 6"
      ],
      "metadata": {
        "id": "s2hruXWnJDbS"
      }
    },
    {
      "cell_type": "markdown",
      "source": [
        "Un estudiante de ingeniería informática planea ahorrar para un proyecto personal. Para esto, el primer mes deposita $\\$12.000$ y cada mes aumenta el depósito en $\\$2.000$. Considere que $a_{i}$ corresponde al depósito mensual del estudiante. Determine:\n",
        "\n",
        "1. Implementa un código que permita mostrar en pantalla lo que depositó mensualmente durante el primer año.\n",
        "2. ¿Cuánto depositó el estudiante en febrero del segundo año?\n",
        "3. ¿Cuál será el total ahorrado al finalizar dos años?"
      ],
      "metadata": {
        "id": "hH_VNmA_Og0U"
      }
    },
    {
      "cell_type": "markdown",
      "source": [
        "# Problema 7"
      ],
      "metadata": {
        "id": "G9sEfl4rB3e8"
      }
    },
    {
      "cell_type": "markdown",
      "source": [
        "Por lo general, los proyectos son organizados en varias etapas que deben completarse secuencialmente.\n",
        "\n",
        "La fase inicial de un proyecto de software tiene una duración de $3$ meses y cada fase subsecuente reduce su duración en un $10 \\%$ debido a la experiencia ganada. Determine:\n",
        "\n",
        "1. ¿Cuánto dura la quinta fase?\n",
        "2. Calcula la duración total del proyecto después de $10$ fases."
      ],
      "metadata": {
        "id": "KZUNnG20CT4F"
      }
    },
    {
      "cell_type": "markdown",
      "source": [
        "# Problema 8"
      ],
      "metadata": {
        "id": "keVOy_xIlU1E"
      }
    },
    {
      "cell_type": "markdown",
      "source": [
        "En una sucesión aritmética, la diferencia entre un término y el anterior es $4$ y el décimo término es $-20$. Determine:\n",
        "\n",
        "1. El primer término de la sucesión.\n",
        "2. La expresión del término de lugar $n$.\n",
        "3. Utilice un código en *Python* para calcular el término que ocupa el lugar $100$.\n",
        "4. Determinar la posición del número $1.680$ en la secuencia. Calcule utilizando un ciclo *while*."
      ],
      "metadata": {
        "id": "QXrNG-zulXil"
      }
    },
    {
      "cell_type": "markdown",
      "source": [
        "# Problema 9"
      ],
      "metadata": {
        "id": "gFYqGSbdqoqT"
      }
    },
    {
      "cell_type": "markdown",
      "source": [
        "El tercer término de una sucesión geométrica es $5$ y el sexto término es $40$. Determine:\n",
        "\n",
        "1. La razón geométrica de la sucesión.\n",
        "2. El primer término de la sucesión.\n",
        "3. La expresión del término de lugar $n$.\n",
        "4. Utilice un código en *Python* para calcular el término que ocupa el lugar $8$.\n",
        "4. ¿Qué lugar ocupa en esta sucesión el término $20.480$? Calcule utilizando un ciclo *while*."
      ],
      "metadata": {
        "id": "UtblbNCYqxOM"
      }
    },
    {
      "cell_type": "markdown",
      "source": [
        "# Problema 10"
      ],
      "metadata": {
        "id": "Ju4J8uWfxQKk"
      }
    },
    {
      "cell_type": "markdown",
      "source": [
        "Una empresa de tecnología está optimizando sus servidores. Para ello, mide cada mes las transacciones por segundo (TPS) de sus servidores. Se ha obtenido que el segundo mes, el rendimiento del servidor es $1,2$ miles de TPS y el quinto mes, el rendimiento es de $2,7$ miles de TPS. Determina utilizando un código en *Python*:\n",
        "\n",
        "1. ¿Cuál es el rendimiento el noveno mes?\n",
        "2. ¿En qué mes el rendimiento es de $23,4$ miles de TPS?\n",
        "\n",
        "Utilice dos decimales para el cálculo."
      ],
      "metadata": {
        "id": "F6FPVCXQxTMj"
      }
    },
    {
      "cell_type": "markdown",
      "source": [
        "# Problema 11"
      ],
      "metadata": {
        "id": "jxQyaJXUCW7m"
      }
    },
    {
      "cell_type": "markdown",
      "source": [
        "Una aplicación de redes sociales inició el $1$ de enero y comenzó a ganar usuarios rápidamente. El $3$ de enero tenía $500$ usuarios y el $10$ de enero tenía $1.501$ usuarios. Si el número de usuarios sigue creciendo de manera constante, determine:\n",
        "\n",
        "1. ¿Con cuántos usuarios comenzó a funcionar la aplicación?\n",
        "2. ¿Cuántos usuarios tendrá la aplicación el $31$ de enero?\n",
        "3. Si la aplicación tiene $5.505$ usuarios, ¿cuántos meses lleva funcionando?\n",
        "\n"
      ],
      "metadata": {
        "id": "8LdxsBUwDfbf"
      }
    },
    {
      "cell_type": "markdown",
      "source": [
        "# Problema 12"
      ],
      "metadata": {
        "id": "zBN3BhYVLLSe"
      }
    },
    {
      "cell_type": "markdown",
      "source": [
        "Una empresa de publicidad ofrece para un puesto de trabajo un salario inicial y un aumento mensual en una razón constante. Javier se presenta a la entrevista, y el encargado del departamento de recursos humanos le explica que en el segundo mes de trabajo su sueldo será de $\\$402.000$, y que en el tercer mes de trabajo será de $\\$404.010$. Determine:\n",
        "\n",
        "1. El salario aproximado que Javier recibiría en el décimo mes de trabajo en la empresa.\n",
        "2. ¿Cuál sería el ingreso total recibido por los sueldos de Javier durante el tercer año de trabajo?"
      ],
      "metadata": {
        "id": "kszkhh_GLQN1"
      }
    },
    {
      "cell_type": "markdown",
      "source": [
        "# Problema 13"
      ],
      "metadata": {
        "id": "-lx5k4b9Y8sD"
      }
    },
    {
      "cell_type": "markdown",
      "source": [
        "Una empresa de ciberseguridad capacita trabajadores cada trimestre. En el primer trimestre capacitaron a $30$ trabajadores, en el segundo trimestre a $60$ trabajadores, y en el tercer trimestre a $120$ trabajadores. Si en los siguientes trimestres la empresa mantiene el mismo patrón de crecimiento, determine utilizando *Python*:\n",
        "\n",
        "1. ¿A cuántos trabajadores capacitarán en el octavo trimestre?\n",
        "2. Si la empresa lleva en el mercado $3$ años, ¿a cuántos trabajadores han capacitado en total?"
      ],
      "metadata": {
        "id": "OVuWQuXsY_pp"
      }
    },
    {
      "cell_type": "markdown",
      "source": [
        "# Problema 14"
      ],
      "metadata": {
        "id": "IM7Xf51G6AXs"
      }
    },
    {
      "cell_type": "markdown",
      "source": [
        "Al llenar un tambor con agua, se registra que durante el minuto $4$ el tambor recibe $128$ litros, y durante el minuto $9$ recibe $88$ litros. Sabiendo que en cada minuto recibe una cantidad $d$ de litros de agua menos que en el minuto anterior, determine:\n",
        "\n",
        "1. ¿En qué instante el tambor deja de recibir agua?\n",
        "2. ¿Cuántos litros recibe en total el tambor?\n",
        "\n",
        "Realice los cálculos anteriores utilizando *Python*."
      ],
      "metadata": {
        "id": "Ni_4WMQl6OeV"
      }
    }
  ]
}