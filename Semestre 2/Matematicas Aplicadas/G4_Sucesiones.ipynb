{
  "cells": [
    {
      "cell_type": "markdown",
      "metadata": {
        "id": "Jsg7AmugfdN3"
      },
      "source": [
        "# Problema 1"
      ]
    },
    {
      "cell_type": "markdown",
      "metadata": {
        "id": "_IzpNklvfgKe"
      },
      "source": [
        "Considere la sucesión $a_{n} = 3n^{2} + 7$. Por medio de un código en *Python* despliega en pantalla:\n",
        "\n",
        "1. Los primeros $5$ términos.\n",
        "2. Los $5$ términos que vienen inmediatamente después del decimoquinto término."
      ]
    },
    {
      "cell_type": "code",
      "execution_count": 36,
      "metadata": {},
      "outputs": [
        {
          "name": "stdout",
          "output_type": "stream",
          "text": [
            "1.\n",
            "a(2) = 19\n",
            "a(3) = 34\n",
            "a(4) = 55\n",
            "a(5) = 82\n",
            "a(6) = 115\n",
            "2.\n",
            "a(16) = 775\n",
            "a(17) = 874\n",
            "a(18) = 979\n",
            "a(19) = 1090\n",
            "a(20) = 1207\n"
          ]
        }
      ],
      "source": [
        "def a(n): return 3*n**2 + 7\n",
        "\n",
        "print(\"1.\")\n",
        "for i in range(1,6):\n",
        "    n = i + 1\n",
        "    print(f'a({n}) = {a(n)}')\n",
        "\n",
        "print(\"2.\")\n",
        "for i in range(5):\n",
        "    n = i + 16\n",
        "    print(f'a({n}) = {a(n)}')"
      ]
    },
    {
      "cell_type": "markdown",
      "metadata": {
        "id": "MpHLoYWfk97E"
      },
      "source": [
        "# Problema 2"
      ]
    },
    {
      "cell_type": "markdown",
      "metadata": {
        "id": "TdrPqS7Mk_l0"
      },
      "source": [
        "Considere la sucesión $g_{n} = 5n^{3}$. Implemente un código en *Python* que muestre en pantalla:\n",
        "\n",
        "1. Los primeros $4$ términos de la sucesión.\n",
        "2. Los $4$ términos que vienen inmediatamente después del octavo término.\n",
        "3. Determinar si el término $40.000$ pertenece a la sucesión. Si es así, indicar en qué posición se encuentra."
      ]
    },
    {
      "cell_type": "code",
      "execution_count": 37,
      "metadata": {},
      "outputs": [
        {
          "name": "stdout",
          "output_type": "stream",
          "text": [
            "1.\n",
            "g(1) = 5\n",
            "g(2) = 40\n",
            "g(3) = 135\n",
            "g(4) = 320\n",
            "2.\n",
            "g(9) = 3645\n",
            "g(10) = 5000\n",
            "g(11) = 6655\n",
            "g(12) = 8640\n",
            "3.\n",
            "El termino 40000 pertence a la sucesion, esta en la posicion 20\n"
          ]
        }
      ],
      "source": [
        "def g(n): return 5*n**3\n",
        "\n",
        "print(\"1.\")\n",
        "for i in range(4):\n",
        "    n = i+1\n",
        "    print(f'g({n}) = {g(n)}')\n",
        "    \n",
        "print(\"2.\")\n",
        "for i in range(4):\n",
        "    n = i+9\n",
        "    print(f'g({n}) = {g(n)}')\n",
        "    \n",
        "print(\"3.\")\n",
        "def neg(n): return 5*n**3 - 40_000\n",
        "import numpy\n",
        "from scipy.optimize import fsolve\n",
        "xInter = numpy.linspace(1,50,2) # Rango de Busqueda entre 1 y 6, en 15 espacios\n",
        "solution = numpy.around(fsolve(neg,xInter), decimals=1) # Rendodear a x decimales\n",
        "variable = numpy.unique(solution) # Muestra solucion sin repetir, solucion unica\n",
        "print(f'El termino 40000 pertence a la sucesion, esta en la posicion {variable[0]:.0f}')\n",
        "\n"
      ]
    },
    {
      "cell_type": "markdown",
      "metadata": {
        "id": "7GDU-KDLuR7i"
      },
      "source": [
        "# Problema 3"
      ]
    },
    {
      "cell_type": "markdown",
      "metadata": {
        "id": "GG1duXd1uU6Z"
      },
      "source": [
        "La sucesión de Fibonacci es una serie de números en la que cada número, desde el tercero en adelante, es la suma de los dos anteriores. Comienza con el $0$ y $1$, tal como se observa a continuación:\n",
        "\n",
        "$$0, 1, 1, 2, 3, 5, 8, 13, ...$$\n",
        "\n",
        "Formalmente, la sucesión se define de la siguiente manera:\n",
        "\n",
        "\\begin{split}\n",
        "F(0) &= 0\\\\\n",
        "F(1) &= 1\\\\\n",
        "F(n) &= F(n - 1) + F(n - 2), \\ \\text{ para $n \\geq 2$}\n",
        "\\end{split}\n",
        "\n",
        "Esta sucesión se utiliza en una variedad de contextos en informática y algoritmos debido a sus propiedades matemáticas y patrones.\n",
        "\n",
        "1. Implementa un código en *Python* que muestre en pantalla los primeros $20$ términos de la sucesión.\n",
        "2. Calcula, utilizando un ciclo *for*, la suma de los primeros $30$ términos de la sucesión de Fibonacci."
      ]
    },
    {
      "cell_type": "code",
      "execution_count": 38,
      "metadata": {},
      "outputs": [
        {
          "name": "stdout",
          "output_type": "stream",
          "text": [
            "1.\n",
            "F(0) = 0\n",
            "F(1) = 1\n",
            "F(2) = 1\n",
            "F(3) = 2\n",
            "F(4) = 3\n",
            "F(5) = 5\n",
            "F(6) = 8\n",
            "F(7) = 13\n",
            "F(8) = 21\n",
            "F(9) = 34\n",
            "F(10) = 55\n",
            "F(11) = 89\n",
            "F(12) = 144\n",
            "F(13) = 233\n",
            "F(14) = 377\n",
            "F(15) = 610\n",
            "F(16) = 987\n",
            "F(17) = 1597\n",
            "F(18) = 2584\n",
            "F(19) = 4181\n",
            "2.\n",
            "La suma de los primeros 30 terminos es 1346268\n"
          ]
        }
      ],
      "source": [
        "def fibonacci(n):\n",
        "    if n == 0:\n",
        "        return 0\n",
        "    elif n == 1:\n",
        "        return 1\n",
        "    else:\n",
        "        return fibonacci(n-1) + fibonacci(n-2)\n",
        "\n",
        "print('1.')\n",
        "for i in range(20):\n",
        "    n = i\n",
        "    print(f'F({n}) = {fibonacci(n)}')\n",
        "    \n",
        "print('2.')\n",
        "suma = 0\n",
        "for i in range(30):\n",
        "    suma += fibonacci(i)\n",
        "print(f'La suma de los primeros 30 terminos es {suma}')"
      ]
    },
    {
      "cell_type": "markdown",
      "metadata": {
        "id": "OFL3b7nt8Rq_"
      },
      "source": [
        "# Problema 4"
      ]
    },
    {
      "cell_type": "markdown",
      "metadata": {
        "id": "j5QlZQwJSDsZ"
      },
      "source": [
        "Implementa un código que permita guardar en una lista la sucesión de los primeros $n$ números pares, con $n \\geq 1$. Luego, determina:\n",
        "\n",
        "1. ¿Cuál es el valor del décimo término?\n",
        "2. Calcula, utilizando un ciclo *for*, la suma de los primeros $100$ números pares.\n",
        "3. ¿En qué posición se encuentra el número $58$ dentro de la sucesión?"
      ]
    },
    {
      "cell_type": "code",
      "execution_count": 1,
      "metadata": {},
      "outputs": [
        {
          "name": "stdout",
          "output_type": "stream",
          "text": [
            "1.\n",
            "El valor del decimo termino es 20\n",
            "2.\n",
            "La suma de los primeros 100 numeros pares es 10100\n",
            "3.\n",
            "La posicion en que se encuentra numero 58 es 29\n"
          ]
        }
      ],
      "source": [
        "def par(n): return 2*n\n",
        "pares = []\n",
        "for i in range(100):\n",
        "    n=i+1\n",
        "    pares.append(par(n))\n",
        "    \n",
        "print('1.')\n",
        "print(f'El valor del decimo termino es {pares[9]}')\n",
        "print('2.')\n",
        "print(f'La suma de los primeros 100 numeros pares es {sum(pares)}')\n",
        "print('3.')\n",
        "print(f'La posicion en que se encuentra numero 58 es {pares.index(58)+1}')"
      ]
    },
    {
      "cell_type": "markdown",
      "metadata": {
        "id": "gBcDYpK2Z3GT"
      },
      "source": [
        "# Problema 5"
      ]
    },
    {
      "cell_type": "markdown",
      "metadata": {
        "id": "eS3i68R4Z6YQ"
      },
      "source": [
        "Un nuevo software tiene $500$ usuarios y se espera que el número de usuarios crezca un $15\\%$ respecto al mes anterior. Considere que $b_{n}$ es el número de usuarios transcurridos $n$ meses.\n",
        "\n",
        "1. Calcula cuántos usuarios tendrá el software al cabo de tres meses. ¿Y al cabo de seis meses?\n",
        "2. Mediante un código en *Pyhton* muestra la cantidad de usuarios que tendrá el software cada mes durante el primer año.\n",
        "2. ¿Cuántos usuarios tendrá en total el software luego de un año? Utilice ciclos *for* para calcular."
      ]
    },
    {
      "cell_type": "code",
      "execution_count": 8,
      "metadata": {},
      "outputs": [
        {
          "name": "stdout",
          "output_type": "stream",
          "text": [
            "1.\n",
            "Al cabo de 3 meses habran 661 usuarios, y al cabo de 6 meses habran 1005 usuarios\n",
            "2.\n",
            "La cantida de usuarios por mes es:\n",
            "[500, 575, 661, 760, 874, 1005, 1156, 1330, 1529, 1758, 2022, 2326]\n",
            "3.\n",
            "El software tendra 2326 usuarios luego de 1 año\n"
          ]
        }
      ],
      "source": [
        "# Succesion geometrica!\n",
        "def software(n): return 500 * (1+0.15)**(n-1)\n",
        "\n",
        "usuarios = []\n",
        "for i in range(12):\n",
        "    n = i+1\n",
        "    usuarios.append(int(software(n)))\n",
        "print('1.')\n",
        "print(f'Al cabo de 3 meses habran {usuarios[2]} usuarios, y al cabo de 6 meses habran {usuarios[5]} usuarios')\n",
        "\n",
        "print('2.')\n",
        "print('La cantida de usuarios por mes es:')\n",
        "print(usuarios)\n",
        "\n",
        "print('3.')\n",
        "print(f'El software tendra {usuarios[11]} usuarios luego de 1 año')"
      ]
    },
    {
      "cell_type": "markdown",
      "metadata": {
        "id": "s2hruXWnJDbS"
      },
      "source": [
        "# Problema 6"
      ]
    },
    {
      "cell_type": "markdown",
      "metadata": {
        "id": "hH_VNmA_Og0U"
      },
      "source": [
        "Un estudiante de ingeniería informática planea ahorrar para un proyecto personal. Para esto, el primer mes deposita $\\$12.000$ y cada mes aumenta el depósito en $\\$2.000$. Considere que $a_{i}$ corresponde al depósito mensual del estudiante. Determine:\n",
        "\n",
        "1. Implementa un código que permita mostrar en pantalla lo que depositó mensualmente durante el primer año.\n",
        "2. ¿Cuánto depositó el estudiante en febrero del segundo año?\n",
        "3. ¿Cuál será el total ahorrado al finalizar dos años?"
      ]
    },
    {
      "cell_type": "code",
      "execution_count": 19,
      "metadata": {},
      "outputs": [
        {
          "name": "stdout",
          "output_type": "stream",
          "text": [
            "1.\n",
            "Todo lo depositado mensualmente durante el primer año: \n",
            "[12000, 26000, 40000, 54000, 68000, 82000, 96000, 110000, 124000, 138000, 152000, 166000] \n",
            "dando un total de $1068000 ahorrado el primer año\n",
            "2.\n",
            "El estudiante deposito $194000 en febrero del segundo año\n",
            "3.\n",
            "El total ahorrado en dos años seria de $4152000\n"
          ]
        }
      ],
      "source": [
        "def depmensual(n): return 12000 + (n-1)*14000\n",
        "\n",
        "listaMensual = []\n",
        "for i in range(1,25):\n",
        "\tlistaMensual.append(depmensual(i))\n",
        "print(f'1.\\nTodo lo depositado mensualmente durante el primer año: \\n{listaMensual[0:12]} \\ndando un total de ${sum(listaMensual[0:12])} ahorrado el primer año')\n",
        "print(f'2.\\nEl estudiante deposito ${depmensual(14)} en febrero del segundo año')\n",
        "print(f'3.\\nEl total ahorrado en dos años seria de ${sum(listaMensual)}')\n"
      ]
    },
    {
      "cell_type": "markdown",
      "metadata": {
        "id": "G9sEfl4rB3e8"
      },
      "source": [
        "# Problema 7"
      ]
    },
    {
      "cell_type": "markdown",
      "metadata": {
        "id": "KZUNnG20CT4F"
      },
      "source": [
        "Por lo general, los proyectos son organizados en varias etapas que deben completarse secuencialmente.\n",
        "\n",
        "La fase inicial de un proyecto de software tiene una duración de $3$ meses y cada fase subsecuente reduce su duración en un $10 \\%$ debido a la experiencia ganada. Determine:\n",
        "\n",
        "1. ¿Cuánto dura la quinta fase?\n",
        "2. Calcula la duración total del proyecto después de $10$ fases."
      ]
    },
    {
      "cell_type": "code",
      "execution_count": 8,
      "metadata": {},
      "outputs": [
        {
          "name": "stdout",
          "output_type": "stream",
          "text": [
            "1.\n",
            "La quinta fase dura 1.97 meses\n",
            "[3.0, 2.7, 2.43, 2.1870000000000003, 1.9683000000000002, 1.7714700000000003, 1.5943230000000002, 1.4348907000000002, 1.2914016300000002, 1.1622614670000002]\n",
            "2.\n",
            "La duracion total del proyecto después de 10 fases es de 19.54 meses\n"
          ]
        }
      ],
      "source": [
        "def faseDuracion(n): return 3 * 0.9**(n-1)\n",
        "\n",
        "print(f'1.\\nLa quinta fase dura {faseDuracion(5):.2f} meses')\n",
        "\n",
        "listaDuracionFase = []\n",
        "for i in range(1,11):\n",
        "    listaDuracionFase.append(faseDuracion(i))\n",
        "\n",
        "print(f'2.\\nLa duracion total del proyecto después de 10 fases es de {sum(listaDuracionFase):.2f} meses')\n",
        "\n"
      ]
    },
    {
      "cell_type": "markdown",
      "metadata": {
        "id": "keVOy_xIlU1E"
      },
      "source": [
        "# Problema 8"
      ]
    },
    {
      "cell_type": "markdown",
      "metadata": {
        "id": "QXrNG-zulXil"
      },
      "source": [
        "En una sucesión aritmética, la diferencia entre un término y el anterior es $4$ y el décimo término es $-20$. Determine:\n",
        "\n",
        "1. El primer término de la sucesión.\n",
        "2. La expresión del término de lugar $n$.\n",
        "3. Utilice un código en *Python* para calcular el término que ocupa el lugar $100$.\n",
        "4. Determinar la posición del número $1.680$ en la secuencia. Calcule utilizando un ciclo *while*."
      ]
    },
    {
      "cell_type": "code",
      "execution_count": 33,
      "metadata": {},
      "outputs": [
        {
          "name": "stdout",
          "output_type": "stream",
          "text": [
            "1.\n",
            "El primer término de la sucesión es -56\n",
            "2.\n",
            "La expresion es a(n) = -56 + (n-1)*4\n",
            "3.\n",
            "El termino que esta en la posicion 100 es 340\n",
            "4.\n",
            "La posicion que ocupa el número 1680 en la secuencia es 435\n"
          ]
        }
      ],
      "source": [
        "def c(n): return (n-1) * 4 - 56\n",
        "print(f'1.\\nEl primer término de la sucesión es {c(1)}')\n",
        "print(f'2.\\nLa expresion es a(n) = -56 + (n-1)*4')\n",
        "print(f'3.\\nEl termino que esta en la posicion 100 es {c(100)}')\n",
        "for i in range(500):\n",
        "    if c(i+1) == 1680:\n",
        "        numberIN = i+1\n",
        "print(f'4.\\nLa posicion que ocupa el número 1680 en la secuencia es {numberIN}')\n"
      ]
    },
    {
      "cell_type": "markdown",
      "metadata": {
        "id": "gFYqGSbdqoqT"
      },
      "source": [
        "# Problema 9"
      ]
    },
    {
      "cell_type": "markdown",
      "metadata": {
        "id": "UtblbNCYqxOM"
      },
      "source": [
        "El tercer término de una sucesión geométrica es $5$ y el sexto término es $40$. Determine:\n",
        "\n",
        "1. La razón geométrica de la sucesión.\n",
        "2. El primer término de la sucesión.\n",
        "3. La expresión del término de lugar $n$.\n",
        "4. Utilice un código en *Python* para calcular el término que ocupa el lugar $8$.\n",
        "4. ¿Qué lugar ocupa en esta sucesión el término $20.480$? Calcule utilizando un ciclo *while*."
      ]
    },
    {
      "cell_type": "code",
      "execution_count": 7,
      "metadata": {},
      "outputs": [
        {
          "name": "stdout",
          "output_type": "stream",
          "text": [
            "1.\n",
            "La razón geometrica de la sucesión es igual a 2\n",
            "2.\n",
            "El primer termino de la sucesión es 1.25\n",
            "3.\n",
            "La expresión de término lugar n es: bn = 1.25 * 2**(n-1)\n",
            "4.\n",
            "El termino que ocupa el lugar 8 de la sucesión es 160\n",
            "5.\n",
            "El lugar que ocupa el termino 20480 es en lugar 15\n"
          ]
        }
      ],
      "source": [
        "# Se dividen y despues se saca raiz de diferencia posicional\n",
        "print(f'1.\\nLa razón geometrica de la sucesión es igual a {(40/5)**(1/3):.0f}')\n",
        "# 5 = b1 * 2**(3-1)\n",
        "# print(5/4)\n",
        "def sucGeo(n): return 1.25 * 2**(n-1) \n",
        "print(f'2.\\nEl primer termino de la sucesión es {sucGeo(1)}')\n",
        "print('3.\\nLa expresión de término lugar n es: bn = 1.25 * 2**(n-1)')\n",
        "print(f'4.\\nEl termino que ocupa el lugar 8 de la sucesión es {sucGeo(8):.0f}')\n",
        "for i in range(20):\n",
        "    n = i + 1\n",
        "    if sucGeo(n) == 20480:\n",
        "        savedN = n\n",
        "\n",
        "print(f'5.\\nEl lugar que ocupa el termino 20480 es en lugar {savedN}')"
      ]
    },
    {
      "cell_type": "markdown",
      "metadata": {
        "id": "Ju4J8uWfxQKk"
      },
      "source": [
        "# Problema 10"
      ]
    },
    {
      "cell_type": "markdown",
      "metadata": {
        "id": "F6FPVCXQxTMj"
      },
      "source": [
        "Una empresa de tecnología está optimizando sus servidores. Para ello, mide cada mes las transacciones por segundo (TPS) de sus servidores. Se ha obtenido que el segundo mes, el rendimiento del servidor es $1,2$ miles de TPS y el quinto mes, el rendimiento es de $2,7$ miles de TPS. Determina utilizando un código en *Python*:\n",
        "\n",
        "1. ¿Cuál es el rendimiento el noveno mes?\n",
        "2. ¿En qué mes el rendimiento es de $23,4$ miles de TPS?\n",
        "\n",
        "Utilice dos decimales para el cálculo."
      ]
    },
    {
      "cell_type": "markdown",
      "metadata": {
        "id": "jxQyaJXUCW7m"
      },
      "source": [
        "# Problema 11"
      ]
    },
    {
      "cell_type": "markdown",
      "metadata": {
        "id": "8LdxsBUwDfbf"
      },
      "source": [
        "Una aplicación de redes sociales inició el $1$ de enero y comenzó a ganar usuarios rápidamente. El $3$ de enero tenía $500$ usuarios y el $10$ de enero tenía $1.501$ usuarios. Si el número de usuarios sigue creciendo de manera constante, determine:\n",
        "\n",
        "1. ¿Con cuántos usuarios comenzó a funcionar la aplicación?\n",
        "2. ¿Cuántos usuarios tendrá la aplicación el $31$ de enero?\n",
        "3. Si la aplicación tiene $5.505$ usuarios, ¿cuántos meses lleva funcionando?\n",
        "\n"
      ]
    },
    {
      "cell_type": "code",
      "execution_count": 14,
      "metadata": {},
      "outputs": [
        {
          "name": "stdout",
          "output_type": "stream",
          "text": [
            "1.\n",
            "La aplicación inicio con 214 usuarios\n",
            "2.\n",
            "Para el 31 de enero la aplicacion tendra 4504 usuarios\n",
            "38\n"
          ]
        }
      ],
      "source": [
        "#print((1501-500)/7)\n",
        "print(f'1.\\nLa aplicación inicio con {500-(143*2)} usuarios')\n",
        "def usuariosRedSocial(n): return (n-1)*143 + 214\n",
        "print(f'2.\\nPara el 31 de enero la aplicacion tendra {usuariosRedSocial(31)} usuarios')\n",
        "for i in range(50):\n",
        "    n = i + 1\n",
        "    if usuariosRedSocial(n) == 5505:\n",
        "        savedN = n\n",
        "\n",
        "print(f'3.\\nLa aplicacion al tener 5505 usuarios ha estado funcionando por {savedN} dias, o un mes con 7 dias')"
      ]
    },
    {
      "cell_type": "markdown",
      "metadata": {
        "id": "zBN3BhYVLLSe"
      },
      "source": [
        "# Problema 12"
      ]
    },
    {
      "cell_type": "markdown",
      "metadata": {
        "id": "kszkhh_GLQN1"
      },
      "source": [
        "Una empresa de publicidad ofrece para un puesto de trabajo un salario inicial y un aumento mensual en una razón constante. Javier se presenta a la entrevista, y el encargado del departamento de recursos humanos le explica que en el segundo mes de trabajo su sueldo será de $\\$402.000$, y que en el tercer mes de trabajo será de $\\$404.010$. Determine:\n",
        "\n",
        "1. El salario aproximado que Javier recibiría en el décimo mes de trabajo en la empresa.\n",
        "2. ¿Cuál sería el ingreso total recibido por los sueldos de Javier durante el tercer año de trabajo?"
      ]
    },
    {
      "cell_type": "markdown",
      "metadata": {
        "id": "-lx5k4b9Y8sD"
      },
      "source": [
        "# Problema 13"
      ]
    },
    {
      "cell_type": "markdown",
      "metadata": {
        "id": "OVuWQuXsY_pp"
      },
      "source": [
        "Una empresa de ciberseguridad capacita trabajadores cada trimestre. En el primer trimestre capacitaron a $30$ trabajadores, en el segundo trimestre a $60$ trabajadores, y en el tercer trimestre a $120$ trabajadores. Si en los siguientes trimestres la empresa mantiene el mismo patrón de crecimiento, determine utilizando *Python*:\n",
        "\n",
        "1. ¿A cuántos trabajadores capacitarán en el octavo trimestre?\n",
        "2. Si la empresa lleva en el mercado $3$ años, ¿a cuántos trabajadores han capacitado en total?"
      ]
    },
    {
      "cell_type": "markdown",
      "metadata": {
        "id": "IM7Xf51G6AXs"
      },
      "source": [
        "# Problema 14"
      ]
    },
    {
      "cell_type": "markdown",
      "metadata": {
        "id": "Ni_4WMQl6OeV"
      },
      "source": [
        "Al llenar un tambor con agua, se registra que durante el minuto $4$ el tambor recibe $128$ litros, y durante el minuto $9$ recibe $88$ litros. Sabiendo que en cada minuto recibe una cantidad $d$ de litros de agua menos que en el minuto anterior, determine:\n",
        "\n",
        "1. ¿En qué instante el tambor deja de recibir agua?\n",
        "2. ¿Cuántos litros recibe en total el tambor?\n",
        "\n",
        "Realice los cálculos anteriores utilizando *Python*."
      ]
    }
  ],
  "metadata": {
    "colab": {
      "provenance": []
    },
    "kernelspec": {
      "display_name": "Python 3",
      "name": "python3"
    },
    "language_info": {
      "codemirror_mode": {
        "name": "ipython",
        "version": 3
      },
      "file_extension": ".py",
      "mimetype": "text/x-python",
      "name": "python",
      "nbconvert_exporter": "python",
      "pygments_lexer": "ipython3",
      "version": "3.11.9"
    }
  },
  "nbformat": 4,
  "nbformat_minor": 0
}
