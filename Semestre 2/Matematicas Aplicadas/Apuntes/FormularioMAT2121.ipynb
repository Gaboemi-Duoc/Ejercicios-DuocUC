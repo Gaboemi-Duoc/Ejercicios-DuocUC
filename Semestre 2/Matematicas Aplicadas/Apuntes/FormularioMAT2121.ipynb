{
  "cells": [
    {
      "cell_type": "markdown",
      "metadata": {
        "id": "UnsrpCjkiniX"
      },
      "source": [
        "# Formulario Python para MAT2121"
      ]
    },
    {
      "cell_type": "markdown",
      "metadata": {
        "id": "Dip8086Vinii"
      },
      "source": [
        "## Importar bibliotecas o librerías"
      ]
    },
    {
      "cell_type": "code",
      "execution_count": null,
      "metadata": {
        "id": "mDf_dA-1inij"
      },
      "outputs": [],
      "source": [
        "import numpy\n",
        "import matplotlib.pyplot as pyplot\n",
        "from scipy.optimize import fsolve\n"
      ]
    },
    {
      "cell_type": "markdown",
      "metadata": {
        "id": "0-NrtUljinim"
      },
      "source": [
        "## Manipulación de listas"
      ]
    },
    {
      "cell_type": "code",
      "execution_count": null,
      "metadata": {
        "id": "pviCnh_cinin"
      },
      "outputs": [],
      "source": [
        "lista = [1, 2, 3, 4]\n",
        "primer_elemento = lista[0] #Muestra el 1\n",
        "ultimo_eleneto = lista[-1] #Muestra el 4"
      ]
    },
    {
      "cell_type": "markdown",
      "metadata": {
        "id": "Tj6wAVY8inin"
      },
      "source": [
        "## Definición de una función"
      ]
    },
    {
      "cell_type": "code",
      "execution_count": null,
      "metadata": {
        "id": "aToPJTwEinio"
      },
      "outputs": [],
      "source": [
        "def suma(a, b):\n",
        "    return a + b"
      ]
    },
    {
      "cell_type": "markdown",
      "metadata": {
        "id": "8QauJmK-inip"
      },
      "source": [
        "## Llamar a una función"
      ]
    },
    {
      "cell_type": "code",
      "execution_count": null,
      "metadata": {
        "id": "VWsmxQ_Uiniq"
      },
      "outputs": [],
      "source": [
        "resultado = suma(3, 4) # el valor de resultado será 7"
      ]
    },
    {
      "cell_type": "markdown",
      "metadata": {
        "id": "aVZy4GjCinir"
      },
      "source": [
        "## Graficar una función"
      ]
    },
    {
      "cell_type": "code",
      "execution_count": null,
      "metadata": {
        "id": "wvsjeqmpinir"
      },
      "outputs": [],
      "source": [
        "import numpy as np\n",
        "import matplotlib.pyplot as plt\n",
        "\n",
        "def f(x):\n",
        "    return # función a graficar\n",
        "\n",
        "x = np.arange(valor inicial, valor final, paso)\n",
        "plt.plot(x, f(x), color='....')\n",
        "plt.title('Nombre del gráfico')\n",
        "plt.ylabel('Nombre eje y')\n",
        "plt.xlabel('Nombre eje x')\n",
        "plt.text(coordenada x,cordenada y,\"f(x)= ..... \", color='...')\n",
        "plt.grid(True)\n",
        "plt.legend()\n",
        "plt.show()"
      ]
    },
    {
      "cell_type": "markdown",
      "metadata": {
        "id": "zHHFuh3ginis"
      },
      "source": [
        "## Encontrar raíces de una función"
      ]
    },
    {
      "cell_type": "code",
      "execution_count": null,
      "metadata": {
        "id": "-9N8W-MAinis"
      },
      "outputs": [],
      "source": [
        "import numpy as np\n",
        "from scipy.optimize import fsolve\n",
        "\n",
        "def f(x):\n",
        "    return #'función igualada a cero'\n",
        "\n",
        "#Valor/es inicial/es de la aproximación\n",
        "xo = np.linspace(valor inicial, valor final, cantidad de valores del arreglo)\n",
        "solucion = fsolve(f, xo)\n",
        "print(solucion[0])"
      ]
    },
    {
      "cell_type": "markdown",
      "metadata": {
        "id": "9F7QxXv6init"
      },
      "source": [
        "## Encontrar forma algebraica de una función lineal"
      ]
    },
    {
      "cell_type": "code",
      "execution_count": null,
      "metadata": {
        "id": "LaPsq9tQinit"
      },
      "outputs": [],
      "source": [
        "x = np.array([valor 1, valor 2, valor 3, …, valor n])\n",
        "y = np.array([valor 1, valor 2, valor 3, …, valor n])\n",
        "#Si la función es de grado 1\n",
        "pendiente, intercepto = np.polyfit(x, y, 1)\n",
        "# En pantalla muestra el resultado de la pendiente de\n",
        "# la función lineal asociada\n",
        "print(f'La pendiente es {round(pendiente,2)}')\n",
        "print(f'El coeficiente de posición es {round(intercepto,2)}')\n",
        "print(f'La función es y = {round(pendiente,2)} * x + {round(intercepto,2)}')\n"
      ]
    },
    {
      "cell_type": "markdown",
      "metadata": {
        "id": "mhbyAooFshf4"
      },
      "source": [
        "## Punto de Intersección entre dos funciones f(x) y g(x)"
      ]
    },
    {
      "cell_type": "code",
      "execution_count": null,
      "metadata": {
        "id": "rHEGKgM1rlFG"
      },
      "outputs": [],
      "source": [
        "import numpy as np\n",
        "from scipy.optimize import fsolve\n",
        "# Definiendo la función igualada a cero\n",
        "def interseccion(x):\n",
        "  return f(x)-g(x)\n",
        "\n",
        "x = np.linspace(inicio, fin, intervalo)\n",
        "\n",
        "solucion = np.round(fsolve(interseccion, x), decimals = 1)\n",
        "\n",
        "# np.unique() permite eliminar las soluciones repetidas\n",
        "\n",
        "variable = np.unique(solucion)\n",
        "\n",
        "print(f'El(los) punto(s) de intersección de las funciones está(n) en x = {variable}')"
      ]
    },
    {
      "cell_type": "markdown",
      "metadata": {
        "id": "o5dGeyaItVg6"
      },
      "source": [
        "##  Cómo agregar elementos a una Lista"
      ]
    },
    {
      "cell_type": "code",
      "execution_count": null,
      "metadata": {
        "id": "IoteL0vOtBGt"
      },
      "outputs": [],
      "source": [
        "b = list()\n",
        "for i in range (6):\n",
        "  n=i+10\n",
        "  b.append(5*0.92**n)\n",
        "  print(f'b_{n}={b[i]}')"
      ]
    },
    {
      "cell_type": "code",
      "execution_count": null,
      "metadata": {
        "id": "fTct17dZtuku"
      },
      "outputs": [],
      "source": [
        "ejercicios = []\n",
        "a_1 = 3\n",
        "d = 2\n",
        "for i in range(10):\n",
        "  n = i+1\n",
        "  ejercicios.append(a_1+(n-1)*d)\n",
        "suma = sum(ejercicios)\n",
        "# Esta función permite sumar todos los elementos\n",
        "# de la lista \"ejercicios\"\n",
        "print(f'Agustin llevará desarrollado {suma} ejercicios al décimo día')"
      ]
    },
    {
      "cell_type": "markdown",
      "metadata": {
        "id": "qybhDuPOuRbl"
      },
      "source": [
        "## Matrices"
      ]
    },
    {
      "cell_type": "markdown",
      "metadata": {
        "id": "Fto-izFAuj88"
      },
      "source": [
        "<br>\n",
        "\n",
        "\\begin{split}\n",
        "A = \\begin{pmatrix}\n",
        " 6 &  7  \\\\\n",
        " 1 &  8 \\\\\n",
        " 4 &  5 \\\\\n",
        "\\end{pmatrix} \\text{ }\n",
        "\\end{split}\n",
        "\n",
        "<br>"
      ]
    },
    {
      "cell_type": "code",
      "execution_count": null,
      "metadata": {
        "id": "jeX2eig7uMft"
      },
      "outputs": [],
      "source": [
        "B = [[6,7], [1,8], [4,5]]"
      ]
    },
    {
      "cell_type": "markdown",
      "metadata": {
        "id": "4oBQR1QxwGg-"
      },
      "source": [
        "## Matriz transpuesta"
      ]
    },
    {
      "cell_type": "markdown",
      "metadata": {
        "id": "8hybCRt4wYco"
      },
      "source": [
        "<br>\n",
        "\n",
        "\\begin{split}\n",
        "A = \\begin{pmatrix}\n",
        " 6 &  7  \\\\\n",
        " 1 &  8 \\\\\n",
        " 4 &  5 \\\\\n",
        "\\end{pmatrix} \\text{ }\n",
        "\\end{split}\n",
        "\n",
        "\\begin{split}\n",
        "AT = \\begin{pmatrix}\n",
        " 6 &  1 &  4 \\\\\n",
        " 7&  8 &  5\\\\\n",
        "\\\\\n",
        "\\end{pmatrix} \\text{ }\n",
        "\\end{split}\n",
        "\n",
        "<br>"
      ]
    },
    {
      "cell_type": "code",
      "execution_count": null,
      "metadata": {
        "id": "vHjRN3DoxvvZ"
      },
      "outputs": [],
      "source": [
        "for i in range(len(At)):\n",
        "# y ahora por las columnas de la transpuesta\n",
        "for j in range(len(At[0])):\n",
        "  # escribimos los ´ındices \"al revés\"\n",
        "  At[i][j] = A[j][i]\n",
        "print(At)"
      ]
    }
  ],
  "metadata": {
    "colab": {
      "provenance": []
    },
    "kernelspec": {
      "display_name": "Python 3",
      "language": "python",
      "name": "python3"
    },
    "language_info": {
      "name": "python",
      "version": "3.11.9"
    }
  },
  "nbformat": 4,
  "nbformat_minor": 0
}
