{
  "cells": [
    {
      "cell_type": "markdown",
      "metadata": {
        "id": "UCCOMbmnLfHY"
      },
      "source": [
        "# Problema 1"
      ]
    },
    {
      "cell_type": "markdown",
      "metadata": {
        "id": "AHPLM97ONSwR"
      },
      "source": [
        "La fábrica de bicicletas Expend produce dos modelos de bicicletas, $M$ y $N$. La matriz $A$ nos indica las cantidades de acero y aluminio que requiere cada bicicleta, expresadas en kg según el modelo a producir, mientras que la matriz $B$ nos entrega un reporte de la cantidad de bicicletas producidas de ambos modelos para los dos primeros meses del año pasado.\n",
        "\n",
        "<br>\n",
        "\n",
        "\\begin{equation*}\n",
        "\\begin{matrix}\n",
        "& \\begin{matrix}\n",
        " & \\ \\ \\ \\  M & N\n",
        "\\end{matrix}  \\\\\n",
        "&A= \\begin{pmatrix}\n",
        "1 & 2 \\\\\n",
        "3 & 2 \\\\\n",
        "\\end{pmatrix} & \\ \\begin{matrix}\n",
        "Acero\\\\\n",
        "Aluminio\n",
        "\\end{matrix}\\\\\n",
        "\\end{matrix}\n",
        "\\ \\ \\ \\ \\ \\ \\ \\ \\ \\ \\ \\ \\ \\\n",
        "\\begin{matrix}\n",
        "& \\begin{matrix}\n",
        "& \\ \\ \\ \\ \\ \\ \\ ene & feb &\n",
        "\\end{matrix} & \\\\\n",
        "&B= \\begin{pmatrix}\n",
        "290 &  312 \\\\\n",
        " 345 &  413 \\\\\n",
        "\\end{pmatrix} & \\begin{matrix}\n",
        "M\\\\\n",
        "N\n",
        "\\end{matrix}\\\\\n",
        "\\end{matrix}\n",
        "\\end{equation*}\n",
        "\n",
        "<br>\n",
        "\n",
        "1. Indique el orden de cada matriz. ¿Es posible determinar la multiplicación entre ambas matrices? Justifique.\n",
        "2. Determine utilizando *Python* la matriz $C = A \\cdot B$\n",
        "3. Indique e interprete el valor de los elementos $c_{21}$ y $c_{11}$."
      ]
    },
    {
      "cell_type": "code",
      "execution_count": 5,
      "metadata": {},
      "outputs": [
        {
          "name": "stdout",
          "output_type": "stream",
          "text": [
            "1. El orden de ambas Matrices es de 2x2 (2 filas, 2 columnas). \n",
            "\n",
            "2. La matriz C = A x B es: \n",
            "\n",
            "[[ 980 1138]\n",
            " [1560 1762]]\n",
            "\n",
            "\n",
            "3. C 2, 1 significa que se usaron 1560 kg de Aluminio en el mes de Enero\n",
            "   C 1, 1 significa que se usaron 980 kg de Acero en el mes de Enero\n"
          ]
        }
      ],
      "source": [
        "import numpy\n",
        "\n",
        "print('1. El orden de ambas Matrices es de 2x2 (2 filas, 2 columnas), es posible multiplicar ambas matrices ya que comparten ordenes \\n')\n",
        "\n",
        "A = numpy.array([ # MN x Ac Al\n",
        "    [1,2],\n",
        "    [3,2]\n",
        "])\n",
        "\n",
        "B = numpy.array([ # Ene Feb x MN\n",
        "    [290, 312],\n",
        "    [345, 413]\n",
        "])\n",
        "\n",
        "C = numpy.dot(A,B) # C = AxB\n",
        "# Ene Feb x Ac Al\n",
        "\n",
        "print(f'2. La matriz C = A x B es: \\n\\n{C}\\n\\n')\n",
        "print(f'3. C 2, 1 significa que se usaron {C[1][0]} kg de Aluminio en el mes de Enero')\n",
        "print(f'   C 1, 1 significa que se usaron {C[0][0]} kg de Acero en el mes de Enero')\n"
      ]
    },
    {
      "cell_type": "markdown",
      "metadata": {
        "id": "-RrxIa0hnYzC"
      },
      "source": [
        "# Problema 2"
      ]
    },
    {
      "cell_type": "markdown",
      "metadata": {
        "id": "ZZrsGY3JnYzD"
      },
      "source": [
        "Una pequeña cadena tiene restaurantes de comida rápida en Santiago, Concepción y Antofagasta, en los que vende hamburguesas, completos y mateadas. En un fin de semana, las cantidades de cada comida según cada sucursal se distribuyeron de acuerdo con la siguiente matriz $V$, donde las filas corresponden a los productos y las columnas a las sucursales, mientras que los precios, en pesos, de cada producto están expresados en la matriz $P$.\n",
        "\n",
        "<br>\n",
        "\n",
        "\\begin{split}\n",
        "V &= \\begin{pmatrix}\n",
        " 1300 &  900  &  800  \\\\\n",
        " 2100 &  1700 &  1500 \\\\\n",
        " 1500 &  1200 &  900  \\\\\n",
        "\\end{pmatrix}\\\\\n",
        "\\\\\n",
        "P &= \\begin{pmatrix}\n",
        " 4200 &  1500 & 3200 \\\\\n",
        "\\end{pmatrix}\n",
        "\\end{split}\n",
        "\n",
        "<br>\n",
        "\n",
        "Si $I = P \\cdot V$\n",
        "\n",
        "1. Indique el orden de cada matriz.\n",
        "2. Determine utilizando *Python* la matriz $I$.\n",
        "3. Indique e interprete el valor de los elementos $v_{32}$, $p_{12}$ e $i_{13}$."
      ]
    },
    {
      "cell_type": "code",
      "execution_count": 9,
      "metadata": {},
      "outputs": [
        {
          "name": "stdout",
          "output_type": "stream",
          "text": [
            "1. El orden de la Matriz V es de 3x3, mientras que el orden de la Matriz P es de 1x3\n",
            "2. La Matriz I = P * V es: \n",
            "\n",
            "[[13410000 10170000  8490000]]\n",
            "\n",
            "\n",
            "3. V 3, 2 significa que se vendieron 1200 malteadas en Concepcion.\n",
            "   P 1, 2 significa que el precio del completo es de $1500 pesos.\n",
            "   I 1, 3 significa que las ganancias conseguidas en Concepcion es de $8490000 pesos.\n"
          ]
        }
      ],
      "source": [
        "import numpy\n",
        "\n",
        "V = numpy.array([ # Comida x Sucursal\n",
        "    [1300,  900,  800],\n",
        "    [2100, 1700, 1500],\n",
        "    [1500, 1200,  900]\n",
        "])\n",
        "\n",
        "P = numpy.array([ # Precio x Comida\n",
        "    [4200, 1500, 3200]\n",
        "])\n",
        "\n",
        "print('1. El orden de la Matriz V es de 3x3, mientras que el orden de la Matriz P es de 1x3')\n",
        "\n",
        "I = numpy.dot(P,V) # Precio x Sucursal\n",
        "\n",
        "print(f'2. La Matriz I = P * V es: \\n\\n{I}\\n\\n')\n",
        "\n",
        "print(f'3. V 3, 2 significa que se vendieron {V[2][1]} malteadas en Concepcion.')\n",
        "print(f'   P 1, 2 significa que el precio del completo es de ${P[0][1]} pesos.')\n",
        "print(f'   I 1, 3 significa que las ganancias conseguidas en Concepcion es de ${I[0][2]} pesos.')"
      ]
    },
    {
      "cell_type": "markdown",
      "metadata": {
        "id": "alV0X-YntESs"
      },
      "source": [
        "# Problema 3"
      ]
    },
    {
      "cell_type": "markdown",
      "metadata": {
        "id": "zFKFesabtL6N"
      },
      "source": [
        "Una fábrica, para un mismo tipo de artículo eléctrico produce $2$ modelos, $A$ y $B$. Las filas de la matriz $M$, en el orden mencionado, nos muestran la cantidad de transistores y resistores que se requieren por cada artículo, según cada modelo. Por otra parte, las filas de la matriz $Q$ nos reportan las cantidades producidas de cada modelo para las tres primeras semanas del mes pasado.\n",
        "\n",
        "<br>\n",
        "\n",
        "\\begin{split}\n",
        "M = \\begin{pmatrix}\n",
        " 9 &  14 \\\\\n",
        " 4 &  5  \\\\\n",
        "\\end{pmatrix} \\ \\ \\ \\ \\ \\ \\ \\ Q = \\begin{pmatrix}\n",
        " 200 &  240 & 220 \\\\\n",
        " 175 &  210 & 215 \\\\\n",
        "\\end{pmatrix}\n",
        "\\end{split}\n",
        "\n",
        "<br>\n",
        "\n",
        "Además, considere las matrices $G = M \\cdot Q$ y $H = Q \\cdot M$.\n",
        "\n",
        "1. Indique el orden de $M$ y $Q$.\n",
        "2. ¿Es posible calcular las matrices $G$ y $H$? Justifique.\n",
        "3. Determine utilizando *Python* la matriz $G$ e interprete los elementos $g_{23}$  y $g_{12}$.\n",
        "4. ¿Cuántos resistores se utilizaron durante las tres semanas?"
      ]
    },
    {
      "cell_type": "code",
      "execution_count": 13,
      "metadata": {},
      "outputs": [
        {
          "name": "stdout",
          "output_type": "stream",
          "text": [
            "1. El orden de la Matriz M es de 2x2 y el orden de la Matriz Q es de 2x3. \n",
            "\n",
            "2. Es posible calcular G, pero no H, debido a que el numero de columna de la primera matriz debe ser igual al numero de filas de la segunda matriz.\n",
            "3. La Matriz G = M * Q es \n",
            "\n",
            "[[4250 5100 4990]\n",
            " [1675 2010 1955]]\n",
            "\n",
            "   G 2, 3 significa la cantidad de Resistores producidas para la semana 3, estan siendo 1955 producidas.\n",
            "   G 1, 2 significa la cantidad de Transistores producidas para la semana 2, estan siendo 5100 producidas.\n"
          ]
        }
      ],
      "source": [
        "import numpy\n",
        "\n",
        "M = numpy.array([ # Transistores Resistores x Modelos A B\n",
        "    [9, 14],\n",
        "    [4,  5]\n",
        "])\n",
        "\n",
        "Q = numpy. array([ # Modelos A B x Semana 1 2 3\n",
        "    [200, 240, 220],\n",
        "    [175, 210, 215]\n",
        "])\n",
        "\n",
        "print('1. El orden de la Matriz M es de 2x2 y el orden de la Matriz Q es de 2x3. \\n')\n",
        "\n",
        "print('2. Es posible calcular G, pero no H, debido a que el numero de columna de la primera matriz debe ser igual al numero de filas de la segunda matriz.')\n",
        "\n",
        "G = numpy.dot(M,Q) # Transistores Resistores X Semana 1 2 3\n",
        "# H = numpy.dot(Q,M)\n",
        "\n",
        "print(f'3. La Matriz G = M * Q es \\n\\n{G}\\n')\n",
        "print(f'   G 2, 3 significa la cantidad de Resistores producidas para la semana 3, estan siendo {G[1][2]} producidas.')\n",
        "print(f'   G 1, 2 significa la cantidad de Transistores producidas para la semana 2, estan siendo {G[0][1]} producidas.')"
      ]
    },
    {
      "cell_type": "markdown",
      "metadata": {
        "id": "rSgW5H3l0MGI"
      },
      "source": [
        "# Problema 4"
      ]
    },
    {
      "cell_type": "markdown",
      "metadata": {
        "id": "AtetJk0N5mKL"
      },
      "source": [
        "Una empresa de telecomunicaciones necesita optimizar la distribución de su infraestructura de red en Iquique, Santiago y Concepción. Las columnas de la matriz $R$, en el orden mencionado, representan la cantidad de routers y switches que se deben instalar en cada ciudad. La matriz $C$ muestra el costo de instalación, en pesos, de cada router y switch.\n",
        "\n",
        "<br>\n",
        "\n",
        "\\begin{split}\n",
        "R = \\begin{pmatrix}\n",
        " 50 &  70 \\\\\n",
        " 80 &  110  \\\\\n",
        " 60 &  90  \\\\\n",
        "\\end{pmatrix} \\ \\ \\ \\ \\ \\ C = \\begin{pmatrix}\n",
        " 80000 \\\\\n",
        " 45000 \\\\\n",
        "\\end{pmatrix}\n",
        "\\end{split}\n",
        "\n",
        "<br>\n",
        "\n",
        "1. Calcula utilizando *Python* el costo total de instalación para cada ciudad y almacénalo en la matriz $T$.\n",
        "2. ¿Cuál es la ciudad que tiene mayor costo de instalación?\n",
        "3. Si se aplica un descuento del $10\\%$ en el costo de instalación de los switches, calcula el nuevo costo total de instalación para cada ciudad."
      ]
    },
    {
      "cell_type": "code",
      "execution_count": null,
      "metadata": {},
      "outputs": [],
      "source": [
        "import numpy\n",
        "\n",
        "R = numpy.array([ # Santiago Iquique Concepcion x Routers Switch\n",
        "    [50,  70],\n",
        "    [80, 100],\n",
        "    [60,  90]\n",
        "])\n",
        "\n",
        "C = numpy.array([ # Router Switch x Costo\n",
        "    [80000],\n",
        "    [45000]\n",
        "])"
      ]
    },
    {
      "cell_type": "markdown",
      "metadata": {
        "id": "BApBYmuW1Gpj"
      },
      "source": [
        "# Problema 5"
      ]
    },
    {
      "cell_type": "markdown",
      "metadata": {
        "id": "ZLyggtwj1I58"
      },
      "source": [
        "Una empresa de servicios en la nube distribuye datos entre tres *Data Center*. La matriz $D$ muestra el volumen de datos (en terabytes) almacenados en cada *Data Center* durante los tres primeros meses del año. Mientras que la matriz $C$ muestra los costos (en dólares) de almacenamiento por terabyte en cada *Data Center*.\n",
        "\n",
        "<br>\n",
        "\n",
        "\\begin{equation*}\n",
        "\\begin{matrix}\n",
        "& \\begin{matrix}\n",
        "& \\ \\ \\ \\ \\ \\ \\ DC_{1} &   DC_{2} & DC_{3}&\n",
        "\\end{matrix} & \\\\\n",
        "&D = \\begin{pmatrix}\n",
        "100 & 150 & 200 \\\\\n",
        "120 & 180 & 220 \\\\\n",
        "140 & 210 & 250\n",
        "\\end{pmatrix} & \\begin{matrix}\n",
        "Ene\\\\\n",
        "Feb\\\\\n",
        "Mar\n",
        "\\end{matrix}\n",
        "\\end{matrix}\n",
        "\\ \\ \\ \\ \\ \\ \\ \\ \\ \\ \\ \\ \\ \\\n",
        "\\begin{matrix}\n",
        "& \\begin{matrix}\n",
        "\\   \n",
        "\\end{matrix} & \\\\\n",
        "&C = \\begin{pmatrix}\n",
        "50 \\\\\n",
        "40 \\\\\n",
        "30\n",
        "\\end{pmatrix}  \\begin{matrix}\n",
        "DC_{1}\\\\\n",
        "DC_{2}\\\\\n",
        "DC_{3}\n",
        "\\end{matrix}\\\\\n",
        "\\end{matrix}\n",
        "\\end{equation*}\n",
        "\n",
        "<br>\n",
        "\n",
        "1. Calcula utilizando *Python* la matriz $T = D \\cdot C$.\n",
        "2. Un trabajador indica que en febrero el costo por almacenamiento fue el más alto, ¿es cierta su afirmación?\n",
        "3. Debido a la inflación, el costo de almacenamiento por terabyte aumenta en un $2,3\\%$. Calcula el nuevo costo total de almacenamiento por mes e interprete cada uno de los elementos de la nueva matriz."
      ]
    },
    {
      "cell_type": "markdown",
      "metadata": {
        "id": "Jpe3sG3sHvmD"
      },
      "source": [
        "# Problema 6"
      ]
    },
    {
      "cell_type": "markdown",
      "metadata": {
        "id": "gE8Q3mwKHxhj"
      },
      "source": [
        "Una compañía que fabrica un determinado producto, tiene $4$ plantas de producción y $5$ bodegas de almacenamiento. La matriz $T$ muestra las unidades de este producto que se generan mensualmente en la planta $i$ y que son transportadas a la bodega $j$, para quedar almacenadas allí durante el mes en que fueron producidas.\n",
        "\n",
        "Además, la matriz $C$ detalla, para el primer semestre del presente año, el costo unitario (en dólares) de almacenamiento del producto durante el mes $j$ en la bodega $i$.\n",
        "\n",
        "<br>\n",
        "\n",
        "\\begin{split}\n",
        "T = \\begin{pmatrix}\n",
        " 500 &  400  &  300 & 200 & 100 \\\\\n",
        " 600 &  500  &  400 & 300 & 200 \\\\\n",
        " 700 &  600  &  500 & 400 & 300 \\\\\n",
        " 800 &  700  &  600 & 500 & 400 \\\\\n",
        "\\end{pmatrix} \\ \\ \\ \\ \\ \\ C = \\begin{pmatrix}\n",
        " 5 &  6  &  7 &  8  &  9 & 6 \\\\\n",
        " 4 &  5  &  6 &  7  &  8 & 7 \\\\\n",
        " 3 &  4  &  5 &  6  &  7 & 9 \\\\\n",
        " 2 &  3  &  4 &  5  &  6 & 6 \\\\\n",
        " 8 &  5  &  6 &  3  &  7 & 5 \\\\\n",
        "\\end{pmatrix}\n",
        "\\end{split}\n",
        "\n",
        "<br>\n",
        "\n",
        "1. Determina la matriz $G = T \\cdot C$.\n",
        "2. Interpreta los elementos $t_{14}$, $c_{53}$ y $g_{35}$.\n",
        "3. ¿Cuánto cuesta almacenar una unidad del producto en la bodega $4$ durante marzo de este año?\n",
        "4. ¿Cuánto dinero gasta la empresa por almacenar la producción mensual de la planta $2$ durante el mes de abril?\n"
      ]
    },
    {
      "cell_type": "markdown",
      "metadata": {
        "id": "xDI75W2xzvrM"
      },
      "source": [
        "# Problema 7"
      ]
    },
    {
      "cell_type": "markdown",
      "metadata": {
        "id": "lNCVWxWhz7-L"
      },
      "source": [
        "Una empresa dedicada al desarrollo de software, que cuenta con tres sucuersales, necesita renovar los siguientes implementos para su personal: laptop de alto rendimiento, monitor externo de alta resolución, teclado mecánico, mouse ergonómico y disco duro de alta capacidad. Para esto, decide cotizar con tres proveedores y así encontrar el precio más conveniente para realizar la compra. La matriz $F$, en el orden mencionado, indica la cantidad de artículos que necesita comprar para cada sucursal. La matriz $G$ indica el precio unitario (en miles de pesos) de cada producto por proveedor.\n",
        "\n",
        "<br>\n",
        "\n",
        "\\begin{split}\n",
        "F = \\begin{pmatrix}\n",
        " 7 &  6  &  15 & 17 & 18 \\\\\n",
        " 5 &  10  &  20 & 13 & 12 \\\\\n",
        " 8 &  4  &  12 & 18 & 9 \\\\\n",
        "\\end{pmatrix} \\ \\ \\ \\ \\ \\ G = \\begin{pmatrix}\n",
        " 1700 &  1750 &  1800 \\\\\n",
        "  868 &  803  &  840  \\\\\n",
        "  165 &  160  &  150  \\\\\n",
        "  70  &  73  &   65   \\\\\n",
        "  110 &  124  &  115  \\\\\n",
        "\\end{pmatrix}\n",
        "\\end{split}\n",
        "\n",
        "<br>\n",
        "\n",
        "1. Calcula utilizando *Python* la matriz $D = F \\cdot G$.\n",
        "2. Interpreta los elementos $d_{33}$ y $d_{21}$.\n",
        "3. ¿Cuál es el proveedor más conveniente para realizar todas las compras?\n",
        "4. Si escoge el proveedor más conveniente, ¿en qué sucursal deberá invertir más dinero por la renovación de los implementos?"
      ]
    },
    {
      "cell_type": "markdown",
      "metadata": {
        "id": "9NADqkF9I2jz"
      },
      "source": [
        "# Problema 8"
      ]
    },
    {
      "cell_type": "markdown",
      "metadata": {
        "id": "GkqTrVluI5IR"
      },
      "source": [
        "Sea la matriz $A$:\n",
        "\n",
        "<br>\n",
        "\n",
        "\\begin{split}\n",
        "A = \\begin{pmatrix}\n",
        " 3 &  1  &  2 \\\\\n",
        " 1 &  2  &  1 \\\\\n",
        " 4 &  1  &  3 \\\\\n",
        "\\end{pmatrix}\n",
        "\\end{split}\n",
        "\n",
        "<br>\n",
        "\n",
        "1. Calcula, utilizando *Python*, la matriz $A^{-1}$.\n",
        "2. Calcula la matriz $I = A \\cdot A^{-1}$.\n",
        "3. Calcula la matriz $I^{-1}$. Analiza este resultado, comparando con los resultados obtenidos en los ítems anteriores. ¿Puedes encontrar alguna relación para estas matrices?"
      ]
    },
    {
      "cell_type": "markdown",
      "metadata": {
        "id": "69qgazcrO2AU"
      },
      "source": [
        "# Problema 9"
      ]
    },
    {
      "cell_type": "markdown",
      "metadata": {
        "id": "Iw6_2ghWvTJ_"
      },
      "source": [
        "1. Considera que el siguiente sistema de ecuaciones:\n",
        "\n",
        "<br>\n",
        "\n",
        "\\begin{split}\n",
        "2x + y & = 7 \\\\\n",
        "3x - 2y & = 21\n",
        "\\end{split}\n",
        "\n",
        "<br>\n",
        "\n",
        "$\\hspace{1cm}$ Se puede escribir matricialmente como:\n",
        "\n",
        "<br>\n",
        "\n",
        "\\begin{split}\n",
        "\\begin{pmatrix}\n",
        " 2  &  1 \\\\\n",
        " 3 & -2 \\\\\n",
        "\\end{pmatrix} \\cdot \\begin{pmatrix}\n",
        " x \\\\\n",
        " y \\\\\n",
        "\\end{pmatrix} = \\begin{pmatrix}\n",
        " 7 \\\\\n",
        " 21 \\\\\n",
        "\\end{pmatrix}\n",
        "\\end{split}\n",
        "\n",
        "<br>\n",
        "\n",
        "* Utiliza la matriz inversa para encontrar los valores de $x$ e $y$ que permiten satisfacer ambas ecuaciones simultáneamente.\n",
        "\n",
        "<br>\n",
        "\n",
        "2. Considera que el siguiente sistema de ecuaciones:\n",
        "\n",
        "<br>\n",
        "\n",
        "\\begin{split}\n",
        "h + m & = 60 \\\\\n",
        "0,16h + 0,2m & = 11\n",
        "\\end{split}\n",
        "\n",
        "<br>\n",
        "\n",
        "$\\hspace{1cm}$ Se puede escribir matricialmente como:\n",
        "\n",
        "<br>\n",
        "\n",
        "\\begin{split}\n",
        "\\begin{pmatrix}\n",
        " 1  &  1 \\\\\n",
        " 0,16 & 0,2 \\\\\n",
        "\\end{pmatrix} \\cdot \\begin{pmatrix}\n",
        " h \\\\\n",
        " m \\\\\n",
        "\\end{pmatrix} = \\begin{pmatrix}\n",
        " 60 \\\\\n",
        " 11 \\\\\n",
        "\\end{pmatrix}\n",
        "\\end{split}\n",
        "\n",
        "<br>\n",
        "\n",
        "* Utiliza la matriz inversa para encontrar los valores de $h$ y $m$ que permiten satisfacer el sistema de ecuaciones."
      ]
    },
    {
      "cell_type": "markdown",
      "metadata": {
        "id": "2t0kddN6afwB"
      },
      "source": [
        "# Problema 10"
      ]
    },
    {
      "cell_type": "markdown",
      "metadata": {
        "id": "UBNev_Aa3JFo"
      },
      "source": [
        "Considera los siguientes sistemas de ecuaciones:\n",
        "\n",
        "<br>\n",
        "\n",
        "**a)**\n",
        "\\begin{split}\n",
        "2m + 4p & = 2900 \\\\\n",
        "3m + 3p & = 3150\n",
        "\\end{split}\n",
        "<br>\n",
        "<br>\n",
        "**b)**\n",
        "\\begin{split}\n",
        "n + v & = 160 \\\\\n",
        "50n + 300v & = 23000\n",
        "\\end{split}\n",
        "\n",
        "<br>\n",
        "\n",
        "1. Escribe ambos sistemas de ecuaciones de forma matricial.\n",
        "1. Utiliza la matriz inversa para calcular las soluciones de ambos sistemas de ecuaciones.\n",
        "\n",
        "\n"
      ]
    },
    {
      "cell_type": "markdown",
      "metadata": {
        "id": "17CU2FNFdMUi"
      },
      "source": [
        "# Problema 11"
      ]
    },
    {
      "cell_type": "markdown",
      "metadata": {
        "id": "oCE7O-GwUfFp"
      },
      "source": [
        "Una persona tiene $\\$8000$ en monedas de $\\$10$ y de $50$. El sistema de ecuaciones que representa la situación es el siguiente:\n",
        "\n",
        "<br>\n",
        "\n",
        "\\begin{split}\n",
        "x + y & = 200 \\\\\n",
        "10x + 50y & = 8000\n",
        "\\end{split}\n",
        "\n",
        "<br>\n",
        "\n",
        "1. ¿Qué representa cada variable?\n",
        "2. Explica qué representa cada una de las ecuaciones del sistema.\n",
        "3. ¿Cuántas monedas de $\\$10$ y de $\\$50$ tiene?"
      ]
    },
    {
      "cell_type": "markdown",
      "metadata": {
        "id": "zO3T2HsmAag8"
      },
      "source": [
        "# Problema 12"
      ]
    },
    {
      "cell_type": "markdown",
      "metadata": {
        "id": "0dz7BgV4ayBZ"
      },
      "source": [
        "En una granja hay $132$ animales entre patos y vacas. En total hay $402$ patas. El sistema que modela la situación planteada es:\n",
        "\n",
        "<br>\n",
        "\n",
        "\\begin{split}\n",
        "p + v & = 132 \\\\\n",
        "2p + 4v & = 402\n",
        "\\end{split}\n",
        "\n",
        "<br>\n",
        "\n",
        "1. ¿Qué representan las incógnitas del sistema?\n",
        "2. ¿Cuántos patos hay?"
      ]
    },
    {
      "cell_type": "markdown",
      "metadata": {
        "id": "u4IT_mcqAc-h"
      },
      "source": [
        "# Problema 13"
      ]
    },
    {
      "cell_type": "markdown",
      "metadata": {
        "id": "OfPwXJUHs6hY"
      },
      "source": [
        "Luis compró $5$ cables USB y $6$ pendrives, en total canceló $\\$82.890$. Pablo compró a los mismos precios $3$ cables USB y $7$ pendrives, y canceló $\\$59.900$.\n",
        "\n",
        "El sistema que modela el problema es:\n",
        "\n",
        "<br>\n",
        "\n",
        "\\begin{split}\n",
        "5x + 6y &= 82890 \\\\\n",
        "3x +  7y &= 59900\n",
        "\\end{split}\n",
        "\n",
        "<br>\n",
        "\n",
        "\n",
        "1. ¿Qué representa cada incógnita en el contexto del problema?\n",
        "2. Determina cuánto pagaron por cada cable USB."
      ]
    }
  ],
  "metadata": {
    "colab": {
      "provenance": [],
      "toc_visible": true
    },
    "kernelspec": {
      "display_name": "Python 3",
      "name": "python3"
    },
    "language_info": {
      "codemirror_mode": {
        "name": "ipython",
        "version": 3
      },
      "file_extension": ".py",
      "mimetype": "text/x-python",
      "name": "python",
      "nbconvert_exporter": "python",
      "pygments_lexer": "ipython3",
      "version": "3.12.4"
    }
  },
  "nbformat": 4,
  "nbformat_minor": 0
}
